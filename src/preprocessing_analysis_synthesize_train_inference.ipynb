{
 "cells": [
  {
   "cell_type": "code",
   "execution_count": 0,
   "metadata": {
    "application/vnd.databricks.v1+cell": {
     "cellMetadata": {
      "byteLimit": 2048000,
      "rowLimit": 10000
     },
     "inputWidgets": {},
     "nuid": "6dc58b25-44a2-41d5-aa89-72faadbfa456",
     "showTitle": false,
     "title": ""
    }
   },
   "outputs": [],
   "source": [
    "from pyspark.sql.types import *\n",
    "import pyspark\n",
    "from pyspark.sql import SparkSession\n",
    "\n",
    "spark = SparkSession.builder.getOrCreate()"
   ]
  },
  {
   "cell_type": "markdown",
   "metadata": {
    "application/vnd.databricks.v1+cell": {
     "cellMetadata": {},
     "inputWidgets": {},
     "nuid": "113626ca-1072-4ca2-9818-ad8af3505a99",
     "showTitle": false,
     "title": ""
    }
   },
   "source": [
    "#Pre-processing"
   ]
  },
  {
   "cell_type": "code",
   "execution_count": 0,
   "metadata": {
    "application/vnd.databricks.v1+cell": {
     "cellMetadata": {
      "byteLimit": 2048000,
      "rowLimit": 10000
     },
     "inputWidgets": {},
     "nuid": "548e3867-ae5d-43db-8891-bd7ac334b9f5",
     "showTitle": false,
     "title": ""
    }
   },
   "outputs": [],
   "source": [
    "profiles_first = spark.read.parquet('/linkedin/people')"
   ]
  },
  {
   "cell_type": "code",
   "execution_count": 0,
   "metadata": {
    "application/vnd.databricks.v1+cell": {
     "cellMetadata": {
      "byteLimit": 2048000,
      "rowLimit": 10000
     },
     "inputWidgets": {},
     "nuid": "5bc81f55-885c-4d94-8b0d-ab3eaf093b61",
     "showTitle": false,
     "title": ""
    }
   },
   "outputs": [
    {
     "output_type": "stream",
     "name": "stdout",
     "output_type": "stream",
     "text": [
      "Out[3]: ['about',\n 'avatar',\n 'certifications',\n 'city',\n 'country_code',\n 'current_company',\n 'current_company:company_id',\n 'current_company:name',\n 'education',\n 'educations_details',\n 'experience',\n 'followers',\n 'following',\n 'groups',\n 'id',\n 'languages',\n 'name',\n 'people_also_viewed',\n 'position',\n 'posts',\n 'recommendations',\n 'recommendations_count',\n 'timestamp',\n 'url',\n 'volunteer_experience',\n 'сourses']"
     ]
    }
   ],
   "source": [
    "profiles_first.columns"
   ]
  },
  {
   "cell_type": "code",
   "execution_count": 0,
   "metadata": {
    "application/vnd.databricks.v1+cell": {
     "cellMetadata": {
      "byteLimit": 2048000,
      "rowLimit": 10000
     },
     "inputWidgets": {},
     "nuid": "4f6d3a3b-5a32-4f49-9483-abba99b55644",
     "showTitle": false,
     "title": ""
    }
   },
   "outputs": [],
   "source": [
    "profiles = spark.read.parquet('/linkedin/people')[['position', 'id', 'experience', 'education']].dropna(subset=['position', 'id'])"
   ]
  },
  {
   "cell_type": "code",
   "execution_count": 0,
   "metadata": {
    "application/vnd.databricks.v1+cell": {
     "cellMetadata": {
      "byteLimit": 2048000,
      "rowLimit": 10000
     },
     "inputWidgets": {},
     "nuid": "af2ea6eb-fc9d-4784-a5a8-314e87926cfd",
     "showTitle": false,
     "title": ""
    }
   },
   "outputs": [
    {
     "output_type": "stream",
     "name": "stdout",
     "output_type": "stream",
     "text": [
      "Out[6]: 3334088"
     ]
    }
   ],
   "source": [
    "profiles.count()"
   ]
  },
  {
   "cell_type": "code",
   "execution_count": 0,
   "metadata": {
    "application/vnd.databricks.v1+cell": {
     "cellMetadata": {
      "byteLimit": 2048000,
      "rowLimit": 10000
     },
     "inputWidgets": {},
     "nuid": "2a7a3072-4dfc-4f9e-8723-6c253cffb9be",
     "showTitle": false,
     "title": ""
    }
   },
   "outputs": [],
   "source": [
    "profiles = profiles.filter(profiles[\"position\"] != '-')"
   ]
  },
  {
   "cell_type": "code",
   "execution_count": 0,
   "metadata": {
    "application/vnd.databricks.v1+cell": {
     "cellMetadata": {
      "byteLimit": 2048000,
      "rowLimit": 10000
     },
     "inputWidgets": {},
     "nuid": "627d2e59-10b4-412c-9182-0af30a1bdaaf",
     "showTitle": false,
     "title": ""
    }
   },
   "outputs": [],
   "source": [
    "profiles = profiles.filter(profiles[\"position\"] != '--')"
   ]
  },
  {
   "cell_type": "code",
   "execution_count": 0,
   "metadata": {
    "application/vnd.databricks.v1+cell": {
     "cellMetadata": {
      "byteLimit": 2048000,
      "rowLimit": 10000
     },
     "inputWidgets": {},
     "nuid": "334d4a79-9fb8-46c1-82c7-0a213ca0551e",
     "showTitle": false,
     "title": ""
    }
   },
   "outputs": [],
   "source": [
    "profiles = profiles.filter(profiles[\"position\"] != '.')"
   ]
  },
  {
   "cell_type": "code",
   "execution_count": 0,
   "metadata": {
    "application/vnd.databricks.v1+cell": {
     "cellMetadata": {
      "byteLimit": 2048000,
      "rowLimit": 10000
     },
     "inputWidgets": {},
     "nuid": "146e44a8-5fa4-4fda-adb2-a9267c19cfa3",
     "showTitle": false,
     "title": ""
    }
   },
   "outputs": [],
   "source": [
    "profiles = profiles.filter(profiles[\"position\"] != 'at')"
   ]
  },
  {
   "cell_type": "code",
   "execution_count": 0,
   "metadata": {
    "application/vnd.databricks.v1+cell": {
     "cellMetadata": {
      "byteLimit": 2048000,
      "rowLimit": 10000
     },
     "inputWidgets": {},
     "nuid": "f293a7c0-a8a3-45bc-916d-a74c0ec1ef7f",
     "showTitle": false,
     "title": ""
    }
   },
   "outputs": [
    {
     "output_type": "stream",
     "name": "stdout",
     "output_type": "stream",
     "text": [
      "Out[11]: 2536258"
     ]
    }
   ],
   "source": [
    "profiles.count()"
   ]
  },
  {
   "cell_type": "code",
   "execution_count": 0,
   "metadata": {
    "application/vnd.databricks.v1+cell": {
     "cellMetadata": {
      "byteLimit": 2048000,
      "rowLimit": 10000
     },
     "inputWidgets": {},
     "nuid": "04bf2b9e-42f0-47af-8d73-e2b489724b77",
     "showTitle": false,
     "title": ""
    }
   },
   "outputs": [
    {
     "output_type": "display_data",
     "data": {
      "application/vnd.databricks.v1+bamboolib_hint": "{\"pd.DataFrames\": [], \"version\": \"0.0.1\"}",
      "text/plain": []
     },
     "metadata": {},
     "output_type": "display_data"
    }
   ],
   "source": [
    "from collections import Counter\n",
    "import pandas as pd\n",
    "from pathlib import Path\n",
    "from pyspark.sql.functions import col, explode, lower, udf, collect_set, size, abs, lit, array, when\n",
    "from pyspark.sql.types import IntegerType, StringType, ArrayType, StructType"
   ]
  },
  {
   "cell_type": "code",
   "execution_count": 0,
   "metadata": {
    "application/vnd.databricks.v1+cell": {
     "cellMetadata": {
      "byteLimit": 2048000,
      "rowLimit": 10000
     },
     "inputWidgets": {},
     "nuid": "349a9108-15d6-44a0-ac0c-bf09fee8b911",
     "showTitle": false,
     "title": ""
    }
   },
   "outputs": [],
   "source": [
    "profiles= profiles.dropna()"
   ]
  },
  {
   "cell_type": "code",
   "execution_count": 0,
   "metadata": {
    "application/vnd.databricks.v1+cell": {
     "cellMetadata": {
      "byteLimit": 2048000,
      "rowLimit": 10000
     },
     "inputWidgets": {},
     "nuid": "63c3f47a-bf93-43d2-b3ce-48c0866301a0",
     "showTitle": false,
     "title": ""
    }
   },
   "outputs": [],
   "source": [
    "from pyspark.sql.functions import col, struct, array_contains, expr, size\n",
    "profiles_ex = profiles.filter(expr(\"exists(experience, x -> x is not null)\"))"
   ]
  },
  {
   "cell_type": "code",
   "execution_count": 0,
   "metadata": {
    "application/vnd.databricks.v1+cell": {
     "cellMetadata": {
      "byteLimit": 2048000,
      "rowLimit": 10000
     },
     "inputWidgets": {},
     "nuid": "be01fccc-d24a-45ed-8101-687d7e91fbaa",
     "showTitle": false,
     "title": ""
    }
   },
   "outputs": [
    {
     "output_type": "stream",
     "name": "stdout",
     "output_type": "stream",
     "text": [
      "Out[18]: 2330233"
     ]
    }
   ],
   "source": [
    "profiles_ex.count()"
   ]
  },
  {
   "cell_type": "code",
   "execution_count": 0,
   "metadata": {
    "application/vnd.databricks.v1+cell": {
     "cellMetadata": {
      "byteLimit": 2048000,
      "rowLimit": 10000
     },
     "inputWidgets": {},
     "nuid": "ba8d4ebc-0be3-49c2-a018-38df74b3a078",
     "showTitle": false,
     "title": ""
    }
   },
   "outputs": [],
   "source": [
    "df_extracted = profiles_ex.withColumn(\"experience_description\", expr(\"transform(experience, x -> x.description)\")) \\\n",
    "                .withColumn(\"experience_duration\", expr(\"transform(experience, x -> x.duration)\"))"
   ]
  },
  {
   "cell_type": "code",
   "execution_count": 0,
   "metadata": {
    "application/vnd.databricks.v1+cell": {
     "cellMetadata": {
      "byteLimit": 2048000,
      "rowLimit": 10000
     },
     "inputWidgets": {},
     "nuid": "165fdc2e-37e2-4eb3-8a43-3fe22d23f6cc",
     "showTitle": false,
     "title": ""
    }
   },
   "outputs": [
    {
     "output_type": "stream",
     "name": "stdout",
     "output_type": "stream",
     "text": [
      "Out[35]: 1291164"
     ]
    }
   ],
   "source": [
    "df1 = df_extracted.filter(~((size(col(\"experience_duration\")) == 1) & col(\"experience_duration\")[0].isNull()))\n",
    "df1 = df1.filter(~((size(col(\"experience_description\")) == 1) & col(\"experience_description\")[0].isNull()))\n",
    "df1.count()\n",
    "\n",
    "# Display the filtered DataFrame"
   ]
  },
  {
   "cell_type": "code",
   "execution_count": 0,
   "metadata": {
    "application/vnd.databricks.v1+cell": {
     "cellMetadata": {
      "byteLimit": 2048000,
      "rowLimit": 10000
     },
     "inputWidgets": {},
     "nuid": "3bb1f039-3fc2-41a9-990e-5ed473f0534a",
     "showTitle": false,
     "title": ""
    }
   },
   "outputs": [],
   "source": [
    "df_ed_split = df1.withColumn(\"education_degree\", expr(\"transform(education, x -> x.degree)\")) \\\n",
    "                .withColumn(\"education_field\", expr(\"transform(education, x -> x.field)\"))\\\n",
    "                .withColumn(\"education_title\", expr(\"transform(education, x -> x.title)\"))"
   ]
  },
  {
   "cell_type": "code",
   "execution_count": 0,
   "metadata": {
    "application/vnd.databricks.v1+cell": {
     "cellMetadata": {
      "byteLimit": 2048000,
      "rowLimit": 10000
     },
     "inputWidgets": {},
     "nuid": "247a58ac-1336-4a74-b1f8-7184736c941e",
     "showTitle": false,
     "title": ""
    }
   },
   "outputs": [],
   "source": [
    "df_ed_split = df_ed_split.drop(\"experience\", \"education\")"
   ]
  },
  {
   "cell_type": "code",
   "execution_count": 0,
   "metadata": {
    "application/vnd.databricks.v1+cell": {
     "cellMetadata": {
      "byteLimit": 2048000,
      "rowLimit": 10000
     },
     "inputWidgets": {},
     "nuid": "f5907b57-b7d2-442f-8070-c111aea4ed7e",
     "showTitle": false,
     "title": ""
    }
   },
   "outputs": [],
   "source": [
    "def contains_null(x):  \n",
    "    if x is None:  \n",
    "        return False  \n",
    "    for i in x:  \n",
    "        if i is None or i==\"N/A\" or i=='null':  \n",
    "            return True  \n",
    "    return False  \n",
    "  \n",
    "contains_null_udf = udf(contains_null, BooleanType())  \n",
    "  \n",
    "df_ed_split1 = df_ed_split.withColumn(\"contains_null\", contains_null_udf(col(\"education_degree\")))  \n",
    "df_ed_split1 = df_ed_split1.filter(col(\"contains_null\") == False)  \n",
    "df_ed_split1 = df_ed_split1.drop(\"contains_null\") "
   ]
  },
  {
   "cell_type": "code",
   "execution_count": 0,
   "metadata": {
    "application/vnd.databricks.v1+cell": {
     "cellMetadata": {
      "byteLimit": 2048000,
      "rowLimit": 10000
     },
     "inputWidgets": {},
     "nuid": "51ebffd2-91ca-40f5-ac0e-905abf681695",
     "showTitle": false,
     "title": ""
    }
   },
   "outputs": [],
   "source": [
    "df_ed_split2 = df_ed_split1.withColumn(\"contains_null\", contains_null_udf(col(\"education_field\")))  \n",
    "df_ed_split2 = df_ed_split2.filter(col(\"contains_null\") == False)  \n",
    "df_ed_split2 = df_ed_split2.drop(\"contains_null\") "
   ]
  },
  {
   "cell_type": "code",
   "execution_count": 0,
   "metadata": {
    "application/vnd.databricks.v1+cell": {
     "cellMetadata": {
      "byteLimit": 2048000,
      "rowLimit": 10000
     },
     "inputWidgets": {},
     "nuid": "7647f209-aa7b-45f3-b5de-7e923d73be07",
     "showTitle": false,
     "title": ""
    }
   },
   "outputs": [],
   "source": [
    "df_ed_split3 = df_ed_split2.withColumn(\"contains_null\", contains_null_udf(col(\"education_title\")))  \n",
    "df_ed_split3 = df_ed_split3.filter(col(\"contains_null\") == False)  \n",
    "df_ed_split3 = df_ed_split3.drop(\"contains_null\") "
   ]
  },
  {
   "cell_type": "code",
   "execution_count": 0,
   "metadata": {
    "application/vnd.databricks.v1+cell": {
     "cellMetadata": {
      "byteLimit": 2048000,
      "rowLimit": 10000
     },
     "inputWidgets": {},
     "nuid": "dbd0a1e9-6aa4-4cca-b04f-3f138ca05c54",
     "showTitle": false,
     "title": ""
    }
   },
   "outputs": [],
   "source": [
    "df_ed_split4 = df_ed_split3.withColumn(\"contains_null\", contains_null_udf(col(\"experience_description\")))  \n",
    "df_ed_split4 = df_ed_split4.filter(col(\"contains_null\") == False)  \n",
    "df_ed_split4 = df_ed_split4.drop(\"contains_null\") "
   ]
  },
  {
   "cell_type": "code",
   "execution_count": 0,
   "metadata": {
    "application/vnd.databricks.v1+cell": {
     "cellMetadata": {
      "byteLimit": 2048000,
      "rowLimit": 10000
     },
     "inputWidgets": {},
     "nuid": "84e917cc-01dc-44cb-9af6-787e7b1ceeab",
     "showTitle": false,
     "title": ""
    }
   },
   "outputs": [],
   "source": [
    "df_ed_split5 = df_ed_split4.withColumn(\"contains_null\", contains_null_udf(col(\"experience_duration\")))  \n",
    "df_ed_split5 = df_ed_split5.filter(col(\"contains_null\") == False)  \n",
    "df_ed_split5 = df_ed_split5.drop(\"contains_null\") "
   ]
  },
  {
   "cell_type": "code",
   "execution_count": 0,
   "metadata": {
    "application/vnd.databricks.v1+cell": {
     "cellMetadata": {
      "byteLimit": 2048000,
      "rowLimit": 10000
     },
     "inputWidgets": {},
     "nuid": "515e7f0a-ff12-40c7-89ac-eeb82e7b806d",
     "showTitle": false,
     "title": ""
    }
   },
   "outputs": [
    {
     "output_type": "stream",
     "name": "stdout",
     "output_type": "stream",
     "text": [
      "Out[72]: (1291164, 1053494, 786563, 786333, 142961, 142480)"
     ]
    }
   ],
   "source": [
    "df_ed_split.count(), df_ed_split1.count(), df_ed_split2.count(), df_ed_split3.count(), df_ed_split4.count(), df_ed_split5.count()"
   ]
  },
  {
   "cell_type": "code",
   "execution_count": 0,
   "metadata": {
    "application/vnd.databricks.v1+cell": {
     "cellMetadata": {
      "byteLimit": 2048000,
      "rowLimit": 10000
     },
     "inputWidgets": {},
     "nuid": "77672cad-9cd1-4c17-9b91-a93d24160f07",
     "showTitle": false,
     "title": ""
    }
   },
   "outputs": [
    {
     "output_type": "stream",
     "name": "stdout",
     "output_type": "stream",
     "text": [
      "Out[80]: 142480"
     ]
    }
   ],
   "source": [
    "df_filtered = df_ed_split5.filter(size(\"education_field\") == size(\"education_degree\"))\n",
    "df_filtered = df_filtered.filter(size(\"education_field\") == size(\"education_title\"))\n",
    "df_filtered = df_filtered.filter(size(\"education_title\") == size(\"education_degree\"))\n",
    "df_filtered.count()"
   ]
  },
  {
   "cell_type": "code",
   "execution_count": 0,
   "metadata": {
    "application/vnd.databricks.v1+cell": {
     "cellMetadata": {
      "byteLimit": 2048000,
      "rowLimit": 10000
     },
     "inputWidgets": {},
     "nuid": "968a4cad-3b6d-415d-b40b-183561f95dd9",
     "showTitle": false,
     "title": ""
    }
   },
   "outputs": [],
   "source": [
    "# Add a new column 'experience_length' with the length of the 'experience' array\n",
    "df_with_length = df_ed_split5.withColumn(\"experience_length\", size(\"experience_description\"))\n",
    "df_with_length = df_with_length.withColumn(\"education_length\", size(\"education_degree\"))"
   ]
  },
  {
   "cell_type": "code",
   "execution_count": 0,
   "metadata": {
    "application/vnd.databricks.v1+cell": {
     "cellMetadata": {
      "byteLimit": 2048000,
      "rowLimit": 10000
     },
     "inputWidgets": {},
     "nuid": "f9066d17-1d6d-4bd0-b75b-11e0523ed007",
     "showTitle": false,
     "title": ""
    }
   },
   "outputs": [
    {
     "output_type": "display_data",
     "data": {
      "text/html": [
       "<div>\n",
       "<style scoped>\n",
       "    .dataframe tbody tr th:only-of-type {\n",
       "        vertical-align: middle;\n",
       "    }\n",
       "\n",
       "    .dataframe tbody tr th {\n",
       "        vertical-align: top;\n",
       "    }\n",
       "\n",
       "    .dataframe thead th {\n",
       "        text-align: right;\n",
       "    }\n",
       "</style>\n",
       "<table border=\"1\" class=\"dataframe\">\n",
       "  <thead>\n",
       "    <tr style=\"text-align: right;\">\n",
       "      <th></th>\n",
       "      <th>position</th>\n",
       "      <th>id</th>\n",
       "      <th>experience_description</th>\n",
       "      <th>experience_duration</th>\n",
       "      <th>education_degree</th>\n",
       "      <th>education_field</th>\n",
       "      <th>education_title</th>\n",
       "      <th>experience_length</th>\n",
       "      <th>education_length</th>\n",
       "    </tr>\n",
       "  </thead>\n",
       "  <tbody>\n",
       "    <tr>\n",
       "      <th>0</th>\n",
       "      <td>Reunification Services, Divorce Coaching, Complex Relationship Counseling, Parenting Coordination, Co-Parenting Education, Adult Mental Behavioral Health,</td>\n",
       "      <td>raklcsw</td>\n",
       "      <td>[I graduated from Jane Addams College of Social Work at the University of Illinois, Chicago (1982) with an MSW. I began as a social worker in a hospital; advanced to clinical specialty areas where I also taught populations from volunteers to pastoral care interns and internal medicine residents; advanced to supervisor of clinical social workers and volunteered at hospice and the American Cancer Society, rising to leadership positions. After developing the hospital case management department, in 1995 I opened my private practice to include consulting and teaching and quickly developed and grew a group practice of clinicians with insurance contracts and employee assistance program (EAP) companies. Administrative duties took me too far away from direct clinical work; returned to my private practice and advanced Critical Incident Stress Management (CISM) training to include specialty areas of aviation and banking industries. I am a frequently requested speaker at conferences and workshops, and have conducted basic and advanced training on a number of clinical issues and topics. Show less, Private Practice Divorce Coach Collaborative Mediation, Adult Treatment of Childhood Trauma, Clinical Social Work, College Faculty; Critical Incident Stress Management Responder, Frequently Requested Speaker. Private Practice Divorce Coach Collaborative Mediation, Adult Treatment of Childhood Trauma, Clinical Social Work, College Faculty; Critical Incident Stress Management Responder, Frequently Requested Speaker.]</td>\n",
       "      <td>[May 1999 - Present 24 years 5 months, May 1999 - Present 24 years 5 months]</td>\n",
       "      <td>[Master's Degree, Bachelor's Degree]</td>\n",
       "      <td>[Clinical/Medical Social Work, Administration, Applied Behavioral Science]</td>\n",
       "      <td>[Jane Addams College of Social Work, University of Illinois, Chicago., George Williams College, Downers Grove, Illinois.]</td>\n",
       "      <td>2</td>\n",
       "      <td>2</td>\n",
       "    </tr>\n",
       "    <tr>\n",
       "      <th>1</th>\n",
       "      <td>Bank Teller at Wells Fargo</td>\n",
       "      <td>thomas-jensen-5904b2276</td>\n",
       "      <td>[Complete operational activities while minimizing risk under established policies, educate and connect customers and share the value of mobile banking options, help identify information and services to meet customer financial needs. maintain a secure cashline with high volume cash transactions. Complete operational activities while minimizing risk under established policies, educate and connect customers and share the value of mobile banking options, help identify information and services to meet customer financial needs. maintain a secure cashline with high volume cash transactions., Manage the front-end guest flow; direct and support the service team; educate team members and guests on products and services; and close the books including counting and reconciling cash drawers and daily transactions. Manage the front-end guest flow; direct and support the service team; educate team members and guests on products and services; and close the books including counting and reconciling cash drawers and daily transactions.]</td>\n",
       "      <td>[Jan 2022 - Present 1 year 9 months, Oct 2020 Mar 2022 1 year 6 months]</td>\n",
       "      <td>[]</td>\n",
       "      <td>[]</td>\n",
       "      <td>[]</td>\n",
       "      <td>2</td>\n",
       "      <td>0</td>\n",
       "    </tr>\n",
       "    <tr>\n",
       "      <th>2</th>\n",
       "      <td>billing specialist</td>\n",
       "      <td>daily-saez-21aa89a9</td>\n",
       "      <td>[office manager, billing and credentialing specialist office manager, billing and credentialing specialist]</td>\n",
       "      <td>[Feb 2018 - Present 5 years 8 months]</td>\n",
       "      <td>[]</td>\n",
       "      <td>[]</td>\n",
       "      <td>[]</td>\n",
       "      <td>1</td>\n",
       "      <td>0</td>\n",
       "    </tr>\n",
       "    <tr>\n",
       "      <th>3</th>\n",
       "      <td>(S.E.R.R.T) Special Education Resource Room Teacher for Prince George's County Public Schools</td>\n",
       "      <td>brandon-m-johnson-97b84231</td>\n",
       "      <td>[Under the direction of the Assistant Supervisor for Instructional Supports, Assessment and Accountability for the Department of Special Education, I monitor, train, and provide technical assistance to schools to successfully implement instructional supports and intervention programs for students with disabilities. I coach educators on the delivery of instruction of identified intervention programs, and collaborate with the principal, general educators and special educators to monitor the fidelity of program implementation and provide recommendations for adjustments if necessary. I consult with The Prince George’s County Department of Special Education, Special Education Instructional Specialist and fellow special educators, advising on strategies and activities that may be used to enhance a student’s skills through the use of instructional supports and interventions, encourage schools to utilize data to make sound decisions for students and to differentiate instruction, provide modeling and strategies for optimum teaching delivery and student results, develop and provide training to support the knowledge, understanding and delivery of instructional supports and interventions, confer with professional school counselors, school psychologists, social workers and teaching staff to obtain additional testing information and to gain insight on student behavioral disorders affecting learning processes, collaborate with team members to facilitate training on the implementation of instructional supports, interventions and educational assessments, collect data and analyze data to provide feedback to principals and the Department of Special Education for Prince George’s County on progress monitoring and fidelity of the implementation of instructional supports and intervention programs, conduct educational assessments, write reports, and provide technical assistance to schools on the administration, scoring and score interpretation of educational assessments. Show less]</td>\n",
       "      <td>[Jul 2021 - Present 2 years 3 months]</td>\n",
       "      <td>[]</td>\n",
       "      <td>[]</td>\n",
       "      <td>[]</td>\n",
       "      <td>1</td>\n",
       "      <td>0</td>\n",
       "    </tr>\n",
       "    <tr>\n",
       "      <th>4</th>\n",
       "      <td>Noble Adjusters</td>\n",
       "      <td>thomas-n-webster-0b074248</td>\n",
       "      <td>[Property claims adjuster with extensive background in investigations to include detailed record research, strong personal skills, time management, and reporting skills. Currently hold Florida, Alabama, Mississippi, Louisiana, and Texas adjuster licenses. Xactimate Level 1 certification. Property claims adjuster with extensive background in investigations to include detailed record research, strong personal skills, time management, and reporting skills. Currently hold Florida, Alabama, Mississippi, Louisiana, and Texas adjuster licenses. Xactimate Level 1 certification., Line operations. Line operations.]</td>\n",
       "      <td>[Jun 2021 - Present 2 years 4 months, Dec 2013 May 2021 7 years 6 months]</td>\n",
       "      <td>[]</td>\n",
       "      <td>[]</td>\n",
       "      <td>[]</td>\n",
       "      <td>2</td>\n",
       "      <td>0</td>\n",
       "    </tr>\n",
       "  </tbody>\n",
       "</table>\n",
       "</div>"
      ]
     },
     "metadata": {
      "application/vnd.databricks.v1+output": {
       "addedWidgets": {},
       "arguments": {},
       "data": "<div>\n<style scoped>\n    .dataframe tbody tr th:only-of-type {\n        vertical-align: middle;\n    }\n\n    .dataframe tbody tr th {\n        vertical-align: top;\n    }\n\n    .dataframe thead th {\n        text-align: right;\n    }\n</style>\n<table border=\"1\" class=\"dataframe\">\n  <thead>\n    <tr style=\"text-align: right;\">\n      <th></th>\n      <th>position</th>\n      <th>id</th>\n      <th>experience_description</th>\n      <th>experience_duration</th>\n      <th>education_degree</th>\n      <th>education_field</th>\n      <th>education_title</th>\n      <th>experience_length</th>\n      <th>education_length</th>\n    </tr>\n  </thead>\n  <tbody>\n    <tr>\n      <th>0</th>\n      <td>Reunification Services, Divorce Coaching, Complex Relationship Counseling, Parenting Coordination, Co-Parenting Education, Adult Mental Behavioral Health,</td>\n      <td>raklcsw</td>\n      <td>[I graduated from Jane Addams College of Social Work at the University of Illinois, Chicago (1982) with an MSW. I began as a social worker in a hospital; advanced to clinical specialty areas where I also taught populations from volunteers to pastoral care interns and internal medicine residents; advanced to supervisor of clinical social workers and volunteered at hospice and the American Cancer Society, rising to leadership positions. After developing the hospital case management department, in 1995 I opened my private practice to include consulting and teaching and quickly developed and grew a group practice of clinicians with insurance contracts and employee assistance program (EAP) companies. Administrative duties took me too far away from direct clinical work; returned to my private practice and advanced Critical Incident Stress Management (CISM) training to include specialty areas of aviation and banking industries. I am a frequently requested speaker at conferences and workshops, and have conducted basic and advanced training on a number of clinical issues and topics. Show less, Private Practice Divorce Coach Collaborative Mediation, Adult Treatment of Childhood Trauma, Clinical Social Work, College Faculty; Critical Incident Stress Management Responder, Frequently Requested Speaker. Private Practice Divorce Coach Collaborative Mediation, Adult Treatment of Childhood Trauma, Clinical Social Work, College Faculty; Critical Incident Stress Management Responder, Frequently Requested Speaker.]</td>\n      <td>[May 1999 - Present 24 years 5 months, May 1999 - Present 24 years 5 months]</td>\n      <td>[Master's Degree, Bachelor's Degree]</td>\n      <td>[Clinical/Medical Social Work, Administration, Applied Behavioral Science]</td>\n      <td>[Jane Addams College of Social Work, University of Illinois, Chicago., George Williams College, Downers Grove, Illinois.]</td>\n      <td>2</td>\n      <td>2</td>\n    </tr>\n    <tr>\n      <th>1</th>\n      <td>Bank Teller at Wells Fargo</td>\n      <td>thomas-jensen-5904b2276</td>\n      <td>[Complete operational activities while minimizing risk under established policies, educate and connect customers and share the value of mobile banking options, help identify information and services to meet customer financial needs. maintain a secure cashline with high volume cash transactions. Complete operational activities while minimizing risk under established policies, educate and connect customers and share the value of mobile banking options, help identify information and services to meet customer financial needs. maintain a secure cashline with high volume cash transactions., Manage the front-end guest flow; direct and support the service team; educate team members and guests on products and services; and close the books including counting and reconciling cash drawers and daily transactions. Manage the front-end guest flow; direct and support the service team; educate team members and guests on products and services; and close the books including counting and reconciling cash drawers and daily transactions.]</td>\n      <td>[Jan 2022 - Present 1 year 9 months, Oct 2020 Mar 2022 1 year 6 months]</td>\n      <td>[]</td>\n      <td>[]</td>\n      <td>[]</td>\n      <td>2</td>\n      <td>0</td>\n    </tr>\n    <tr>\n      <th>2</th>\n      <td>billing specialist</td>\n      <td>daily-saez-21aa89a9</td>\n      <td>[office manager, billing and credentialing specialist office manager, billing and credentialing specialist]</td>\n      <td>[Feb 2018 - Present 5 years 8 months]</td>\n      <td>[]</td>\n      <td>[]</td>\n      <td>[]</td>\n      <td>1</td>\n      <td>0</td>\n    </tr>\n    <tr>\n      <th>3</th>\n      <td>(S.E.R.R.T) Special Education Resource Room Teacher for Prince George's County Public Schools</td>\n      <td>brandon-m-johnson-97b84231</td>\n      <td>[Under the direction of the Assistant Supervisor for Instructional Supports, Assessment and Accountability for the Department of Special Education, I monitor, train, and provide technical assistance to schools to successfully implement instructional supports and intervention programs for students with disabilities. I coach educators on the delivery of instruction of identified intervention programs, and collaborate with the principal, general educators and special educators to monitor the fidelity of program implementation and provide recommendations for adjustments if necessary. I consult with The Prince George’s County Department of Special Education, Special Education Instructional Specialist and fellow special educators, advising on strategies and activities that may be used to enhance a student’s skills through the use of instructional supports and interventions, encourage schools to utilize data to make sound decisions for students and to differentiate instruction, provide modeling and strategies for optimum teaching delivery and student results, develop and provide training to support the knowledge, understanding and delivery of instructional supports and interventions, confer with professional school counselors, school psychologists, social workers and teaching staff to obtain additional testing information and to gain insight on student behavioral disorders affecting learning processes, collaborate with team members to facilitate training on the implementation of instructional supports, interventions and educational assessments, collect data and analyze data to provide feedback to principals and the Department of Special Education for Prince George’s County on progress monitoring and fidelity of the implementation of instructional supports and intervention programs, conduct educational assessments, write reports, and provide technical assistance to schools on the administration, scoring and score interpretation of educational assessments. Show less]</td>\n      <td>[Jul 2021 - Present 2 years 3 months]</td>\n      <td>[]</td>\n      <td>[]</td>\n      <td>[]</td>\n      <td>1</td>\n      <td>0</td>\n    </tr>\n    <tr>\n      <th>4</th>\n      <td>Noble Adjusters</td>\n      <td>thomas-n-webster-0b074248</td>\n      <td>[Property claims adjuster with extensive background in investigations to include detailed record research, strong personal skills, time management, and reporting skills. Currently hold Florida, Alabama, Mississippi, Louisiana, and Texas adjuster licenses. Xactimate Level 1 certification. Property claims adjuster with extensive background in investigations to include detailed record research, strong personal skills, time management, and reporting skills. Currently hold Florida, Alabama, Mississippi, Louisiana, and Texas adjuster licenses. Xactimate Level 1 certification., Line operations. Line operations.]</td>\n      <td>[Jun 2021 - Present 2 years 4 months, Dec 2013 May 2021 7 years 6 months]</td>\n      <td>[]</td>\n      <td>[]</td>\n      <td>[]</td>\n      <td>2</td>\n      <td>0</td>\n    </tr>\n  </tbody>\n</table>\n</div>",
       "datasetInfos": [],
       "metadata": {},
       "removedWidgets": [],
       "textData": null,
       "type": "htmlSandbox"
      }
     },
     "output_type": "display_data"
    }
   ],
   "source": [
    "df_with_length.limit(5).toPandas()"
   ]
  },
  {
   "cell_type": "code",
   "execution_count": 0,
   "metadata": {
    "application/vnd.databricks.v1+cell": {
     "cellMetadata": {
      "byteLimit": 2048000,
      "rowLimit": 10000
     },
     "inputWidgets": {},
     "nuid": "02c3009a-f5e0-47a0-a8ca-f454967452c8",
     "showTitle": false,
     "title": ""
    }
   },
   "outputs": [],
   "source": [
    "# path_to_dir = \"/dbfs/Users/almoogben\"\n",
    "# Path.mkdir(Path(path_to_dir), exist_ok=True)\n",
    "\n",
    "# df_with_length.write.format(\"parquet\").save(f\"/df_without_null.parquet\")"
   ]
  },
  {
   "cell_type": "code",
   "execution_count": 0,
   "metadata": {
    "application/vnd.databricks.v1+cell": {
     "cellMetadata": {
      "byteLimit": 2048000,
      "rowLimit": 10000
     },
     "inputWidgets": {},
     "nuid": "1e4d618f-f8dc-4600-9dff-cfb45fb6d485",
     "showTitle": false,
     "title": ""
    }
   },
   "outputs": [],
   "source": [
    "df_processed = spark.read.parquet(\"/df_without_null.parquet\")"
   ]
  },
  {
   "cell_type": "code",
   "execution_count": 0,
   "metadata": {
    "application/vnd.databricks.v1+cell": {
     "cellMetadata": {
      "byteLimit": 2048000,
      "rowLimit": 10000
     },
     "inputWidgets": {},
     "nuid": "a54789eb-7561-4fab-91c1-04b87980340a",
     "showTitle": false,
     "title": ""
    }
   },
   "outputs": [
    {
     "output_type": "stream",
     "name": "stdout",
     "output_type": "stream",
     "text": [
      "+---------------------------------------------------------------------------------------------------------------------------------------------------------------------------------------------------------------------------------------------------------------------------------------------------------------------------------------------------------------------------------------+\n|experience_duration                                                                                                                                                                                                                                                                                                                                                                    |\n+---------------------------------------------------------------------------------------------------------------------------------------------------------------------------------------------------------------------------------------------------------------------------------------------------------------------------------------------------------------------------------------+\n|[May 2016 - Present 7 years 5 months, May 2009 Apr 2016 7 years, Jan 2006 May 2009 3 years 5 months, Jul 1997 Mar 2005 7 years 9 months, Jun 1990 Jul 1997 7 years 2 months]                                                                                                                                                                                                           |\n|[Mar 2008 Aug 2009 1 year 6 months, Sep 2005 Aug 2007 2 years, Mar 2000 Mar 2005 5 years 1 month, Jan 1998 Oct 1999 1 year 10 months, Jan 1990 May 1997 7 years 5 months]                                                                                                                                                                                                              |\n|[Jun 1956 Dec 1990 34 years 7 months]                                                                                                                                                                                                                                                                                                                                                  |\n|[Apr 2016 - Present 7 years 6 months, Apr 2013 Apr 2016 3 years 1 month, Feb 1991 Feb 2013 22 years 1 month]                                                                                                                                                                                                                                                                           |\n|[Sep 2003 - Present 20 years 1 month]                                                                                                                                                                                                                                                                                                                                                  |\n|[Mar 1992 - Present 31 years 7 months, Aug 1987 Jul 1990 3 years, Feb 1986 Dec 1988 2 years 11 months]                                                                                                                                                                                                                                                                                 |\n|[Mar 2014 - Present 9 years 7 months, Oct 2012 May 2013 8 months, Jan 2012 May 2012 5 months]                                                                                                                                                                                                                                                                                          |\n|[Oct 2013 - Present 10 years, Jul 2007 Sep 2013 6 years 3 months]                                                                                                                                                                                                                                                                                                                      |\n|[Jun 2021 Aug 2022 1 year 3 months, Nov 2017 May 2021 3 years 7 months, Jan 2011 Nov 2017 6 years 11 months, 1991 2010 19 years]                                                                                                                                                                                                                                                       |\n|[2013 2013 less than a year, Oct 2009 May 2010 8 months]                                                                                                                                                                                                                                                                                                                               |\n|[1999 2012 13 years, Jan 2000 Dec 2011 12 years]                                                                                                                                                                                                                                                                                                                                       |\n|[Nov 2015 - Present 7 years 11 months, Aug 2013 Jan 2016 2 years 6 months, Oct 2008 Aug 2012 3 years 11 months]                                                                                                                                                                                                                                                                        |\n|[Nov 2017 - Present 5 years 11 months, Oct 2019 - Present 4 years, Aug 2007 - Present 16 years 2 months]                                                                                                                                                                                                                                                                               |\n|[Oct 2022 Nov 2022 2 months, Jun 2021 Aug 2021 3 months]                                                                                                                                                                                                                                                                                                                               |\n|[Jan 2020 - Present 3 years 9 months, Dec 2016 Jan 2021 4 years 2 months, Dec 2013 Jan 2017 3 years 2 months, Jun 2014 Jul 2015 1 year 2 months, Oct 2014 Apr 2015 7 months, Jan 2013 May 2014 1 year 5 months, Aug 2012 Aug 2013 1 year 1 month, Aug 2011 Aug 2013 2 years 1 month, Oct 2010 Oct 2012 2 years 1 month, Aug 2011 May 2012 10 months, Jun 2009 Aug 2010 1 year 3 months]|\n|[Oct 2017 - Present 6 years, Jul 2013 Sep 2017 4 years 3 months, Jul 2012 Jul 2013 1 year 1 month, May 2011 Jul 2012 1 year 3 months]                                                                                                                                                                                                                                                  |\n|[Nov 2008 - Present 14 years 11 months, Feb 1988 Oct 2008 20 years 9 months, Sep 1988 May 1998 9 years 9 months, Aug 1984 Feb 1988 3 years 7 months, Sep 1984 May 1987 2 years 9 months]                                                                                                                                                                                               |\n|[Mar 2006 - Present 17 years 7 months]                                                                                                                                                                                                                                                                                                                                                 |\n|[Feb 2018 - Present 5 years 8 months, Jan 2015 Jan 2018 3 years 1 month, Jun 2013 Jan 2015 1 year 8 months, Sep 2012 Jun 2013 10 months, Jun 2006 Sep 2012 6 years 4 months, May 2004 Apr 2006 2 years]                                                                                                                                                                                |\n|[Dec 2018 Jun 2019 7 months, Aug 2017 Dec 2018 1 year 5 months, Feb 2015 Jun 2017 2 years 5 months, Dec 2013 Feb 2015 1 year 3 months, Jun 2011 Dec 2013 2 years 7 months]                                                                                                                                                                                                             |\n+---------------------------------------------------------------------------------------------------------------------------------------------------------------------------------------------------------------------------------------------------------------------------------------------------------------------------------------------------------------------------------------+\nonly showing top 20 rows\n\n"
     ]
    }
   ],
   "source": [
    "df_processed.select('experience_duration').distinct().show(truncate=False)"
   ]
  },
  {
   "cell_type": "code",
   "execution_count": 0,
   "metadata": {
    "application/vnd.databricks.v1+cell": {
     "cellMetadata": {
      "byteLimit": 2048000,
      "rowLimit": 10000
     },
     "inputWidgets": {},
     "nuid": "2a9ebbdb-dfd8-4153-94be-23309962d67c",
     "showTitle": false,
     "title": ""
    }
   },
   "outputs": [],
   "source": [
    "from pyspark.sql.functions import udf, explode, sum, col\n",
    "from pyspark.sql.types import FloatType  \n",
    "import re  \n",
    "  \n",
    "# Define the UDF  \n",
    "def convert_to_years(duration):  \n",
    "    years = 0  \n",
    "    months = 0  \n",
    "  \n",
    "    # Use regex to find any number of years in the string  \n",
    "    years_match = re.search(r'(\\d+) year', duration)  \n",
    "    if years_match:  \n",
    "        years = int(years_match.group(1))  \n",
    "  \n",
    "    # Use regex to find any number of months in the string  \n",
    "    months_match = re.search(r'(\\d+) month', duration)  \n",
    "    if months_match:  \n",
    "        months = int(months_match.group(1))  \n",
    "  \n",
    "    # Convert months to years and add to the year total  \n",
    "    total_years = years + months/12  \n",
    "    return total_years  \n",
    "  \n",
    "# Convert Python function to PySpark UDF and specify return type  \n",
    "convert_to_years_udf = udf(convert_to_years, FloatType())  \n",
    "  \n",
    "# Flatten the array column  \n",
    "df = df_processed.withColumn('experience_duration', explode(df_processed['experience_duration']))  \n",
    "  \n",
    "# Apply UDF to the column  \n",
    "df = df.withColumn('experience_duration_years', convert_to_years_udf(df['experience_duration'])) \n",
    "\n",
    "# Sum all the years for each id  \n",
    "df = df.groupBy(\"id\").agg(sum(\"experience_duration_years\").alias(\"total_experience_years\"))  \n",
    "\n",
    "# Join the original dataframe with the aggregated dataframe  \n",
    "df_processed_final = df_processed.join(df, on='id', how='left').drop('experience_duration', 'experience_length')  \n",
    "\n",
    "# Convert 'total_experience_years' to integer  \n",
    "df_processed_final = df_processed_final.withColumn('total_experience_years', col('total_experience_years').cast('integer'))  \n"
   ]
  },
  {
   "cell_type": "code",
   "execution_count": 0,
   "metadata": {
    "application/vnd.databricks.v1+cell": {
     "cellMetadata": {
      "byteLimit": 2048000,
      "rowLimit": 10000
     },
     "inputWidgets": {},
     "nuid": "60b4253d-8d1b-4e7b-a53c-20292a67c90e",
     "showTitle": false,
     "title": ""
    }
   },
   "outputs": [
    {
     "output_type": "display_data",
     "data": {
      "text/html": [
       "<div>\n",
       "<style scoped>\n",
       "    .dataframe tbody tr th:only-of-type {\n",
       "        vertical-align: middle;\n",
       "    }\n",
       "\n",
       "    .dataframe tbody tr th {\n",
       "        vertical-align: top;\n",
       "    }\n",
       "\n",
       "    .dataframe thead th {\n",
       "        text-align: right;\n",
       "    }\n",
       "</style>\n",
       "<table border=\"1\" class=\"dataframe\">\n",
       "  <thead>\n",
       "    <tr style=\"text-align: right;\">\n",
       "      <th></th>\n",
       "      <th>id</th>\n",
       "      <th>position</th>\n",
       "      <th>experience_description</th>\n",
       "      <th>education_degree</th>\n",
       "      <th>education_field</th>\n",
       "      <th>education_title</th>\n",
       "      <th>education_length</th>\n",
       "      <th>total_experience_years</th>\n",
       "    </tr>\n",
       "  </thead>\n",
       "  <tbody>\n",
       "    <tr>\n",
       "      <th>0</th>\n",
       "      <td>joseph-berard-14475461</td>\n",
       "      <td>Program Aide at Families in Transition</td>\n",
       "      <td>[• Worked with women and single families who h...</td>\n",
       "      <td>[Bachelor's degree, High School Diploma, high ...</td>\n",
       "      <td>[Human Services, General, Regular/General High...</td>\n",
       "      <td>[Granite State College, Shortridge Academy, do...</td>\n",
       "      <td>3</td>\n",
       "      <td>6</td>\n",
       "    </tr>\n",
       "    <tr>\n",
       "      <th>1</th>\n",
       "      <td>kevin-white-ab041616</td>\n",
       "      <td>Sales Specialist at Magnolia Realty</td>\n",
       "      <td>[Sales Specialist in Rural Properties, First T...</td>\n",
       "      <td>[]</td>\n",
       "      <td>[]</td>\n",
       "      <td>[]</td>\n",
       "      <td>0</td>\n",
       "      <td>20</td>\n",
       "    </tr>\n",
       "    <tr>\n",
       "      <th>2</th>\n",
       "      <td>fatima-mubashir-31558631</td>\n",
       "      <td>Business Operations Associate at Dohmen Life S...</td>\n",
       "      <td>[• Manage monthly invoicing, accounts receivab...</td>\n",
       "      <td>[Bachelor's Degree]</td>\n",
       "      <td>[Accounting]</td>\n",
       "      <td>[California State University - East Bay]</td>\n",
       "      <td>1</td>\n",
       "      <td>22</td>\n",
       "    </tr>\n",
       "    <tr>\n",
       "      <th>3</th>\n",
       "      <td>joseph-badolato-do-03778574</td>\n",
       "      <td>Medical Director at Vera Whole Health</td>\n",
       "      <td>[At Vera Whole Health, we contract with compan...</td>\n",
       "      <td>[D.O.-Doctor of Osteopathy, Bachelor of Arts (...</td>\n",
       "      <td>[Family Medicine Residency Program, General St...</td>\n",
       "      <td>[Des Moines University-Osteopathic Medical Cen...</td>\n",
       "      <td>2</td>\n",
       "      <td>12</td>\n",
       "    </tr>\n",
       "    <tr>\n",
       "      <th>4</th>\n",
       "      <td>bobmecham</td>\n",
       "      <td>CAD Applications Manager at EnvisionCAD</td>\n",
       "      <td>[As the CADD Applications Manager I have train...</td>\n",
       "      <td>[Associate Degree]</td>\n",
       "      <td>[Civil Engineering Technology]</td>\n",
       "      <td>[Madison Area Technical College]</td>\n",
       "      <td>1</td>\n",
       "      <td>31</td>\n",
       "    </tr>\n",
       "  </tbody>\n",
       "</table>\n",
       "</div>"
      ]
     },
     "metadata": {
      "application/vnd.databricks.v1+output": {
       "addedWidgets": {},
       "arguments": {},
       "data": "<div>\n<style scoped>\n    .dataframe tbody tr th:only-of-type {\n        vertical-align: middle;\n    }\n\n    .dataframe tbody tr th {\n        vertical-align: top;\n    }\n\n    .dataframe thead th {\n        text-align: right;\n    }\n</style>\n<table border=\"1\" class=\"dataframe\">\n  <thead>\n    <tr style=\"text-align: right;\">\n      <th></th>\n      <th>id</th>\n      <th>position</th>\n      <th>experience_description</th>\n      <th>education_degree</th>\n      <th>education_field</th>\n      <th>education_title</th>\n      <th>education_length</th>\n      <th>total_experience_years</th>\n    </tr>\n  </thead>\n  <tbody>\n    <tr>\n      <th>0</th>\n      <td>joseph-berard-14475461</td>\n      <td>Program Aide at Families in Transition</td>\n      <td>[• Worked with women and single families who h...</td>\n      <td>[Bachelor's degree, High School Diploma, high ...</td>\n      <td>[Human Services, General, Regular/General High...</td>\n      <td>[Granite State College, Shortridge Academy, do...</td>\n      <td>3</td>\n      <td>6</td>\n    </tr>\n    <tr>\n      <th>1</th>\n      <td>kevin-white-ab041616</td>\n      <td>Sales Specialist at Magnolia Realty</td>\n      <td>[Sales Specialist in Rural Properties, First T...</td>\n      <td>[]</td>\n      <td>[]</td>\n      <td>[]</td>\n      <td>0</td>\n      <td>20</td>\n    </tr>\n    <tr>\n      <th>2</th>\n      <td>fatima-mubashir-31558631</td>\n      <td>Business Operations Associate at Dohmen Life S...</td>\n      <td>[• Manage monthly invoicing, accounts receivab...</td>\n      <td>[Bachelor's Degree]</td>\n      <td>[Accounting]</td>\n      <td>[California State University - East Bay]</td>\n      <td>1</td>\n      <td>22</td>\n    </tr>\n    <tr>\n      <th>3</th>\n      <td>joseph-badolato-do-03778574</td>\n      <td>Medical Director at Vera Whole Health</td>\n      <td>[At Vera Whole Health, we contract with compan...</td>\n      <td>[D.O.-Doctor of Osteopathy, Bachelor of Arts (...</td>\n      <td>[Family Medicine Residency Program, General St...</td>\n      <td>[Des Moines University-Osteopathic Medical Cen...</td>\n      <td>2</td>\n      <td>12</td>\n    </tr>\n    <tr>\n      <th>4</th>\n      <td>bobmecham</td>\n      <td>CAD Applications Manager at EnvisionCAD</td>\n      <td>[As the CADD Applications Manager I have train...</td>\n      <td>[Associate Degree]</td>\n      <td>[Civil Engineering Technology]</td>\n      <td>[Madison Area Technical College]</td>\n      <td>1</td>\n      <td>31</td>\n    </tr>\n  </tbody>\n</table>\n</div>",
       "datasetInfos": [],
       "metadata": {},
       "removedWidgets": [],
       "textData": null,
       "type": "htmlSandbox"
      }
     },
     "output_type": "display_data"
    }
   ],
   "source": [
    "df_processed_final.limit(5).toPandas()"
   ]
  },
  {
   "cell_type": "code",
   "execution_count": 0,
   "metadata": {
    "application/vnd.databricks.v1+cell": {
     "cellMetadata": {
      "byteLimit": 2048000,
      "rowLimit": 10000
     },
     "inputWidgets": {},
     "nuid": "b933f5c0-d45b-453b-ad59-f59f30df2f16",
     "showTitle": false,
     "title": ""
    }
   },
   "outputs": [
    {
     "output_type": "stream",
     "name": "stdout",
     "output_type": "stream",
     "text": [
      "Out[39]: (142480, 142480, 142480)"
     ]
    }
   ],
   "source": [
    "df_processed.count(), df_processed_final.count(), df_processed_final.dropna().count()"
   ]
  },
  {
   "cell_type": "code",
   "execution_count": 0,
   "metadata": {
    "application/vnd.databricks.v1+cell": {
     "cellMetadata": {
      "byteLimit": 2048000,
      "rowLimit": 10000
     },
     "inputWidgets": {},
     "nuid": "7b3d1f55-67fe-41f2-ac32-dafb04525de1",
     "showTitle": false,
     "title": ""
    }
   },
   "outputs": [],
   "source": [
    "pd_df = df_processed_final.toPandas()"
   ]
  },
  {
   "cell_type": "markdown",
   "metadata": {
    "application/vnd.databricks.v1+cell": {
     "cellMetadata": {},
     "inputWidgets": {},
     "nuid": "7430f9e7-df0b-4972-aaff-ce3a32938758",
     "showTitle": false,
     "title": ""
    }
   },
   "source": []
  },
  {
   "cell_type": "markdown",
   "metadata": {
    "application/vnd.databricks.v1+cell": {
     "cellMetadata": {},
     "inputWidgets": {},
     "nuid": "feb742e1-51a8-4b93-8235-604552cdb571",
     "showTitle": false,
     "title": ""
    }
   },
   "source": [
    "#Extract popular positions from original dataset\n"
   ]
  },
  {
   "cell_type": "code",
   "execution_count": 0,
   "metadata": {
    "application/vnd.databricks.v1+cell": {
     "cellMetadata": {
      "byteLimit": 2048000,
      "rowLimit": 10000
     },
     "inputWidgets": {},
     "nuid": "c0697b12-2b1d-4062-ad56-280c98c22901",
     "showTitle": false,
     "title": ""
    }
   },
   "outputs": [
    {
     "output_type": "stream",
     "name": "stdout",
     "output_type": "stream",
     "text": [
      "<class 'list'>\nnumber of positions: 2,536,258\n>>> there are 657 positions which occur above 300 times\n"
     ]
    }
   ],
   "source": [
    "\n",
    "profiles_l = profiles.withColumn(\"position_lower\", lower(col(\"position\")))\n",
    "positions_list = profiles_l.select(\"position_lower\").rdd.flatMap(lambda x: x).collect()\n",
    "print(type(positions_list))\n",
    "print(f\"number of positions: {len(positions_list):,}\")\n",
    "\n",
    "def extract_position_before_word_at(x):\n",
    "    if \" at \" in x:\n",
    "        return x[:x.index(\" at \")]\n",
    "    else:\n",
    "        return x\n",
    "    \n",
    "positions_list = list(map(extract_position_before_word_at, positions_list))\n",
    "\n",
    "count = Counter(positions_list)\n",
    "\n",
    "positions_counted = list(count.items())\n",
    "positions_counted = sorted(positions_counted, key=lambda x: x[1], reverse=True)\n",
    "\n",
    "above_300 = [x for x in positions_counted if x[1] >= 300]\n",
    "print(f\">>> there are {len(above_300):,} positions which occur above 300 times\")\n",
    "\n",
    "positions_above_300_df = pd.DataFrame(above_300, columns=[\"position\", \"count_in_data\"]) \n"
   ]
  },
  {
   "cell_type": "code",
   "execution_count": 0,
   "metadata": {
    "application/vnd.databricks.v1+cell": {
     "cellMetadata": {
      "byteLimit": 2048000,
      "rowLimit": 10000
     },
     "inputWidgets": {},
     "nuid": "5f7b5e17-8d75-447f-b23b-726de7530114",
     "showTitle": false,
     "title": ""
    }
   },
   "outputs": [],
   "source": [
    "path_to_dir = \"/dbfs/Users/almoogben\"\n",
    "Path.mkdir(Path(path_to_dir), exist_ok=True)\n",
    "\n",
    "positions_above_300_df.to_csv(f\"{path_to_dir}/positions_above_300.csv\", index=False)"
   ]
  },
  {
   "cell_type": "code",
   "execution_count": 0,
   "metadata": {
    "application/vnd.databricks.v1+cell": {
     "cellMetadata": {
      "byteLimit": 2048000,
      "rowLimit": 10000
     },
     "inputWidgets": {},
     "nuid": "1829ddfc-31b2-471c-a86b-72abe1ae82e4",
     "showTitle": false,
     "title": ""
    }
   },
   "outputs": [],
   "source": [
    "popular_positions = spark.read.csv(\"/Users/almoogben/positions_above_300.csv\", header=True, inferSchema=True)"
   ]
  },
  {
   "cell_type": "markdown",
   "metadata": {
    "application/vnd.databricks.v1+cell": {
     "cellMetadata": {},
     "inputWidgets": {},
     "nuid": "1a749c12-cb9a-437d-ac25-84a3c5f945a5",
     "showTitle": false,
     "title": ""
    }
   },
   "source": [
    "#Analysis\n"
   ]
  },
  {
   "cell_type": "code",
   "execution_count": 0,
   "metadata": {
    "application/vnd.databricks.v1+cell": {
     "cellMetadata": {
      "byteLimit": 2048000,
      "rowLimit": 10000
     },
     "inputWidgets": {},
     "nuid": "f430c72f-5dd1-4697-96c5-bf36a232bcfc",
     "showTitle": false,
     "title": ""
    }
   },
   "outputs": [
    {
     "output_type": "display_data",
     "data": {
      "image/png": "[encoded data removed]"
     },
     "metadata": {
      "application/vnd.databricks.v1+output": {
       "addedWidgets": {},
       "arguments": {},
       "data": "data:image/png;base64,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\n",
       "datasetInfos": [],
       "metadata": {},
       "removedWidgets": [],
       "type": "image"
      }
     },
     "output_type": "display_data"
    }
   ],
   "source": [
    "import matplotlib.pyplot as plt\n",
    "\n",
    "experience_counts = df_processed_final.groupBy(\"total_experience_years\").count().orderBy(\"count\", ascending=False).toPandas()\n",
    "\n",
    "plt.figure(figsize=(10, 6))\n",
    "plt.barh(experience_counts[\"total_experience_years\"], experience_counts[\"count\"])\n",
    "plt.xlabel(\"Count\")\n",
    "plt.ylabel(\"total_experience_years\")\n",
    "plt.title(\"Histogram of experience years\")\n",
    "plt.tight_layout()\n",
    "plt.show()"
   ]
  },
  {
   "cell_type": "code",
   "execution_count": 0,
   "metadata": {
    "application/vnd.databricks.v1+cell": {
     "cellMetadata": {
      "byteLimit": 2048000,
      "rowLimit": 10000
     },
     "inputWidgets": {},
     "nuid": "c801c072-ea35-4e2e-9efc-b07a2df19f55",
     "showTitle": false,
     "title": ""
    }
   },
   "outputs": [
    {
     "output_type": "display_data",
     "data": {
      "image/png": "[encoded data removed]"
     },
     "metadata": {
      "application/vnd.databricks.v1+output": {
       "addedWidgets": {},
       "arguments": {},
       "data": "data:image/png;base64,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\n",
       "datasetInfos": [],
       "metadata": {},
       "removedWidgets": [],
       "type": "image"
      }
     },
     "output_type": "display_data"
    }
   ],
   "source": [
    "position_counts = df_processed_final.groupBy(\"education_length\").count().orderBy(\"count\", ascending=False).toPandas()\n",
    "\n",
    "plt.figure(figsize=(10, 6))\n",
    "plt.barh(position_counts[\"education_length\"], position_counts[\"count\"])\n",
    "plt.xlabel(\"Count\")\n",
    "plt.ylabel(\"education_length\")\n",
    "plt.title(\"Histogram of education length\")\n",
    "plt.tight_layout()\n",
    "plt.show()"
   ]
  },
  {
   "cell_type": "code",
   "execution_count": 0,
   "metadata": {
    "application/vnd.databricks.v1+cell": {
     "cellMetadata": {
      "byteLimit": 2048000,
      "rowLimit": 10000
     },
     "inputWidgets": {},
     "nuid": "e5bf3522-df90-4699-9e4e-806a999a5815",
     "showTitle": false,
     "title": ""
    }
   },
   "outputs": [
    {
     "output_type": "display_data",
     "data": {
      "image/png": "[encoded data removed]"
     },
     "metadata": {
      "application/vnd.databricks.v1+output": {
       "addedWidgets": {},
       "arguments": {},
       "data": "data:image/png;base64,iVBORw0KGgoAAAANSUhEUgAAAsgAAAGoCAYAAABbtxOxAAAAOXRFWHRTb2Z0d2FyZQBNYXRwbG90bGliIHZlcnNpb24zLjQuMywgaHR0cHM6Ly9tYXRwbG90bGliLm9yZy/MnkTPAAAACXBIWXMAAAsTAAALEwEAmpwYAABBAUlEQVR4nO3debhdVX3/8feHAGEOKlQjqFGMUkSIDA4IFgWtiiJaEClV0FbEWhQULa3+rNraotgWhzrghCgiiqAIFkEFQeYEkhAQRCFaUREH5jl+f3/sdWFzvVOSm9ybm/frec5z9ll77bW+a98T+J511t4nVYUkSZKkzhoTHYAkSZI0mZggS5IkST0myJIkSVKPCbIkSZLUY4IsSZIk9ZggS5IkST0myJIkabkkuT3JE0bYf2WSXVdeRNLyMUGWpCmqJS0Djz8muav3ev9x6uOVSS5IcmeSc4bYPyfJvLZ/XpI5I7R1TpJKsu2g8lNa+a7LGeviJLuPUmejJEcn+Xk7Tz9trzdZnr4nkyQHJlnSxndrkvlJXrI8bVbVBlV1XWv/2CT/Nmj/U6rqnOXpQ1qZTJAlaYpqScsGVbUB8HPgpb2y48epm98DRwNHDt6RZG3gm8CXgIcBXwC+2cqH82PgNb02HgE8C7hpnOIdVovre8BTgBcCG7W+fwc8fUX3v5Jd2N4XGwOfBb6a5GETG5I0eZggS9JqJsn0Niv6y/Y4Osn0tm/XJL9I8s9JfttmXYedba6q71bVV4FfDrF7V2BN4OiquqeqPgIEeN4I4R0P7JtkWnu9H3AKcO8Y498kyWlJbk7y+yTnJVkjyReBxwLfajOn7xii79e0Oi+vqquq6o9V9Zuq+teq+nZr/8/bTPfNbdnAnr24jk3y8ST/2/o4P8mjWnx/SHJ1kqf16i9O8vYkC5PckeSzSR7Zjr8tyXf7SWuSPVufN7cY/nxQW4e3tm5JcmKSdUY4zwBU1R+BzwHrAlskmZHkuCQ3JflZknclWaP18cQkP2jt/zbJib3+q+0/CNgfeEc7B9/qxbf7GP5+A++/tyX5TZJfJXltr58XJ7mqnZ8bkhw+2hilZWGCLEmrn3cCzwTmANvSzY6+q7f/UcAmwGbAAcAxSZ68DP08BVhYVdUrW9jKh/NL4CrgBe31a4DjliL+twG/ADYFHgn8M1BV9WoeOov+wSH63h04o6puHyqwJGsB3wLOBP4MOAQ4ftC5eWWLZRPgHuBC4LL2+iTgvwY1+1fA84EnAS8F/rfFvCnd/6Pf3Pp+EnACcGjb9226ZL8/G/9KupnvxwPbAAcONY5BY1oT+DvgduBa4KPADOAJwF/Qnf+BBPVf29gfBmze6j5EVR1D9yHng+08v3SIbsfy/ptB9/77W+B/eh8UPgu8oao2BLYGvj/aGKVlYYIsSauf/YH3tdnRm4D3Aq8eVOf/tVnfHwCn0yVfS2sD4JZBZbcAG45y3HHAa5JsCWxcVRcuRfz3ATOBx1XVfVV13qAEfSSPAH41wv5n0o3pyKq6t6q+D5xGN8s94JSqmldVd9PNfN9dVcdV1RLgROBpg9r8aFXdWFU3AOcBF1fV5b3jB+rvC5xeVWdV1X3Ah+hmfXfqtfWRqvplVf2eLpGfM9JYktwM/LrF/3K6JPlVwD9V1W1VtRj4Tx56bh8HPLqq7q6qH47Q/khGe//d1/bf12bubwee3Nu3VZKNquoPVXXZMsYgjcgEWZJWP48GftZ7/bNWNuAPVXXHCPvH6na6dbx9GwG3jXLcyXTLMP4B+OIQ+0eK/yjgJ8CZSa5LcsRSxPs7uuR6OI8G/q8tS+j3vVnv9Y297buGeL3BoDbHWv8hY24x/N+gvn/d275ziL76Lqqqjatqk6p6ZlV9l26Wey3+9NwO9PEOuiUyl7SlHq8bof2RjPb++11V3T/MWP4KeDHws7bc41nLGIM0IhNkSVr9/JJuJnDAY3noGuKHJVl/hP1jdSWwTZL0yrZp5cOqqjvplhq8kaET5GHjbzOfb6uqJwB7Am9NsttA06PE+13gLweNfXC/jxlYk9vr+4ZR2h0PDxlzO6ePGee+f8uDs8QDHhhfVf26ql5fVY8G3gB8PMkTh2hntPM82vtvWFV1aVW9jG6JyzeAr47lOGlpmSBL0urnBOBdSTZNd/uyd9PdaaLvvUnWTrIL8BLga0M1lGRauxhsTWCNJOu0tboA5wBLgDe3C7P+oZWPZd3oPwN/0b7mH3P8SV7SLhYL3XKOJcDAjO+NdGtrh/NFulnZryfZsl3c94h0Fyy+GLiYbjbzHUnWSnfbuZcCXxnDeJbXV4E9kuzWzu/b6NY4XzBeHbRlIF8F3p9kwySPA97Kg+d2nySbt+p/oEuE/zhEU6Od57G8//5Eez/un2RGW2Zy6zD9S8vNBFmSVj//Bsylu2DuCrqLyPr3rf01XQL0S7oLrg6uqquHaevVdEsBPgHs0rY/DVBV9wJ70V3odTPwOmCvVj6itpZ2uDWuI8U/m24m+Ha6C+Q+XlVnt33/QZeY3TzU3Q+q6h66C/WuBs6iS8AuoVt6cHGL+6XAi+hmWz8OvGaEczNuquoa4G/oLoz7bYvjpWM5l0vpEOAO4Drgh8CX6e5yAbAjcHGS24FTgbcM3Pt4kM/SrRO+Ock3htg/2vtvJK8GFie5FTiYbj2zNO4y9msXJElTXZsV/VJVbT5KVUmaspxBliRJknpMkCVJkqQel1hIkiRJPc4gS5IkST1rTnQAkka2ySab1KxZsyY6DEmSppx58+b9tqo2HVxugixNcrNmzWLu3LkTHYYkSVNOkp8NVe4SC0mSJKnHBFmSJEnqMUGWJEmSekyQJUmSpB4TZEmSJKnHBFmSJEnqMUGWJEmSekyQJUmSpB4TZEmSJKnHBFmSJEnqMUGWJEmSekyQJUmSpB4TZEmSJKnHBFmSJEnqMUGWJEmSetac6AAkjeyKG25h1hGnT3QYmoQWH7nHRIcgSVOSM8iSJElSjwmyJEmS1GOCLEmSJPWYIEuSJEk9JsiSJElSjwmyJEmS1GOCLEmSJPWYIEuSJEk9JsiSJElSzwpLkJPcvpT1d01y2oqKZwz9L1W8g449MMmjR9i/ZpKbkhy5PO2Mt9bfx4bZ96Ikc5NcleTyJP+5DO2fkGRhksOSHJpkvaU49j1JbkgyP8miJHsuZd+7JLmyHb/u0sY+RHsHJ3nN8rYzqM1ZSRaNZ5uSJGn5OYM8Pg4ERkpsnw/8GNgnSYaqkGTaGNpZKZJsDXwM+Juq2grYAfjJEPWG/anyJI8Cdqyqbarqv4FDgTEnyM1/V9UcYB/gc0ke8n4dqX9gf+A/qmpOVd21lP3+iar6ZFUdt7ztSJKkyW+FJ8htZvicJCcluTrJ8QNJYpIXtrLLgFf0jlk/yeeSXNJmL1/Wyg9M8s3W3rVJ/qV3zN+0+vOTfKolnCS5Pcn7kyxIclGSR7byxye5MMkVSf5tUMxvT3Jpm/18byubleRHST7dZibPTLJukr3pEsjjR5it3A/4MPBz4Fm9fhYn+UAb/36D20lyZJvBXZjkQ0Oc26e3MVye5IIkT+6dp5OTnNHO0wd7x7w2yY+TXAI8e5g/2zuA91fV1QBVtaSqPtGOPzbJJ5NcDHxwuBiAM4HN2lj+hS7xPzvJ2UmmtXYWtfN/2DBx0Pr/EXA/sEn72x+dZC7wliS7tb6vaO+Z6Un+Dngl8K9Jjh/hb7p+ktPbe2NRkn1b+Z+c93Qz2oe37TntvbQwySlJHtbKz2l/z0vaOd6llc9Kcl6Sy9pjp5HGK0mSJtZIM3Dj6WnAU4BfAucDz24JzqeB59HNTp7Yq/9O4PtV9bokGwOXJPlu2/d0YGvgTuDSJKcDdwD7As+uqvuSfJxuBvE4YH3goqp6Z0sUXw/8G13C+omqOi7JmwY6TvICYHbrJ8CpSZ5Dl9zOBvarqtcn+SrwV1X1pST/ABxeVXMHDzzJOsDuwBuAjekS4Qt6VX5XVdu1un830E6SRwAvB7asqmrnYbCrgV2q6v4kuwP/DvxV2zennfd7gGuSfJQuyXwvsD1wC3A2cPkQ7W4NjLSkYnNgp6pakmSjYWLYEzitzQCT5LXAc6vqt0m2Bzarqq3bvqHG9oAkzwD+CNzUitauqh3aub0W2K2qfpzkOOCNVXV0kp1b/yeN8DfdFPhlVe3R+pkxxvN+HHBIVf0gyfuAf6GbIQdYs6qenuTFrXx34DfA86vq7iSzgRPoPgyNNOaDgIMApm206UhVJUnSOFtZSywuqapfVNUfgfnALGBL4PqquraqCvhSr/4LgCOSzAfOAdYBHtv2nVVVv2tfm58M7AzsRpf0XdqO2Q14Qqt/LzCwtnle6xu62dMT2vYXB/X9ArrE8bIW5+y27/qqmj9EWyN5CXB2i/frwF5ps9vNiUMfxi3A3cBnk7yC7gPBYDOAr6Vbx/rfdB9CBnyvqm6pqruBq4DHAc8Azqmqm6rq3hH6Hs3XqmrJGGIYznXAE5J8NMkLgVuHqXdY+3t+CNi3vU/oxf1kur/Jj9vrLwDPGaKd4f6mVwDPb7O+u1TVLYxy3pPMADauqh8M0+fJ7bn//lgL+HSSK4CvAVsNM94HVNUxVbVDVe0wbb0Zo1WXJEnjaGXNIN/T214yhn5DNzt7zUMKu5nEGlS3Wv0vVNU/DdHWfb3EanDfg9sa6Ps/qupTg/qeNcQ4xnLx137AzkkWt9ePoJs1P6u9vmOog9qM7NPpkv29gX9ox/X9K13y/fIW3zm9fUt7zvuupPvAsWCY/f2YR4phSFX1hyTbAn8JHEy3HOJ1Q1T976r6k6UlDHPORjDk3xQgyXbAi4F/S/K9qnrfGM77SAbOe/+cHwbcCGxL96H07qWMX5IkrUQTeZHe1cCsJFu01/v19n0HOCR5YK3y03r7np/k4enW+u5Ft2Tje8DeSf6s1X94kseN0v/5wKva9v6D+n5dkg1aW5sNtDuC24ANBxcOLD8AHltVs6pqFvCmQWMdsp3W/4yq+jZdgrXtEPVnADe07QNHiRHgYuAvkjwiyVp0F78N5Sjgn5M8qcWyRpKDh6k71hj6Y9sEWKOqvg68C9huDLEP5Rq699AT2+tXAz8Yot6Qf9N0dwy5s6q+RDfm7UY7722W+Q8D64tH6LNvBvCr9g3Kq4Fpo9SXJEkTaGXNIP+Jth7zIOD0JHcC5/FgkvmvwNHAwnR3LriebqkCwCV0SxU2B740sO43ybuAM1v9++gS0Z+NEMJbgC8n+Ufgm724zkzy58CFLT+/HfgbuhnB4RwLfDLJXcCzendNeDndWur+bO436S5umz5KOy8CvtnW2QZ46xD1Pwh8oY399BHiGxjbr5K8B7gQuJluuctQ9RYmORQ4Id2t2YoHl6ksawzHAGck+SXdet3P58G7Ugw18z+q9h56Ld0SjzWBS4FPDlFvuL/pE4GjkvyR7j3zRrr34Gjn/QC6v9N6dMtFXjtKqB8Hvp7uNnFnsPQz4JIkaSXKg6sPJr8kBwI7VNU/THQs0soyfebsmnnA0RMdhiahxUfuMdEhSNIqLcm8qvqTC+e9D7IkSZLUM2FLLJZFVR1LtwxBkiRJWiGcQZYkSZJ6TJAlSZKkHhNkSZIkqccEWZIkSeoxQZYkSZJ6TJAlSZKknlXqNm/S6uipm81grj8IIUnSSuMMsiRJktRjgixJkiT1mCBLkiRJPSbIkiRJUo8JsiRJktRjgixJkiT1eJs3aZK74oZbmHXE6RMdhiahxd7+T5JWCGeQJUmSpB4TZEmSJKnHBFmSJEnqMUGWJEmSekyQJUmSpB4TZEmSJKnHBFmSJEnqMUGWJEmSekyQJUmSpB4TZC21JEuSzE+yKMm3kmy8jO08OslJI+zfOMnfL3Ogo/f/niSHD1N+Z5I/65XdvqLikCRJk4sJspbFXVU1p6q2Bn4PvGlZGqmqX1bV3iNU2RhYqgQ5nfF4X/8WeNuyHpzEn3GXJGkVZYKs5XUhsBlAki2SnJFkXpLzkmzZK78oyRVJ/m1gNjbJrCSL2vZTklzSZqYXJpkNHAls0cqOavXenuTSVue9vXauSXIcsAh4zFD1Wt13Jvlxkh8CTx5hXJ8D9k3y8H5hP+b2+vAk72nb5yQ5Oslc4C1J9mmz7AuSnNvqTEtyVC+2Nyz7qZckSSuCs1xaZkmmAbsBn21FxwAHV9W1SZ4BfBx4HvBh4MNVdUKSg4dp7uBW5/gkawPTgCOAratqTuvvBcBs4OlAgFOTPAf4eSs/oKouGqHeHcCrgDl07/3LgHnDxHM7XZL8FuBfluK0rF1VO7R4rwD+sqpu6C1D+VvglqraMcl04PwkZ1bV9f1GkhwEHAQwbaNNl6J7SZK0vEyQtSzWTTKfbub4R8BZSTYAdgK+lmSg3vT2/Cxgr7b9ZeBDQ7R5IfDOJJsDJ7cke3CdF7TH5e31BnSJ8M+Bn1XVRaPU2xA4paruBEhy6ijj/AgwP8lQ8Q7nxN72+cCxSb4KnNyLbZskA0tLZrTYHpIgV9UxdB84mD5zdi1F/5IkaTmZIGtZ3FVVc5KsB3yHbg3yscDNA7O9S6uqvpzkYmAP4Ntt6cF1g6oF+I+q+tRDCpNZdLPDo9U7dCljujnJl3noGuv7eejSpHUGHfZAHFV1cJtJ3wOYl2T7FtshVfWdpYlFkiStPK5B1jJrM7FvpruY7U7g+iT7wAMXy23bql4E/FXbftVQbSV5AnBdVX0E+CawDXAb3azvgO8Ar2uz1STZrH+niTHUOxfYK8m6STYEXjqGYf4X8AYe/DB5I/BnSR7Rlki8ZLgDk2xRVRdX1buBm4DHtNjemGStVudJSdYfQxySJGklcQZZy6WqLk+yENgP2B/4RJJ3AWsBXwEWAIcCX0ryTuAM4JYhmnol8Ook9wG/Bv69qn6f5Px2Udz/VtXbk/w5cGFbfnE78DfAkkExnTlUvaq6LMmJLabfAJeOYXy/TXIKcFh7fV+S9wGXADcAV49w+FHtYsMA32v9LgRmAZelC+4mHlx+IkmSJoFUubxRK1ZbinFXVVWSVwH7VdXLJjquVcX0mbNr5gFHT3QYmoQWH7nHRIcgSau0JPMGLq7vcwZZK8P2wMfajOnNwOsmNhxJkqThmSBrhauq84BtR60oSZI0CXiRniRJktRjgixJkiT1mCBLkiRJPSbIkiRJUo8JsiRJktRjgixJkiT1eJs3aZJ76mYzmOsPQkiStNI4gyxJkiT1mCBLkiRJPSbIkiRJUo8JsiRJktRjgixJkiT1eBcLaZK74oZbmHXE6RMdhiaxxd7lRJLGlTPIkiRJUo8JsiRJktRjgixJkiT1mCBLkiRJPSbIkiRJUo8JsiRJktRjgixJkiT1mCBLkiRJPSbIkiRJUo8JsiRJktRjgrwKSrJXkkqy5SSJZave6/cl2X2c2l6c5IokC5OcmeRRS3n8UUmuTHLUOMXz7SQbj0dbvTbfk+Tw8WxTkiQtHxPkVdN+wA/b80TbC3ggQa6qd1fVd8ex/edW1TbAXOCf+zvSGek9fBCwTVW9fTwCqaoXV9XN49GWJEmavEyQVzFJNgB2Bv4WeFWvfFqSDyVZ1GZcD2nlOya5IMmCJJck2TDJOkk+32ZnL0/y3Fb3wCQf67V5WpJd2/btSd7f2rkoySOT7ATsCRyVZH6SLZIcm2TvdsziJO9Nclnra8tWvmmSs9rs7meS/CzJJqMM/VzgiUlmJbkmyXHAIuAxbaZ4Uetj39bHqcAGwLwk+7Y+v57k0vZ4dqv3Fy32+e1cbJhkZpJzW9miJLv0xrNJ235r27coyaGtbFaSHyX5dBvbmUnWbfte3/pd0OJYb9neAZIkaUUzQV71vAw4o6p+DPwuyfat/CBgFjCnzbgen2Rt4ETgLVW1LbA7cBfwJqCq6ql0s9BfSLLOKP2uD1zU2jkXeH1VXQCcCry9quZU1U+HOO63VbUd8AlgYCnBvwDfr6qnACcBjx3DuF8CXNG2ZwMfb8fvAMwBBsZ3VJKZVbUncFeL60Tgw8B/V9WOwF8Bn2ltHQ68qarmALu08/PXwHda2bbA/H4g7Zy/FngG8Ezg9Ume1ovtf1psN7e+AE6uqh3b+fsR3QecYSU5KMncJHOX3HnLGE6PJEkaLybIq579gK+07a/w4DKL3YFPVdX9AFX1e+DJwK+q6tJWdmvbvzPwpVZ2NfAz4Emj9HsvcFrbnkeXjI/FyUMcs/PAGKrqDOAPIxx/dpL5wEbAf7Syn1XVRb22TqiqJVV1I/ADYMch2tkd+Fhr61RgozYbfz7wX0neDGzczs+lwGuTvAd4alXdNqitnYFTquqOqrq9jXGXtu/6qpo/xJi3TnJekiuA/YGnjDBmquqYqtqhqnaYtt6MkapKkqRxtuZEB6CxS/Jw4HnAU5MUMA2oJOOyxha4n4d+aOrPKt9XVdW2lzD29849y3BM33Or6rcDL9pFcncsQztrAM+sqrsHlR+Z5HTgxcD5Sf6yqs5N8hxgD+DYJP9VVceNsZ97ettLgHXb9rHAXlW1IMmBwK7LMAZJkrQSOIO8atkb+GJVPa6qZlXVY4Dr6WYvzwLekGRNeCCZvgaYmWTHVrZh238e3SwmSZ5Et8ThGmAxMCfJGkkeAzx9DDHdBmy4lOM4H3hl6/8FwMOW8vi+84B92xrsTYHnAJcMUe9M4JCBF0nmtOctquqKqvoA3czxlkkeB9xYVZ+mW4qx3RB97pVkvSTrAy9vZSPZEPhVkrVo516SJE1OJsirlv2AUwaVfb2Vfwb4ObAwyQLgr6vqXmBf4KOt7Cy6WeGPA2u0r/tPBA6sqnvoEtfrgauAjwCXjSGmrwBvbxe4bTHGcbwXeEGSRcA+wK/pEu1lcQqwEFgAfB94R1X9eoh6bwZ2SHcB41XAwa380Hah3ULgPuB/6WZ3FyS5nO78fbjfUFVdRjcjfAlwMfCZqrp8lDj/X6t7PnD10g5SkiStPHnwW3Np5UgyHVhSVfcneRbwiXZBnIYwfebsmnnA0RMdhiaxxUfuMdEhSNIqKcm8qtphcLlrkDURHgt8Nd09jO8FXj/B8UiSJD3ABFkrXVVdCzxt1IqSJEkTwDXIkiRJUo8JsiRJktRjgixJkiT1mCBLkiRJPSbIkiRJUo93sZAmuaduNoO53udWkqSVxhlkSZIkqccEWZIkSeoxQZYkSZJ6TJAlSZKkHhNkSZIkqccEWZIkSerxNm/SJHfFDbcw64jTJzoMTWKLvQ2gJI0rZ5AlSZKkHhNkSZIkqccEWZIkSeoxQZYkSZJ6TJAlSZKkHhNkSZIkqccEWZIkSeoxQZYkSZJ6TJAlSZKkHhNkTSlJliSZn2RRkq8lWW8c2vx2ko2HKH9PksOXsc1ZSf56eWOTJEnjzwRZU81dVTWnqrYG7gUO7u9MstQ/r15VL66qm8cpvgGzABNkSZImIRNkTWXnAU9MsmuS85KcClyVZFqSo5JcmmRhkjcAJJmZ5NzeDPQurXxxkk3a9juT/DjJD4EnD3SUZIskZySZ1/raspUfm+QjSS5Icl2SvdshRwK7tL4OW4nnRJIkjWKpZ9OkVUGbKX4RcEYr2g7YuqquT3IQcEtV7ZhkOnB+kjOBVwDfqar3J5kGrDeoze2BVwFz6P7tXAbMa7uPAQ6uqmuTPAP4OPC8tm8msDOwJXAqcBJwBHB4Vb1k/EcvSZKWhwmyppp1k8xv2+cBnwV2Ai6pqutb+QuAbXqzuTOA2cClwOeSrAV8o6rm81C7AKdU1Z0AbUaaJBu0Pr6WZKDu9N5x36iqP9LNXj9yLINoSfxBANM22nQsh0iSpHFigqyp5q6qmtMvaEnrHf0i4JCq+s7gg5M8B9gDODbJf1XVcWPocw3g5sH99twzqO9RVdUxdLPSTJ85u8ZyjCRJGh+uQdbq6DvAG9tMMUmelGT9JI8DbqyqTwOfoVuW0XcusFeSdZNsCLwUoKpuBa5Psk9rL0m2HSWG24ANx29IkiRpvJgga3X0GeAq4LIki4BP0X2bsiuwIMnlwL7Ah/sHVdVlwInAAuB/6ZZkDNgf+NskC4ArgZeNEsNCYEmSBV6kJ0nS5JIqv72VJrPpM2fXzAOOnugwNIktPnKPiQ5BklZJSeZV1Q6Dy51BliRJknpMkCVJkqQeE2RJkiSpxwRZkiRJ6jFBliRJknpMkCVJkqQeE2RJkiSpxwRZkiRJ6llzogOQNLKnbjaDuf4QhCRJK40zyJIkSVKPCbIkSZLUY4IsSZIk9ZggS5IkST0myJIkSVKPCbIkSZLU423epEnuihtuYdYRp090GJrkFnsrQEkaN84gS5IkST0myJIkSVKPCbIkSZLUY4IsSZIk9ZggS5IkST0myJIkSVKPCbIkSZLUY4IsSZIk9ZggS5IkST0myJNMkkcl+UqSnyaZl+TbSZ40ju3vlWSrcWzvwCSP7r3+zHi039q9Kcn8JFclef1SHr9lO/byJFuMQzx7JjliedsZot3bx7tNSZK0fEyQJ5EkAU4BzqmqLapqe+CfgEeOYzd7AUMmsEmW5afHDwQeSJCr6u+q6qpliuxPnVhVc4BdgX9P8pDzMEq8ewEnVdXTquqnyxtIVZ1aVUcubzuSJGnyM0GeXJ4L3FdVnxwoqKoFVXVeOkclWZTkiiT7AiTZNck5SU5KcnWS41uiTZIj2+zrwiQfSrITsCdwVJtd3aIde3SSucBbkhybZO+B/vsznEn+sfW9oLW9N7ADcHxrb93W3g6t/n6t/qIkH+i3meT9rZ2LBie+g1XVb4CfAo9r8X0yycXAB5PMaW0sTHJKkocleTFwKPDGJGe3Pv8mySUtzk8lmdYex/bO6WGt7pt75+0rrezAJB9r27OSfL/t/16Sx7byY5N8JMkFSa4bOI9JNmj1Lmv9vGzp3xqSJGllWZYZQ604WwPzhtn3CmAOsC2wCXBpknPbvqcBTwF+CZwPPDvJj4CXA1tWVSXZuKpuTnIqcFpVnQTQcum1q2ogqT12qM6TvAh4GfCMqrozycOr6vdJ/gE4vKrm9tqjLbv4ALA98AfgzCR7VdU3gPWBi6rqnUk+CLwe+LfhTkqSJwBPAH7SijYHdqqqJUkWAodU1Q+SvA/4l6o6NMkngdur6kNJ/hzYF3h2Vd2X5OPA/sCVwGZVtXXrZ+PW/hHA46vqnl5Z30eBL1TVF5K8DvgI3Yw1wExgZ2BL4FTgJOBu4OVVdWuSTYCLkpxaVTXCmA8CDgKYttGmw1WTJEkrwJhmkJO8Ism1SW5JcmuS25LcuqKD00PsDJxQVUuq6kbgB8CObd8lVfWLqvojMB+YBdxCl5h9NskrgDtHaPvEMfS/O/D5qroToKp+P0r9HemWitxUVfcDxwPPafvuBU5r2/NavEPZN8l84ATgDb0+v9aS4xnAxlX1g1b+hV4ffbvRJeqXtvZ2o0u4rwOekOSjSV4IDLynF9LNiv8NcP8Q7T0L+HLb/iLd32bAN6rqj22ZycDMeOiWiCwEvgtsxijLZqrqmKraoap2mLbejJGqSpKkcTbWJRYfBPasqhlVtVFVbVhVG63IwFZTV9Ilckvrnt72EmDNlpQ+nW4G8yXAGSMcf0dv+37a+yLJGsDayxDPaO7rzZ4uYfhvMk6sqjlV9YyqOqVXfscw9YcTuhnfOe3x5Kp6T1X9gW5G/hzgYOAzrf4ewP8A29El1UvzTUv/b5H2vD+wKbB9W1N9I7DOUo5BkiStJGNNkG+sqh+t0EgE8H1gevt6HYAk2yTZBTiPbkZ1WpJN6WZKLxmuoSQbADOq6tvAYXSJIMBtwIYjxLCYB5P0PYG12vZZwGuTrNfaf/go7V0C/EWSTZJMA/ajm/UeN1V1C/CHdn4AXj1MH98D9k7yZwOxJ3lcW+6wRlV9HXgXsF37UPCYqjob+EdgBrDBoPYuAF7Vtven+9uMZAbwm7a847nA45ZqoJIkaaUa68zY3CQnAt+gN0NWVSeviKBWV22t8MuBo5P8I90SicV0F5z9kO6r/QVAAe+oql8n2XKY5jYEvplkHbqZzLe28q8An07yZmDvIY77dDtuAd2s8x0ttjOSzKF7L9wLfBv4Z+BY4JNJ7mrxDYzlV+lui3Z26//0qvrmUp+U0R3Q+l+PbsnEawdXqKqrkryLbh30GsB9wJuAu4DPtzLo7hgyDfhSW74R4CNt7Xa/yUPacW8Hbhqqz0GOB76V5ApgLnD1sg1VkiStDBnhOqEHKyWfH6K4qup14x+SpL7pM2fXzAOOnugwNMktPnKPiQ5BklY5SeYN3Kigb0wzyFU12gyZJEmSNCWM9S4Wm7d7zP6mPb6eZPMVHZwkSZK0so31Ir3P093T9dHt8a1WJkmSJE0pY02QN62qz1fV/e1xLN1tqyRJkqQpZawJ8u/aT/UO/Dzv3wC/W5GBSZIkSRNhrAny64BXAr8GfkV3ezAv3JMkSdKUM9a7WPyM7kcjJEmSpCltxAQ5yTuq6oNJPkr34xQPUVVvXmGRSZIkSRNgtBnkgZ+XnruiA5E0tKduNoO5/giEJEkrzYgJclV9q23eWVVf6+9Lss8Ki0qSJEmaIGO9SO+fxlgmSZIkrdJGW4P8IuDFwGZJPtLbtRFw/4oMTJIkSZoIo61B/iXd+uM9gXm98tuAw1ZUUJIkSdJEGW0N8gJgQZLjq8oZY0mSJE15oy2x+GpVvRK4PEn/Nm8Bqqq2WaHRSeKKG25h1hGnT3QY0qS02Du8SFoBRlti8Zb2/JIVHYgkSZI0GYx4F4uq+lXb/C3wf+0X9aYD29KtT5YkSZKmlLHe5u1cYJ0kmwFnAq8Gjl1RQUmSJEkTZawJcqrqTuAVwMerah/gKSsuLEmSJGlijDlBTvIsYH9g4GqhaSsmJEmSJGnijDVBPpTul/NOqaorkzwBOHuFRSVJkiRNkNHuYgFAVf0A+EGSDZJsUFXXAW9esaFJkiRJK9+YZpCTPDXJ5cCVwFVJ5iVxDbIkSZKmnLEusfgU8NaqelxVPRZ4G/DpFReWJEmSNDHGmiCvX1UPrDmuqnOA9VdIRJIkSdIEGmuCfF2S/5dkVnu8C7huRQamiZdkSZL5SRYl+VaSjUepv1eSrcbQ7sFJXtO2j02y9xB1jk1yfev/snYXlaWJfZ8kP0oyLheTJnlfkt3Ho61em7smOW0825QkSctvrAny64BNgZOBrwObtDJNbXdV1Zyq2hr4PfCmUervBYyaIFfVJ6vquDH0//aqmgMcQbfM5yGSjHSrwb8FXl9Vzx1DP6OqqndX1XfHoy1JkjS5jZggJ1knyaHAv9JdoPeMqtq+qg6tqj+sjAA1aVwIbAaQZIskZ7SLNc9LsmWSnYA9gaParO8WSV6f5NIkC5J8Pcl67fj3JDl8Kfo+F3hiO3Zxkg8kuQzYJ8l+Sa5os9wfaHXeDewMfDbJUUmmtedLkyxM8oZWb2aSc3uz5Lu0use211ckOazVfWCmO8luSS5v+z+XZHovtve2Ge8rkmzZyp+e5MJ2zAVJnry8fwxJkrTijHabty8A9wHnAS8C/pzunshajbSZ2t2Az7aiY4CDq+raJM+g+3XF5yU5FTitqk5qx91cVZ9u2/9GN6v70WUI4aXAFb3Xv6uq7ZI8GrgI2B74A3Bmkr2q6n1JngccXlVzkxwE3FJVO7Zk9vwkZ9L9MuR3qur9bYzrAXOAzdqsOYOXlSRZh+5n1nerqh8nOQ54I3B0q/LbFtvfA4cDfwdcDexSVfe3ZRr/DvzVSANuMR8EMG2jTZf2fEmSpOUwWoK8VVU9FSDJZ4FLVnxImkTWTTKfbub4R8BZSTYAdgK+lmSg3vRhjt+6JcYbAxsA31nK/o9q691vokuuB5zYnncEzqmqmwCSHA88B/jGoHZeAGzTW+s8A5gNXAp8LslawDeqan6S64AnJPko3a9GnjmorScD11fVj9vrL9AtPTm6vT65Pc+jS8AH+vtCktlAAWuNNvCqOobugwjTZ86u0epLkqTxM9oa5PsGNqrq/hUciyafu9oa4McBoUsE1wBubmuTBx5/PszxxwL/0D5kvRdYZyn7f3tr//lVtahXfsdSthPgkF68j6+qM6vqXLqE+gbg2CSvaUuHtgXOAQ4GPrOUfd3Tnpfw4AfQfwXObrPSL2Xpz4MkSVqJRkuQt01ya3vcRjcLd2uS25LcujIC1MSrqjvpfjnxbcCdwPVJ9gFIZ9tW9TZgw96hGwK/ajO0+6+A0C4B/iLJJm2JxH7AD4ao9x3gjS0OkjwpyfpJHgfc2JaBfAbYLskmwBpV9XXgXcB2g9q6BpiV5Int9auH6bNvBl0SDnDgUo1QkiStdCMusaiqke4SoNVIVV2eZCFdEro/8Im2/GEt4CvAgvb86SRvBvYG/h9wMd0SiYt5aPI8HjH9KskRwNl0s8SnV9U3h6j6GWAWcFm6dSE30d1xY1fg7UnuA24HXkO3nOTzSQY+PP7ToD7vTvJauiUma9It0/jkKKF+kG6Jxbvolm1IkqRJLFUub5Qms+kzZ9fMA46e6DCkSWnxkXtMdAiSVmFJ5lXVDoPLx3ofZEmSJGm1YIIsSZIk9ZggS5IkST0myJIkSVKPCbIkSZLUY4IsSZIk9ZggS5IkST0j/lCIpIn31M1mMNd7vUqStNI4gyxJkiT1mCBLkiRJPSbIkiRJUo8JsiRJktRjgixJkiT1mCBLkiRJPd7mTZrkrrjhFmYdcfpEhyFpCljsLSOlMXEGWZIkSeoxQZYkSZJ6TJAlSZKkHhNkSZIkqccEWZIkSeoxQZYkSZJ6TJAlSZKkHhNkSZIkqccEWZIkSeqZMglyktsHvT4wycfGuY8L2vOsJH89hvqzkiwaZt/sJJckWZjku0vTRpL3JDl8aeNvxz5wXpLslWSr3r5zkuwwhjaelOTbSa5NclmSryZ55LLEM0o/S5LMT7IoydeSrLeUx5/Qzu9h4xTPBePRzqA2j02y93i3K0mSlt2USZBXhqraqW3OAkZNkEdxBPCJqtoGeP1ytrWs9gK2Gq1SX5J1gNPpYp9dVdsBHwc2HePxS/Pz5ndV1Zyq2hq4Fzh4rG0leRSwY1VtU1X/vRR9Dqv395ckSVPYapEgt1nY77fZxO8leWwr36fNTi5Icm4rOzDJN9ts6rVJ/qXXzsAs9ZHALm1287DW/nltNvWyJGNJpO4FNgeoquuXY2xbJDkjybwWw5at/KVJLk5yeZLvDp7hbTHuCRzVxrFF27VPm9n+cZJdhujyr4ELq+pbAwVVdU5VLRruPCTZtZWfClyVZFqSo5Jc2v4mbxjDUM8DnjhEW+sk+XySK9pYn9vqnwls1sa2ywjnaaj3wFPaOZjf4pvdym9vz2nxL2r97tsb5zlJTkpydZLjk6Tte3cb76IkxwyUS5KkyWdpZvMmu3WTzO+9fjhwatv+KPCFqvpCktcBH6GbPX038JdVdUOSjXvHPh3YGrgTuDTJ6VU1t7f/CODwqnoJQPvq//lVdXdLpk4ARluq8FPgH5NcXlWnjVJ3i0FjexTwobZ9DHBwVV2b5Bl0s7nPA34IPLOqKsnfAe8A3jbQQFVd0JLM06rqpDYOgDWr6ulJXgz8C7D7oFi2BuYNE+dvGP48bAdsXVXXJzkIuKWqdkwyHTg/yZnDfVBoM8UvAs4Yoq23dcOpp7ak98wkT6JL/k+rqjmtje8Nc56Geg8cDHy4qo5PsjYwbVBIrwDmANsCm9C9R85t+54GPAX4JXA+8Gy6v8XHqup9LZYvAi8BvoUkSZp0plKCfNdAMgTdTDAPJmfPoktqAL4IfLBtnw8cm+SrwMm9ts6qqt+1dk4Gdgb6CfJgawEfSzIHWAI8aaRAk2wHvIAumTorye+BC+mS5i2qqgYd8tNBY3tPe94A2An4Wm9Ccnp73hw4MclMYG1grLPUA+dhHt1SkqUx0nm4pJcAvwDYJg+uvZ0BzB4ixv6HnvOAz9KNt9/WznQfgKiqq5P8rPV760Ajo5ynod4DFwLvTLI5cHJVXTsorp2BE6pqCXBjkh8AO7Y+L6mqX7R+59Odwx8Cz03yDmA9ug9vVzJCgtw+RBwEMG2jMa1ekSRJ42QqJchLraoObrOJewDzkmw/sGtw1VGaOgy4kW5GcQ3g7lHq7w5cUFW/SPJyupnuTwLfHiI5HskawM395Lnno8B/VdWpSXYF3jPGNu9pz0sY+v1xJfAXwxw70nm4o7cd4JCq+s4osdw1eGwtwb1jyNrDG/Y8DfUeqKovJ7m4lX07yRuq6vtj7Oue3vYSYM1067Y/DuxQVf/XPuCsM1IjVXUM3bcDTJ85e2neE5IkaTmtFmuQgQuAV7Xt/elmI0myRVVdXFXvBm4CHtPqPD/Jw5OsS7cU4/xB7d0GbNh7PQP4VVX9EXg1f/qV/GCXAy9LMqOqrgaOAv4T+NLSDKqqbgWuT7JPG0+SbNuL6Ya2fcAwTQwex1h8GdgpyR4DBUmek2Rrxn4evgO8Mcla7fgnJVl/KeMYcB7d35S2tOKxwDX9CiOdp6HeA0meAFxXVR8BvglsM0Sf+6ZbS70p8BzgkhFiHEiGf9tms71rhSRJk9jqkiAfArw2yUK6xO0trfyodpHVIrokekErvwT4OrAQ+Pqg9ce08iXtwq7D6GYHD0iyANiSUWY4q+osumT4oiTzgL8EXkv3Vf/Sfp++P/C3re8rgZe18vfQLSmYB/x2mGO/Arw93cVtWwxTZ3Dsd9Gtnz0k3UWMVwF/T5dcjvU8fAa4CrisnftPsezfZnwcWCPJFcCJwIFVdc8Q9YY7T0O9B14JLGpLJLYGjhvU1il074EFwPeBd1TVr4cLsKpuBj4NLKL7cHDpMoxTkiStJFm6b/SnvoG1y1X1DxMdiwTdEouZBxw90WFImgIWH7nH6JWk1UiSeVX1JzdWWF1mkCVJkqQxWa0v0htKVR0LHDvBYUiSJGmCOIMsSZIk9ZggS5IkST0myJIkSVKPCbIkSZLUY4IsSZIk9ZggS5IkST3e5k2a5J662QzmenN/SZJWGmeQJUmSpB4TZEmSJKnHBFmSJEnqMUGWJEmSekyQJUmSpB4TZEmSJKnH27xJk9wVN9zCrCNOn+gwJK1mFnt7Sa3GnEGWJEmSekyQJUmSpB4TZEmSJKnHBFmSJEnqMUGWJEmSekyQJUmSpB4TZEmSJKnHBFmSJEnqMUGWJEmSekyQJUmSpB4TZGmCJfEn3yVJmkRMkKVBkrw1yaL2ODTJ25O8ue377yTfb9vPS3J82749yfuTLEhyUZJHtvJNk3w9yaXt8exW/p4kX0xyPvDFCRqqJEkaggmy1JNke+C1wDOAZwKvB34I7NKq7ABskGStVnZuK18fuKiqtm1lr2/lHwb+u6p2BP4K+Eyvu62A3atqvyHiOCjJ3CRzl9x5y3gOUZIkjcKvdqWH2hk4paruAEhyMvB0YPskGwH3AJfRJcq7AG9ux90LnNa25wHPb9u7A1slGWh/oyQbtO1Tq+quoYKoqmOAYwCmz5xd4zM0SZI0FibI0ugKuB44ELgAWAg8F3gi8KNW576qGkhkl/Dgv601gGdW1d39BlvCfMcKjVqSJC0Tl1hID3UesFeS9ZKsD7y8lZ0HHE63fOI84GDg8l5SPJwzgUMGXiSZsyKCliRJ48cEWeqpqsuAY4FLgIuBz1TV5XRJ8Uzgwqq6Ebi7lY3mzcAOSRYmuYousZYkSZNYRp8AkzSRps+cXTMPOHqiw5C0mll85B4THYK0wiWZV1U7DC53BlmSJEnqMUGWJEmSekyQJUmSpB4TZEmSJKnHBFmSJEnqMUGWJEmSekyQJUmSpB4TZEmSJKlnzYkOQNLInrrZDOZ6w35JklYaZ5AlSZKkHhNkSZIkqccEWZIkSeoxQZYkSZJ6TJAlSZKkHhNkSZIkqcfbvEmT3BU33MKsI06f6DAkSVPcYm8p+gBnkCVJkqQeE2RJkiSpxwRZkiRJ6jFBliRJknpMkCVJkqQeE2RJkiSpxwRZkiRJ6jFBliRJknpMkCVJkqQeE2SpSbJ5km8muTbJT5N8OMnaEx2XJElauUyQJSBJgJOBb1TVbOBJwAbA+1dC3/7kuyRJk4gJstR5HnB3VX0eoKqWAIcBr0tydpJtAJJcnuTdbft9SV6fZNck5yQ5KcnVSY5vCTdJtk/ygyTzknwnycxWfk6So5PMBd4yEQOWJElDM0GWOk8B5vULqupW4OfA2cAuSWYA9wPPblV2Ac5t208DDgW2Ap4APDvJWsBHgb2ranvgczx0Rnrtqtqhqv5zcDBJDkoyN8ncJXfeMk5DlCRJY+FXu9LofgD8PXA9cDrw/CTrAY+vqmvarPAlVfULgCTzgVnAzcDWwFltQnka8KteuycO12FVHQMcAzB95uwa3+FIkqSRmCBLnauAvfsFSTYCHgtcDuwAXAecBWwCvJ6Hzjjf09teQvdvK8CVVfWsYfq8Y1wilyRJ48olFlLne8B6SV4DkGQa8J/AsW2pxf8B+wAXAucBh/Pg8orhXANsmuRZrc21kjxlBcUvSZLGiQmyBFRVAS8H9klyLfBj4G7gn1uV84DfVNVdbXvz9jxSm/fSzUp/IMkCYD6w0woZgCRJGjfp8gJJk9X0mbNr5gFHT3QYkqQpbvGRe0x0CCtdknlVtcPgcmeQJUmSpB4TZEmSJKnHBFmSJEnqMUGWJEmSekyQJUmSpB4TZEmSJKnHBFmSJEnqMUGWJEmSetac6AAkjeypm81g7mp483ZJkiaKM8iSJElSjwmyJEmS1GOCLEmSJPWYIEuSJEk9JsiSJElSj3exkCa5K264hVlHnD7RYUiSNCEWT8CdnJxBliRJknpMkCVJkqQeE2RJkiSpxwRZkiRJ6jFBliRJknpMkCVJkqQeE2RJkiSpxwRZkiRJ6jFBliRJknpMkCVJkqQeE2SttpIsSTI/yaIk30qy8Sj190qyVe/1+5Lsvhz975rktGU9XpIkrRgmyFqd3VVVc6pqa+D3wJtGqb8X8ECCXFXvrqrvDq6UZNq4RilJklYqE2SpcyGwGUCSLZKckWRekvOSbJlkJ2BP4Kg267xFkmOT7N2OWZzkA0kuA/ZJ8oIkFya5LMnXkmzQ6r0wydWt3ismaKySJGkEJsha7bUZ392AU1vRMcAhVbU9cDjw8aq6oO1/e5t1/ukQTf2uqrYDvgu8C9i9vZ4LvDXJOsCngZcC2wOPGiGmg5LMTTJ3yZ23jM9AJUnSmKw50QFIE2jdJPPpZo5/BJzVZnp3Ar6WZKDe9DG2d2J7fibdUozzWxtr081QbwlcX1XXAiT5EnDQUA1V1TF0iTrTZ86upRqVJElaLibIWp3dVVVzkqwHfIduDfKxwM1VNWcZ2rujPQc4q6r26+9MsixtSpKklcwlFlrtVdWdwJuBtwF3Atcn2QcgnW1b1duADcfQ5EXAs5M8sbWxfpInAVcDs5Js0ertN1wDkiRp4pggS0BVXQ4spEta9wf+NskC4ErgZa3aV4C3J7m8l+QO1dZNwIHACUkW0pZXVNXddEsqTm8X6f1mRY1HkiQtO5dYaLVVVRsMev3S3ssXDlH/fHq3eaNLggf2zRpU9/vAjkO0cQbdWmRJkjRJOYMsSZIk9ZggS5IkST0myJIkSVKPCbIkSZLUY4IsSZIk9ZggS5IkST0myJIkSVKP90GWJrmnbjaDuUfuMdFhSJK02nAGWZIkSeoxQZYkSZJ6TJAlSZKkHhNkSZIkqccEWZIkSeoxQZYkSZJ6TJAlSZKkHhNkSZIkqccEWZIkSeoxQZYkSZJ6TJAlSZKkHhNkSZIkqccEWZIkSeoxQZYkSZJ6TJAlSZKkHhNkSZIkqSdVNdExSBpBktuAayY6jhVkE+C3Ex3ECjKVxwZTe3yObdU1lcfn2FaMx1XVpoML15yISCQtlWuqaoeJDmJFSDLXsa2apvL4HNuqayqPz7GtXC6xkCRJknpMkCVJkqQeE2Rp8jtmogNYgRzbqmsqj8+xrbqm8vgc20rkRXqSJElSjzPIkiRJUo8JsiRJktRjgixNUklemOSaJD9JcsRExzNWST6X5DdJFvXKHp7krCTXtueHtfIk+Ugb48Ik2/WOOaDVvzbJARMxlsGSPCbJ2UmuSnJlkre08lV+fEnWSXJJkgVtbO9t5Y9PcnEbw4lJ1m7l09vrn7T9s3pt/VMrvybJX07QkP5EkmlJLk9yWns9lca2OMkVSeYnmdvKVvn3JUCSjZOclOTqJD9K8qypMLYkT25/r4HHrUkOnQpjA0hyWPtvyaIkJ7T/xqw6/+aqyocPH5PsAUwDfgo8AVgbWABsNdFxjTH25wDbAYt6ZR8EjmjbRwAfaNsvBv4XCPBM4OJW/nDguvb8sLb9sEkwtpnAdm17Q+DHwFZTYXwtxg3a9lrAxS3mrwKvauWfBN7Ytv8e+GTbfhVwYtveqr1fpwOPb+/jaRP9t2uxvRX4MnBaez2VxrYY2GRQ2Sr/vmxxfQH4u7a9NrDxVBlbb4zTgF8Dj5sKYwM2A64H1m2vvwocuCr9m3MGWZqcng78pKquq6p7ga8AL5vgmMakqs4Ffj+o+GV0/5OjPe/VKz+uOhcBGyeZCfwlcFZV/b6q/gCcBbxwhQc/iqr6VVVd1rZvA35E9z+CVX58Lcbb28u12qOA5wEntfLBYxsY80nAbknSyr9SVfdU1fXAT+jezxMqyebAHsBn2uswRcY2glX+fZlkBt2H7s8CVNW9VXUzU2Bsg+wG/LSqfsbUGduawLpJ1gTWA37FKvRvzgRZmpw2A/6v9/oXrWxV9ciq+lXb/jXwyLY93Dgn/fjbV4BPo5tpnRLja0sQ5gO/ofuf7E+Bm6vq/lalH+cDY2j7bwEewSQdG3A08A7gj+31I5g6Y4Puw8yZSeYlOaiVTYX35eOBm4DPt+Uxn0myPlNjbH2vAk5o26v82KrqBuBDwM/pEuNbgHmsQv/mTJAlrVTVfW+2St9fMskGwNeBQ6vq1v6+VXl8VbWkquYAm9PN0mw5sRGNjyQvAX5TVfMmOpYVaOeq2g54EfCmJM/p71yF35dr0i3Z+kRVPQ24g27ZwQNW4bEB0Nbh7gl8bfC+VXVsbd30y+g+4DwaWJ/JMas9ZibI0uR0A/CY3uvNW9mq6sb2VSDt+TetfLhxTtrxJ1mLLjk+vqpObsVTZnwA7Svss4Fn0X2Nu2bb1Y/zgTG0/TOA3zE5x/ZsYM8ki+mWKz0P+DBTY2zAAzN2VNVvgFPoPuBMhfflL4BfVNXF7fVJdAnzVBjbgBcBl1XVje31VBjb7sD1VXVTVd0HnEz373CV+TdngixNTpcCs9sVv2vTff126gTHtDxOBQaurD4A+Gav/DXt6uxnAre0rxa/A7wgycPaTMQLWtmEamviPgv8qKr+q7drlR9fkk2TbNy21wWeT7fG+mxg71Zt8NgGxrw38P0223Uq8Kp2VfrjgdnAJStlEMOoqn+qqs2rahbdv6XvV9X+TIGxASRZP8mGA9t076dFTIH3ZVX9Gvi/JE9uRbsBVzEFxtazHw8ur4CpMbafA89Msl777+bA323V+Tc3nlf8+fDhY/wedFcs/5huHeg7JzqepYj7BLo1Z/fRzf78Ld1asu8B1wLfBR7e6gb4nzbGK4Adeu28ju6CjJ8Ar53ocbWYdqb7unMhML89XjwVxgdsA1zexrYIeHcrfwLd/5B+QvcV8PRWvk57/ZO2/wm9tt7ZxnwN8KKJHtugce7Kg3exmBJja+NY0B5XDvz3Yiq8L1tMc4C57b35Dbo7NUyVsa1PN1M6o1c2Vcb2XuDq9t+TL9LdiWKV+TfnT01LkiRJPS6xkCRJknpMkCVJkqQeE2RJkiSpxwRZkiRJ6jFBliRJknpMkCVJGkKSRyX5SpKftp9w/naSJ41j+7sm2Wm82pM0fkyQJUkapP24wSnAOVW1RVVtD/wT8Mhx7GZXwARZmoRMkCVJ+lPPBe6rqk8OFFTVAuCHSY5KsijJFUn2hQdmg08bqJvkY0kObNuLk7w3yWXtmC2TzAIOBg5LMj/JLitzcJJGtuboVSRJWu1sDcwbovwVdL/sti2wCXBpknPH0N5vq2q7JH8PHF5Vf5fkk8DtVfWh8Qpa0vhwBlmSpLHbGTihqpZU1Y3AD4Adx3Dcye15HjBrBcUmaZyYIEuS9KeuBLZfivr389D/p64zaP897XkJfnsrTXomyJIk/anvA9OTHDRQkGQb4GZg3yTTkmwKPAe4BPgZsFWS6Uk2BnYbQx+3ARuOd+CSlp+fYiVJGqSqKsnLgaOT/CNwN7AYOBTYAFgAFPCOqvo1QJKvAouA64HLx9DNt4CTkrwMOKSqzhvvcUhaNqmqiY5BkiRJmjRcYiFJkiT1mCBLkiRJPSbIkiRJUo8JsiRJktRjgixJkiT1mCBLkiRJPSbIkiRJUs//B5qEF7EDNhd1AAAAAElFTkSuQmCC\n",
       "datasetInfos": [],
       "metadata": {},
       "removedWidgets": [],
       "type": "image"
      }
     },
     "output_type": "display_data"
    }
   ],
   "source": [
    "import matplotlib.pyplot as plt\n",
    "\n",
    "position_counts = profiles.groupBy(\"position\").count().orderBy(\"count\", ascending=False)\n",
    "\n",
    "position_counts_df = position_counts.toPandas()\n",
    "top_positions = position_counts_df.head(10)\n",
    "\n",
    "plt.figure(figsize=(10, 6))\n",
    "plt.barh(top_positions[\"position\"], top_positions[\"count\"])\n",
    "plt.xlabel(\"Count\")\n",
    "plt.ylabel(\"Position\")\n",
    "plt.title(\"Top 10 Most Common Positions\")\n",
    "plt.tight_layout()\n",
    "plt.show()\n"
   ]
  },
  {
   "cell_type": "code",
   "execution_count": 0,
   "metadata": {
    "application/vnd.databricks.v1+cell": {
     "cellMetadata": {
      "byteLimit": 2048000,
      "rowLimit": 10000
     },
     "inputWidgets": {},
     "nuid": "a8c6a101-1446-461e-8076-3d21c8da4838",
     "showTitle": false,
     "title": ""
    }
   },
   "outputs": [
    {
     "output_type": "display_data",
     "data": {
      "image/png": "[encoded data removed]"
     },
     "metadata": {
      "application/vnd.databricks.v1+output": {
       "addedWidgets": {},
       "arguments": {},
       "data": "data:image/png;base64,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\n",
       "datasetInfos": [],
       "metadata": {},
       "removedWidgets": [],
       "type": "image"
      }
     },
     "output_type": "display_data"
    }
   ],
   "source": [
    "from collections import Counter\n",
    "import matplotlib.pyplot as plt\n",
    "\n",
    "all_positions = \" \".join(profiles.select(\"position\").rdd.flatMap(lambda x: x).collect())\n",
    "positions_tokens = all_positions.split()\n",
    "position_counts = Counter(positions_tokens)\n",
    "top_positions = dict(sorted(position_counts.items(), key=lambda item: item[1], reverse=True)[:15])\n",
    "\n",
    "plt.figure(figsize=(10, 6))\n",
    "plt.bar(top_positions.keys(), top_positions.values())\n",
    "plt.xlabel(\"Position\")\n",
    "plt.ylabel(\"Frequency\")\n",
    "plt.title(\"Top 10 Position (Matplotlib)\")\n",
    "plt.xticks(rotation=45, ha='right')\n",
    "plt.tight_layout()\n",
    "plt.show()\n"
   ]
  },
  {
   "cell_type": "code",
   "execution_count": 0,
   "metadata": {
    "application/vnd.databricks.v1+cell": {
     "cellMetadata": {
      "byteLimit": 2048000,
      "rowLimit": 10000
     },
     "inputWidgets": {},
     "nuid": "a06e5ef4-b295-43e2-bfe0-fb4975ba01e7",
     "showTitle": false,
     "title": ""
    }
   },
   "outputs": [
    {
     "output_type": "stream",
     "name": "stdout",
     "output_type": "stream",
     "text": [
      "Check if he ID column is unique: True\n"
     ]
    }
   ],
   "source": [
    "id_unique = profiles.select(\"id\").distinct().count() == profiles.count()\n",
    "print(f\"Check if he ID column is unique: {id_unique}\")"
   ]
  },
  {
   "cell_type": "markdown",
   "metadata": {
    "application/vnd.databricks.v1+cell": {
     "cellMetadata": {},
     "inputWidgets": {},
     "nuid": "8c46c1c6-4354-4213-b10d-cd3f72bd6368",
     "showTitle": false,
     "title": ""
    }
   },
   "source": []
  },
  {
   "cell_type": "markdown",
   "metadata": {
    "application/vnd.databricks.v1+cell": {
     "cellMetadata": {},
     "inputWidgets": {},
     "nuid": "2008d210-84c5-4fa8-aa9d-40904384ea0e",
     "showTitle": false,
     "title": ""
    }
   },
   "source": [
    "#Embedding to popular positions"
   ]
  },
  {
   "cell_type": "code",
   "execution_count": 0,
   "metadata": {
    "application/vnd.databricks.v1+cell": {
     "cellMetadata": {
      "byteLimit": 2048000,
      "rowLimit": 10000
     },
     "inputWidgets": {},
     "nuid": "39a56454-1dd5-4f0f-ba6a-1928de0685a0",
     "showTitle": false,
     "title": ""
    }
   },
   "outputs": [],
   "source": [
    "popular_positions = spark.createDataFrame(positions_above_300_df)"
   ]
  },
  {
   "cell_type": "code",
   "execution_count": 0,
   "metadata": {
    "application/vnd.databricks.v1+cell": {
     "cellMetadata": {
      "byteLimit": 2048000,
      "rowLimit": 10000
     },
     "inputWidgets": {},
     "nuid": "8d11a530-63e3-429d-813d-a34574c5b2c8",
     "showTitle": false,
     "title": ""
    }
   },
   "outputs": [
    {
     "output_type": "stream",
     "name": "stdout",
     "output_type": "stream",
     "text": [
      "small_bert_L2_128 download started this may take some time.\nApproximate size to download 16.1 MB\n\r[ | ]\r[ / ]\r[ — ]\r[ \\ ]\r[ | ]\r[ / ]\r[OK!]\n"
     ]
    }
   ],
   "source": [
    "import sparknlp\n",
    "from sparknlp.base import *\n",
    "from sparknlp.annotator import *\n",
    "from pyspark.ml import Pipeline\n",
    "\n",
    "documentAssembler = DocumentAssembler() \\\n",
    "    .setInputCol(\"position\") \\\n",
    "    .setOutputCol(\"document\")\n",
    "tokenizer = Tokenizer() \\\n",
    "    .setInputCols([\"document\"]) \\\n",
    "    .setOutputCol(\"token\")\n",
    "embeddings = BertEmbeddings.pretrained(\"small_bert_L2_128\", \"en\") \\\n",
    "    .setInputCols([\"token\", \"document\"]) \\\n",
    "    .setOutputCol(\"bert_embeddings\")\n",
    "embeddingsFinisher = EmbeddingsFinisher() \\\n",
    "    .setInputCols([\"bert_embeddings\"]) \\\n",
    "    .setOutputCols(\"position_bert\") \\\n",
    "    .setOutputAsVector(True)\n",
    "pipeline = Pipeline().setStages([\n",
    "    documentAssembler,\n",
    "    tokenizer,\n",
    "    embeddings,\n",
    "    embeddingsFinisher\n",
    "])\n",
    "\n",
    "popular_positions_emb = pipeline.fit(popular_positions).transform(popular_positions)"
   ]
  },
  {
   "cell_type": "code",
   "execution_count": 0,
   "metadata": {
    "application/vnd.databricks.v1+cell": {
     "cellMetadata": {
      "byteLimit": 2048000,
      "rowLimit": 10000
     },
     "inputWidgets": {},
     "nuid": "ddc71e0d-98ac-46a2-b762-224ebceefef5",
     "showTitle": false,
     "title": ""
    }
   },
   "outputs": [],
   "source": [
    "from pyspark.ml.feature import Word2Vec\n",
    "from pyspark.ml.feature import Tokenizer\n",
    "\n",
    "tokenizer = Tokenizer(inputCol='position', outputCol='position_tokens')\n",
    "profiles_tokenized = tokenizer.transform(popular_positions_emb)\n",
    "\n",
    "# Train word2vec model\n",
    "word2Vec = Word2Vec(vectorSize=50, minCount=10, inputCol='position_tokens', outputCol='position_w2v')\n",
    "model = word2Vec.fit(profiles_tokenized)\n",
    "\n",
    "# Generate position embeddings\n",
    "popular_positions_emb = model.transform(profiles_tokenized)"
   ]
  },
  {
   "cell_type": "code",
   "execution_count": 0,
   "metadata": {
    "application/vnd.databricks.v1+cell": {
     "cellMetadata": {
      "byteLimit": 2048000,
      "rowLimit": 10000
     },
     "inputWidgets": {},
     "nuid": "a9746337-01be-4355-81ae-989841e7f0da",
     "showTitle": false,
     "title": ""
    }
   },
   "outputs": [],
   "source": [
    "popular_positions_emb = popular_positions_emb.drop('document', 'token', 'bert_embeddings', 'position_tokens')"
   ]
  },
  {
   "cell_type": "code",
   "execution_count": 0,
   "metadata": {
    "application/vnd.databricks.v1+cell": {
     "cellMetadata": {
      "byteLimit": 2048000,
      "rowLimit": 10000
     },
     "inputWidgets": {},
     "nuid": "1f179194-ab7b-46eb-a50f-a3cb41a501ad",
     "showTitle": false,
     "title": ""
    }
   },
   "outputs": [],
   "source": [
    "from pyspark.sql.functions import col\n",
    "\n",
    "popular_positions_emb = popular_positions_emb.withColumn('position_bert', col('position_bert')[0])"
   ]
  },
  {
   "cell_type": "markdown",
   "metadata": {
    "application/vnd.databricks.v1+cell": {
     "cellMetadata": {},
     "inputWidgets": {},
     "nuid": "46028e3f-110f-46cc-8859-286f23cfbb0e",
     "showTitle": false,
     "title": ""
    }
   },
   "source": [
    "#Embedding to the profiles data positions."
   ]
  },
  {
   "cell_type": "code",
   "execution_count": 0,
   "metadata": {
    "application/vnd.databricks.v1+cell": {
     "cellMetadata": {
      "byteLimit": 2048000,
      "rowLimit": 10000
     },
     "inputWidgets": {},
     "nuid": "45ceae06-8059-49b9-b2a3-8429d4f0c6f5",
     "showTitle": false,
     "title": ""
    }
   },
   "outputs": [],
   "source": [
    "def extract_position_before_word_at(x):\n",
    "    if \" at \" in x:\n",
    "        return x[:x.index(\" at \")]\n",
    "    else:\n",
    "        return x"
   ]
  },
  {
   "cell_type": "code",
   "execution_count": 0,
   "metadata": {
    "application/vnd.databricks.v1+cell": {
     "cellMetadata": {
      "byteLimit": 2048000,
      "rowLimit": 10000
     },
     "inputWidgets": {},
     "nuid": "b18b6a8e-85bb-43e7-a9ad-2ea24f4bd50e",
     "showTitle": false,
     "title": ""
    }
   },
   "outputs": [],
   "source": [
    "from pyspark.sql import functions as F\n",
    "from pyspark.sql.functions import col, explode, lower, udf, collect_set, size, abs, lit, array, when\n",
    "df_processed_final = df_processed_final.withColumn(\"position\", F.udf(extract_position_before_word_at)(F.lower(F.col('position'))))"
   ]
  },
  {
   "cell_type": "code",
   "execution_count": 0,
   "metadata": {
    "application/vnd.databricks.v1+cell": {
     "cellMetadata": {
      "byteLimit": 2048000,
      "rowLimit": 10000
     },
     "inputWidgets": {},
     "nuid": "f720dd08-6d77-414e-9133-43ae5d563632",
     "showTitle": false,
     "title": ""
    }
   },
   "outputs": [],
   "source": [
    "from pyspark.ml.feature import Word2Vec\n",
    "from pyspark.ml.feature import Tokenizer\n",
    "\n",
    "tokenizer = Tokenizer(inputCol='position', outputCol='position_tokens')\n",
    "profiles_tokenized = Tokenizer(inputCol='position', outputCol='position_tokens')\n",
    "profiles_tokenized = tokenizer.transform(df_processed_final)\n",
    "\n",
    "# Train word2vec model\n",
    "word2Vec = Word2Vec(vectorSize=50, minCount=10, inputCol='position_tokens', outputCol='position_w2v')\n",
    "model = word2Vec.fit(profiles_tokenized)\n",
    "\n",
    "# Generate position embeddings\n",
    "profiles_emb = model.transform(profiles_tokenized)"
   ]
  },
  {
   "cell_type": "code",
   "execution_count": 0,
   "metadata": {
    "application/vnd.databricks.v1+cell": {
     "cellMetadata": {
      "byteLimit": 2048000,
      "rowLimit": 10000
     },
     "inputWidgets": {},
     "nuid": "44047868-d2e2-48cc-97da-89a5aa6c5a35",
     "showTitle": false,
     "title": ""
    }
   },
   "outputs": [
    {
     "output_type": "stream",
     "name": "stdout",
     "output_type": "stream",
     "text": [
      "small_bert_L2_128 download started this may take some time.\nApproximate size to download 16.1 MB\n\r[ | ]\r[OK!]\n"
     ]
    }
   ],
   "source": [
    "import sparknlp\n",
    "from sparknlp.base import *\n",
    "from sparknlp.annotator import *\n",
    "from pyspark.ml import Pipeline\n",
    "\n",
    "documentAssembler = DocumentAssembler() \\\n",
    "    .setInputCol(\"position\") \\\n",
    "    .setOutputCol(\"document\")\n",
    "tokenizer = Tokenizer() \\\n",
    "    .setInputCols([\"document\"]) \\\n",
    "    .setOutputCol(\"token\")\n",
    "embeddings = BertEmbeddings.pretrained(\"small_bert_L2_128\", \"en\") \\\n",
    "    .setInputCols([\"token\", \"document\"]) \\\n",
    "    .setOutputCol(\"bert_embeddings\")\n",
    "embeddingsFinisher = EmbeddingsFinisher() \\\n",
    "    .setInputCols([\"bert_embeddings\"]) \\\n",
    "    .setOutputCols(\"position_bert\") \\\n",
    "    .setOutputAsVector(True)\n",
    "pipeline = Pipeline().setStages([\n",
    "    documentAssembler,\n",
    "    tokenizer,\n",
    "    embeddings,\n",
    "    embeddingsFinisher\n",
    "])\n",
    "\n",
    "profiles_emb = pipeline.fit(profiles_emb).transform(profiles_emb)"
   ]
  },
  {
   "cell_type": "code",
   "execution_count": 0,
   "metadata": {
    "application/vnd.databricks.v1+cell": {
     "cellMetadata": {
      "byteLimit": 2048000,
      "rowLimit": 10000
     },
     "inputWidgets": {},
     "nuid": "f2b7bb78-1fab-44c0-8d8c-1e1253ea5280",
     "showTitle": false,
     "title": ""
    }
   },
   "outputs": [],
   "source": [
    "profiles_emb = profiles_emb.drop('document', 'token', 'bert_embeddings', 'position_tokens')"
   ]
  },
  {
   "cell_type": "code",
   "execution_count": 0,
   "metadata": {
    "application/vnd.databricks.v1+cell": {
     "cellMetadata": {
      "byteLimit": 2048000,
      "rowLimit": 10000
     },
     "inputWidgets": {},
     "nuid": "093dc998-8bf5-48b2-8ab7-5d4117e65edf",
     "showTitle": false,
     "title": ""
    }
   },
   "outputs": [],
   "source": [
    "profiles_emb = profiles_emb.withColumn('position_bert', col('position_bert')[0])"
   ]
  },
  {
   "cell_type": "code",
   "execution_count": 0,
   "metadata": {
    "application/vnd.databricks.v1+cell": {
     "cellMetadata": {
      "byteLimit": 2048000,
      "rowLimit": 10000
     },
     "inputWidgets": {},
     "nuid": "5862a0f6-faae-417e-92e2-808e6a056690",
     "showTitle": false,
     "title": ""
    }
   },
   "outputs": [
    {
     "output_type": "stream",
     "name": "stdout",
     "output_type": "stream",
     "text": [
      "Out[70]: (142480, 629, 142480, 629)"
     ]
    }
   ],
   "source": [
    "profiles_emb.count(), popular_positions_emb.count(), profiles_emb.dropna().count(), popular_positions_emb.dropna().count()"
   ]
  },
  {
   "cell_type": "code",
   "execution_count": 0,
   "metadata": {
    "application/vnd.databricks.v1+cell": {
     "cellMetadata": {
      "byteLimit": 2048000,
      "rowLimit": 10000
     },
     "inputWidgets": {},
     "nuid": "1b599d37-9b2d-4503-8cbd-3fd3558c83d0",
     "showTitle": false,
     "title": ""
    }
   },
   "outputs": [
    {
     "output_type": "stream",
     "name": "stdout",
     "output_type": "stream",
     "text": [
      "Out[71]: 142480"
     ]
    }
   ],
   "source": [
    "df_processed.count()"
   ]
  },
  {
   "cell_type": "code",
   "execution_count": 0,
   "metadata": {
    "application/vnd.databricks.v1+cell": {
     "cellMetadata": {
      "byteLimit": 2048000,
      "rowLimit": 10000
     },
     "inputWidgets": {},
     "nuid": "38baa48f-c067-49e0-9fe4-ddb0d9418fdd",
     "showTitle": false,
     "title": ""
    }
   },
   "outputs": [],
   "source": [
    "from pathlib import Path\n",
    "path_to_dir = \"/dbfs/Users/almoogben\"\n",
    "Path.mkdir(Path(path_to_dir), exist_ok=True)\n",
    "\n",
    "profiles_emb.write.format(\"parquet\").save(f\"/profiles_emb2.parquet\")"
   ]
  },
  {
   "cell_type": "code",
   "execution_count": 0,
   "metadata": {
    "application/vnd.databricks.v1+cell": {
     "cellMetadata": {
      "byteLimit": 2048000,
      "rowLimit": 10000
     },
     "inputWidgets": {},
     "nuid": "5a1d5cf7-ffeb-4f7a-9de4-d5c0fe21bf48",
     "showTitle": false,
     "title": ""
    }
   },
   "outputs": [],
   "source": [
    "popular_positions_emb.write.format(\"parquet\").save(f\"/popular_positions_emb.parquet\")"
   ]
  },
  {
   "cell_type": "markdown",
   "metadata": {
    "application/vnd.databricks.v1+cell": {
     "cellMetadata": {},
     "inputWidgets": {},
     "nuid": "cde98298-4006-478d-b076-ddf5ff8d75bb",
     "showTitle": false,
     "title": ""
    }
   },
   "source": [
    "#Classification with 1-NN"
   ]
  },
  {
   "cell_type": "code",
   "execution_count": 0,
   "metadata": {
    "application/vnd.databricks.v1+cell": {
     "cellMetadata": {
      "byteLimit": 2048000,
      "rowLimit": 10000
     },
     "inputWidgets": {},
     "nuid": "5aef084f-1c7f-44f4-9381-eee58faa3375",
     "showTitle": false,
     "title": ""
    }
   },
   "outputs": [],
   "source": [
    "popular_positions_emb = spark.read.parquet(\"/popular_positions_emb.parquet\")\n",
    "profiles_emb = spark.read.parquet(\"/profiles_emb2.parquet\")"
   ]
  },
  {
   "cell_type": "code",
   "execution_count": 0,
   "metadata": {
    "application/vnd.databricks.v1+cell": {
     "cellMetadata": {
      "byteLimit": 2048000,
      "rowLimit": 10000
     },
     "inputWidgets": {},
     "nuid": "4ab78a72-8060-410b-84b6-49fe4fda2463",
     "showTitle": false,
     "title": ""
    }
   },
   "outputs": [],
   "source": [
    "import pyspark.sql.functions as F\n",
    "import pyspark.sql.types as T\n",
    "\n",
    "to_array = F.udf(lambda v: v.toArray().tolist(), T.ArrayType(T.FloatType()))\n",
    "popular_positions_emb = popular_positions_emb.withColumn('position_w2v', to_array('position_w2v'))\n",
    "popular_positions_emb = popular_positions_emb.withColumn('position_bert', to_array('position_bert'))\n",
    "\n",
    "profiles_emb = profiles_emb.withColumn('position_w2v', to_array('position_w2v'))\n",
    "profiles_emb = profiles_emb.withColumn('position_bert', to_array('position_bert'))\n"
   ]
  },
  {
   "cell_type": "code",
   "execution_count": 0,
   "metadata": {
    "application/vnd.databricks.v1+cell": {
     "cellMetadata": {
      "byteLimit": 2048000,
      "rowLimit": 10000
     },
     "inputWidgets": {},
     "nuid": "f6f4ecab-78a5-4245-a1c8-a96438c4ee87",
     "showTitle": false,
     "title": ""
    }
   },
   "outputs": [],
   "source": [
    "from pyspark.sql.functions import col\n",
    "values_to_exclude = ['student', 'senior', 'junior', 'specialist', '--', 'at', 'principal', 'partner', '.', 'none', 'engineer', 'associate', 'null', 'intern', 'assistant', '-', 'boss', 'tech', 'self', 'na', 'member', 'employee', 'it', 'worker', 'realtor¬Æ', 'education', 'faculty', 'advisor', 'professional', 'professional', 'manager', 'senior manager', 'graduate student', 'director', 'assistant director', 'senior engineer']  # List of values to exclude\n",
    "\n",
    "# Drop rows where the value in 'column_name' is in the list 'values_to_exclude'\n",
    "popular_positions_emb = popular_positions_emb.filter(~col('position').isin(values_to_exclude))"
   ]
  },
  {
   "cell_type": "code",
   "execution_count": 0,
   "metadata": {
    "application/vnd.databricks.v1+cell": {
     "cellMetadata": {
      "byteLimit": 2048000,
      "rowLimit": 10000
     },
     "inputWidgets": {},
     "nuid": "f84db6d5-fb03-4a46-92d6-cfb3303fee04",
     "showTitle": false,
     "title": ""
    }
   },
   "outputs": [],
   "source": [
    "profiles_emb_pd = profiles_emb.select('id', 'position', 'position_w2v', 'position_bert').toPandas()\n",
    "popular_positions_emb_pd = popular_positions_emb.toPandas()"
   ]
  },
  {
   "cell_type": "markdown",
   "metadata": {
    "application/vnd.databricks.v1+cell": {
     "cellMetadata": {},
     "inputWidgets": {},
     "nuid": "6ae6fdbe-7cf1-417f-ba3a-3c113f55c58a",
     "showTitle": false,
     "title": ""
    }
   },
   "source": [
    "word2vec knn"
   ]
  },
  {
   "cell_type": "code",
   "execution_count": 0,
   "metadata": {
    "application/vnd.databricks.v1+cell": {
     "cellMetadata": {
      "byteLimit": 2048000,
      "rowLimit": 10000
     },
     "inputWidgets": {},
     "nuid": "d3574779-c089-4b6e-90f9-020e7658d247",
     "showTitle": false,
     "title": ""
    }
   },
   "outputs": [
    {
     "output_type": "display_data",
     "data": {
      "application/vnd.databricks.v1+bamboolib_hint": "{\"pd.DataFrames\": [\"profiles_emb_pd\", \"popular_positions_emb_pd\"], \"version\": \"0.0.1\"}",
      "text/plain": []
     },
     "metadata": {},
     "output_type": "display_data"
    }
   ],
   "source": [
    "import numpy as np\n",
    "import pandas as pd\n",
    "from sklearn.neighbors import KNeighborsClassifier\n",
    "\n",
    "# Prepare the training data\n",
    "X_train = np.stack(popular_positions_emb_pd['position_w2v'].apply(lambda x: np.asarray(x, dtype=float)).values)\n",
    "y_train = popular_positions_emb_pd['position'].values\n",
    "\n",
    "# Prepare the test data\n",
    "X_test = np.stack(profiles_emb_pd['position_w2v'].apply(lambda x: np.asarray(x, dtype=float)).values)\n",
    "\n",
    "# Instantiate and fit the KNN model on the training data\n",
    "knn = KNeighborsClassifier(n_neighbors=1)  # Specify the number of neighbors (k=1 in this case)\n",
    "knn.fit(X_train, y_train)\n",
    "\n",
    "# Predict the labels for the test data based on the nearest neighbors from the training data\n",
    "_, indices = knn.kneighbors(X_test, n_neighbors=1)  # Find the nearest neighbor (k=1)\n",
    "nearest_labels = popular_positions_emb_pd.iloc[indices.flatten()]['position'].values\n",
    "\n",
    "# Combine the original test data with the predicted labels\n",
    "predicted_profiles_w2v = pd.concat([profiles_emb_pd, pd.DataFrame(nearest_labels, columns=['Predicted_Label'])], axis=1)"
   ]
  },
  {
   "cell_type": "code",
   "execution_count": 0,
   "metadata": {
    "application/vnd.databricks.v1+cell": {
     "cellMetadata": {
      "byteLimit": 2048000,
      "rowLimit": 10000
     },
     "inputWidgets": {},
     "nuid": "db132f99-bca4-45e9-b945-8d41000f7b5a",
     "showTitle": false,
     "title": ""
    }
   },
   "outputs": [
    {
     "output_type": "display_data",
     "data": {
      "text/html": [
       "<div>\n",
       "<style scoped>\n",
       "    .dataframe tbody tr th:only-of-type {\n",
       "        vertical-align: middle;\n",
       "    }\n",
       "\n",
       "    .dataframe tbody tr th {\n",
       "        vertical-align: top;\n",
       "    }\n",
       "\n",
       "    .dataframe thead th {\n",
       "        text-align: right;\n",
       "    }\n",
       "</style>\n",
       "<table border=\"1\" class=\"dataframe\">\n",
       "  <thead>\n",
       "    <tr style=\"text-align: right;\">\n",
       "      <th></th>\n",
       "      <th>position</th>\n",
       "      <th>Predicted_Label</th>\n",
       "    </tr>\n",
       "  </thead>\n",
       "  <tbody>\n",
       "    <tr>\n",
       "      <th>0</th>\n",
       "      <td>interventional radiology tech</td>\n",
       "      <td>service manager</td>\n",
       "    </tr>\n",
       "    <tr>\n",
       "      <th>1</th>\n",
       "      <td>system administrator</td>\n",
       "      <td>it specialist</td>\n",
       "    </tr>\n",
       "    <tr>\n",
       "      <th>2</th>\n",
       "      <td>structural engineer</td>\n",
       "      <td>it specialist</td>\n",
       "    </tr>\n",
       "    <tr>\n",
       "      <th>3</th>\n",
       "      <td>certified project manager</td>\n",
       "      <td>independent consultant</td>\n",
       "    </tr>\n",
       "    <tr>\n",
       "      <th>4</th>\n",
       "      <td>account executive, field sales north east, pub...</td>\n",
       "      <td>senior software engineer</td>\n",
       "    </tr>\n",
       "    <tr>\n",
       "      <th>5</th>\n",
       "      <td>the counterfeit millionaire... a true crime ad...</td>\n",
       "      <td>retail professional</td>\n",
       "    </tr>\n",
       "    <tr>\n",
       "      <th>6</th>\n",
       "      <td>eku student and developing accountant</td>\n",
       "      <td>executive director</td>\n",
       "    </tr>\n",
       "    <tr>\n",
       "      <th>7</th>\n",
       "      <td>excellent</td>\n",
       "      <td>retail professional</td>\n",
       "    </tr>\n",
       "    <tr>\n",
       "      <th>8</th>\n",
       "      <td>student</td>\n",
       "      <td>sales director</td>\n",
       "    </tr>\n",
       "    <tr>\n",
       "      <th>9</th>\n",
       "      <td>corporate sales trainer with extensive leaders...</td>\n",
       "      <td>executive office professional</td>\n",
       "    </tr>\n",
       "    <tr>\n",
       "      <th>10</th>\n",
       "      <td>incoming assurance staff</td>\n",
       "      <td>it specialist</td>\n",
       "    </tr>\n",
       "    <tr>\n",
       "      <th>11</th>\n",
       "      <td>the sustainable sparky</td>\n",
       "      <td>retail professional</td>\n",
       "    </tr>\n",
       "    <tr>\n",
       "      <th>12</th>\n",
       "      <td>wireless system engineer</td>\n",
       "      <td>it specialist</td>\n",
       "    </tr>\n",
       "    <tr>\n",
       "      <th>13</th>\n",
       "      <td>realtor</td>\n",
       "      <td>coordinator</td>\n",
       "    </tr>\n",
       "    <tr>\n",
       "      <th>14</th>\n",
       "      <td>senior software engineer</td>\n",
       "      <td>it specialist</td>\n",
       "    </tr>\n",
       "    <tr>\n",
       "      <th>15</th>\n",
       "      <td>fdm/sla programmer</td>\n",
       "      <td>sales specialist</td>\n",
       "    </tr>\n",
       "    <tr>\n",
       "      <th>16</th>\n",
       "      <td>president</td>\n",
       "      <td>coordinator</td>\n",
       "    </tr>\n",
       "    <tr>\n",
       "      <th>17</th>\n",
       "      <td>owner/travel consultant</td>\n",
       "      <td>sales manager</td>\n",
       "    </tr>\n",
       "    <tr>\n",
       "      <th>18</th>\n",
       "      <td>owner</td>\n",
       "      <td>teacher</td>\n",
       "    </tr>\n",
       "    <tr>\n",
       "      <th>19</th>\n",
       "      <td>bachelor of science - bs</td>\n",
       "      <td>senior associate</td>\n",
       "    </tr>\n",
       "  </tbody>\n",
       "</table>\n",
       "</div>"
      ]
     },
     "metadata": {
      "application/vnd.databricks.v1+output": {
       "addedWidgets": {},
       "arguments": {},
       "data": "<div>\n<style scoped>\n    .dataframe tbody tr th:only-of-type {\n        vertical-align: middle;\n    }\n\n    .dataframe tbody tr th {\n        vertical-align: top;\n    }\n\n    .dataframe thead th {\n        text-align: right;\n    }\n</style>\n<table border=\"1\" class=\"dataframe\">\n  <thead>\n    <tr style=\"text-align: right;\">\n      <th></th>\n      <th>position</th>\n      <th>Predicted_Label</th>\n    </tr>\n  </thead>\n  <tbody>\n    <tr>\n      <th>0</th>\n      <td>interventional radiology tech</td>\n      <td>service manager</td>\n    </tr>\n    <tr>\n      <th>1</th>\n      <td>system administrator</td>\n      <td>it specialist</td>\n    </tr>\n    <tr>\n      <th>2</th>\n      <td>structural engineer</td>\n      <td>it specialist</td>\n    </tr>\n    <tr>\n      <th>3</th>\n      <td>certified project manager</td>\n      <td>independent consultant</td>\n    </tr>\n    <tr>\n      <th>4</th>\n      <td>account executive, field sales north east, pub...</td>\n      <td>senior software engineer</td>\n    </tr>\n    <tr>\n      <th>5</th>\n      <td>the counterfeit millionaire... a true crime ad...</td>\n      <td>retail professional</td>\n    </tr>\n    <tr>\n      <th>6</th>\n      <td>eku student and developing accountant</td>\n      <td>executive director</td>\n    </tr>\n    <tr>\n      <th>7</th>\n      <td>excellent</td>\n      <td>retail professional</td>\n    </tr>\n    <tr>\n      <th>8</th>\n      <td>student</td>\n      <td>sales director</td>\n    </tr>\n    <tr>\n      <th>9</th>\n      <td>corporate sales trainer with extensive leaders...</td>\n      <td>executive office professional</td>\n    </tr>\n    <tr>\n      <th>10</th>\n      <td>incoming assurance staff</td>\n      <td>it specialist</td>\n    </tr>\n    <tr>\n      <th>11</th>\n      <td>the sustainable sparky</td>\n      <td>retail professional</td>\n    </tr>\n    <tr>\n      <th>12</th>\n      <td>wireless system engineer</td>\n      <td>it specialist</td>\n    </tr>\n    <tr>\n      <th>13</th>\n      <td>realtor</td>\n      <td>coordinator</td>\n    </tr>\n    <tr>\n      <th>14</th>\n      <td>senior software engineer</td>\n      <td>it specialist</td>\n    </tr>\n    <tr>\n      <th>15</th>\n      <td>fdm/sla programmer</td>\n      <td>sales specialist</td>\n    </tr>\n    <tr>\n      <th>16</th>\n      <td>president</td>\n      <td>coordinator</td>\n    </tr>\n    <tr>\n      <th>17</th>\n      <td>owner/travel consultant</td>\n      <td>sales manager</td>\n    </tr>\n    <tr>\n      <th>18</th>\n      <td>owner</td>\n      <td>teacher</td>\n    </tr>\n    <tr>\n      <th>19</th>\n      <td>bachelor of science - bs</td>\n      <td>senior associate</td>\n    </tr>\n  </tbody>\n</table>\n</div>",
       "datasetInfos": [],
       "metadata": {},
       "removedWidgets": [],
       "textData": null,
       "type": "htmlSandbox"
      }
     },
     "output_type": "display_data"
    }
   ],
   "source": [
    "predicted_profiles_w2v[['position', 'Predicted_Label']].head(20)"
   ]
  },
  {
   "cell_type": "code",
   "execution_count": 0,
   "metadata": {
    "application/vnd.databricks.v1+cell": {
     "cellMetadata": {
      "byteLimit": 2048000,
      "rowLimit": 10000
     },
     "inputWidgets": {},
     "nuid": "ea0a18a2-eaaa-461e-9463-e404231c6ba5",
     "showTitle": false,
     "title": ""
    }
   },
   "outputs": [
    {
     "output_type": "display_data",
     "data": {
      "image/png": "[encoded data removed]"
     },
     "metadata": {
      "application/vnd.databricks.v1+output": {
       "addedWidgets": {},
       "arguments": {},
       "data": "data:image/png;base64,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\n",
       "datasetInfos": [],
       "metadata": {},
       "removedWidgets": [],
       "type": "image"
      }
     },
     "output_type": "display_data"
    }
   ],
   "source": [
    "import matplotlib.pyplot as plt\n",
    "\n",
    "# Plot histogram of predicted labels\n",
    "plt.hist(predicted_profiles_w2v['Predicted_Label'])\n",
    "plt.xlabel('Predicted Label')\n",
    "plt.ylabel('Frequency')\n",
    "plt.title('Histogram of Predicted Labels')\n",
    "plt.show()"
   ]
  },
  {
   "cell_type": "markdown",
   "metadata": {
    "application/vnd.databricks.v1+cell": {
     "cellMetadata": {},
     "inputWidgets": {},
     "nuid": "0ec78d7b-13a0-4369-99a0-54c8b34cbbe4",
     "showTitle": false,
     "title": ""
    }
   },
   "source": [
    "bert knn"
   ]
  },
  {
   "cell_type": "code",
   "execution_count": 0,
   "metadata": {
    "application/vnd.databricks.v1+cell": {
     "cellMetadata": {
      "byteLimit": 2048000,
      "rowLimit": 10000
     },
     "inputWidgets": {},
     "nuid": "83e0326a-d283-437a-a7dc-53f991884b00",
     "showTitle": false,
     "title": ""
    }
   },
   "outputs": [],
   "source": [
    "import numpy as np\n",
    "import pandas as pd\n",
    "from sklearn.neighbors import KNeighborsClassifier\n",
    "\n",
    "# Prepare the training data\n",
    "X_train = np.stack(popular_positions_emb_pd['position_bert'].apply(lambda x: np.asarray(x, dtype=float)).values)\n",
    "y_train = popular_positions_emb_pd['position'].values\n",
    "\n",
    "# Prepare the test data\n",
    "X_test = np.stack(profiles_emb_pd['position_bert'].apply(lambda x: np.asarray(x, dtype=float)).values)\n",
    "\n",
    "# Instantiate and fit the KNN model on the training data\n",
    "knn = KNeighborsClassifier(n_neighbors=1)  # Specify the number of neighbors (k=1 in this case)\n",
    "knn.fit(X_train, y_train)\n",
    "\n",
    "# Predict the labels for the test data based on the nearest neighbors from the training data\n",
    "_, indices = knn.kneighbors(X_test, n_neighbors=1)  # Find the nearest neighbor (k=1)\n",
    "nearest_labels = popular_positions_emb_pd.iloc[indices.flatten()]['position'].values\n",
    "\n",
    "# Combine the original test data with the predicted labels\n",
    "predicted_profiles_bert = pd.concat([profiles_emb_pd, pd.DataFrame(nearest_labels, columns=['Predicted_Label'])], axis=1)"
   ]
  },
  {
   "cell_type": "code",
   "execution_count": 0,
   "metadata": {
    "application/vnd.databricks.v1+cell": {
     "cellMetadata": {
      "byteLimit": 2048000,
      "rowLimit": 10000
     },
     "inputWidgets": {},
     "nuid": "768aecec-6f21-4feb-b609-a3455942d567",
     "showTitle": false,
     "title": ""
    }
   },
   "outputs": [
    {
     "output_type": "display_data",
     "data": {
      "text/html": [
       "<div>\n",
       "<style scoped>\n",
       "    .dataframe tbody tr th:only-of-type {\n",
       "        vertical-align: middle;\n",
       "    }\n",
       "\n",
       "    .dataframe tbody tr th {\n",
       "        vertical-align: top;\n",
       "    }\n",
       "\n",
       "    .dataframe thead th {\n",
       "        text-align: right;\n",
       "    }\n",
       "</style>\n",
       "<table border=\"1\" class=\"dataframe\">\n",
       "  <thead>\n",
       "    <tr style=\"text-align: right;\">\n",
       "      <th></th>\n",
       "      <th>position</th>\n",
       "      <th>Predicted_Label</th>\n",
       "    </tr>\n",
       "  </thead>\n",
       "  <tbody>\n",
       "    <tr>\n",
       "      <th>0</th>\n",
       "      <td>interventional radiology tech</td>\n",
       "      <td>environmental services professional</td>\n",
       "    </tr>\n",
       "    <tr>\n",
       "      <th>1</th>\n",
       "      <td>system administrator</td>\n",
       "      <td>system administrator</td>\n",
       "    </tr>\n",
       "    <tr>\n",
       "      <th>2</th>\n",
       "      <td>structural engineer</td>\n",
       "      <td>mechanical engineer</td>\n",
       "    </tr>\n",
       "    <tr>\n",
       "      <th>3</th>\n",
       "      <td>certified project manager</td>\n",
       "      <td>project engineer</td>\n",
       "    </tr>\n",
       "    <tr>\n",
       "      <th>4</th>\n",
       "      <td>account executive, field sales north east, pub...</td>\n",
       "      <td>account executive</td>\n",
       "    </tr>\n",
       "    <tr>\n",
       "      <th>5</th>\n",
       "      <td>the counterfeit millionaire... a true crime ad...</td>\n",
       "      <td>warehouse worker</td>\n",
       "    </tr>\n",
       "    <tr>\n",
       "      <th>6</th>\n",
       "      <td>eku student and developing accountant</td>\n",
       "      <td>marketing student</td>\n",
       "    </tr>\n",
       "    <tr>\n",
       "      <th>7</th>\n",
       "      <td>excellent</td>\n",
       "      <td>accounting</td>\n",
       "    </tr>\n",
       "    <tr>\n",
       "      <th>8</th>\n",
       "      <td>student</td>\n",
       "      <td>student-athlete</td>\n",
       "    </tr>\n",
       "    <tr>\n",
       "      <th>9</th>\n",
       "      <td>corporate sales trainer with extensive leaders...</td>\n",
       "      <td>territory sales manager</td>\n",
       "    </tr>\n",
       "    <tr>\n",
       "      <th>10</th>\n",
       "      <td>incoming assurance staff</td>\n",
       "      <td>quality assurance specialist</td>\n",
       "    </tr>\n",
       "    <tr>\n",
       "      <th>11</th>\n",
       "      <td>the sustainable sparky</td>\n",
       "      <td>inside sales representative</td>\n",
       "    </tr>\n",
       "    <tr>\n",
       "      <th>12</th>\n",
       "      <td>wireless system engineer</td>\n",
       "      <td>information technology and services professional</td>\n",
       "    </tr>\n",
       "    <tr>\n",
       "      <th>13</th>\n",
       "      <td>realtor</td>\n",
       "      <td>realtor</td>\n",
       "    </tr>\n",
       "    <tr>\n",
       "      <th>14</th>\n",
       "      <td>senior software engineer</td>\n",
       "      <td>senior software engineer</td>\n",
       "    </tr>\n",
       "    <tr>\n",
       "      <th>15</th>\n",
       "      <td>fdm/sla programmer</td>\n",
       "      <td>j.d. candidate</td>\n",
       "    </tr>\n",
       "    <tr>\n",
       "      <th>16</th>\n",
       "      <td>president</td>\n",
       "      <td>president</td>\n",
       "    </tr>\n",
       "    <tr>\n",
       "      <th>17</th>\n",
       "      <td>owner/travel consultant</td>\n",
       "      <td>owner operator</td>\n",
       "    </tr>\n",
       "    <tr>\n",
       "      <th>18</th>\n",
       "      <td>owner</td>\n",
       "      <td>owner</td>\n",
       "    </tr>\n",
       "    <tr>\n",
       "      <th>19</th>\n",
       "      <td>bachelor of science - bs</td>\n",
       "      <td>bachelor's degree</td>\n",
       "    </tr>\n",
       "  </tbody>\n",
       "</table>\n",
       "</div>"
      ]
     },
     "metadata": {
      "application/vnd.databricks.v1+output": {
       "addedWidgets": {},
       "arguments": {},
       "data": "<div>\n<style scoped>\n    .dataframe tbody tr th:only-of-type {\n        vertical-align: middle;\n    }\n\n    .dataframe tbody tr th {\n        vertical-align: top;\n    }\n\n    .dataframe thead th {\n        text-align: right;\n    }\n</style>\n<table border=\"1\" class=\"dataframe\">\n  <thead>\n    <tr style=\"text-align: right;\">\n      <th></th>\n      <th>position</th>\n      <th>Predicted_Label</th>\n    </tr>\n  </thead>\n  <tbody>\n    <tr>\n      <th>0</th>\n      <td>interventional radiology tech</td>\n      <td>environmental services professional</td>\n    </tr>\n    <tr>\n      <th>1</th>\n      <td>system administrator</td>\n      <td>system administrator</td>\n    </tr>\n    <tr>\n      <th>2</th>\n      <td>structural engineer</td>\n      <td>mechanical engineer</td>\n    </tr>\n    <tr>\n      <th>3</th>\n      <td>certified project manager</td>\n      <td>project engineer</td>\n    </tr>\n    <tr>\n      <th>4</th>\n      <td>account executive, field sales north east, pub...</td>\n      <td>account executive</td>\n    </tr>\n    <tr>\n      <th>5</th>\n      <td>the counterfeit millionaire... a true crime ad...</td>\n      <td>warehouse worker</td>\n    </tr>\n    <tr>\n      <th>6</th>\n      <td>eku student and developing accountant</td>\n      <td>marketing student</td>\n    </tr>\n    <tr>\n      <th>7</th>\n      <td>excellent</td>\n      <td>accounting</td>\n    </tr>\n    <tr>\n      <th>8</th>\n      <td>student</td>\n      <td>student-athlete</td>\n    </tr>\n    <tr>\n      <th>9</th>\n      <td>corporate sales trainer with extensive leaders...</td>\n      <td>territory sales manager</td>\n    </tr>\n    <tr>\n      <th>10</th>\n      <td>incoming assurance staff</td>\n      <td>quality assurance specialist</td>\n    </tr>\n    <tr>\n      <th>11</th>\n      <td>the sustainable sparky</td>\n      <td>inside sales representative</td>\n    </tr>\n    <tr>\n      <th>12</th>\n      <td>wireless system engineer</td>\n      <td>information technology and services professional</td>\n    </tr>\n    <tr>\n      <th>13</th>\n      <td>realtor</td>\n      <td>realtor</td>\n    </tr>\n    <tr>\n      <th>14</th>\n      <td>senior software engineer</td>\n      <td>senior software engineer</td>\n    </tr>\n    <tr>\n      <th>15</th>\n      <td>fdm/sla programmer</td>\n      <td>j.d. candidate</td>\n    </tr>\n    <tr>\n      <th>16</th>\n      <td>president</td>\n      <td>president</td>\n    </tr>\n    <tr>\n      <th>17</th>\n      <td>owner/travel consultant</td>\n      <td>owner operator</td>\n    </tr>\n    <tr>\n      <th>18</th>\n      <td>owner</td>\n      <td>owner</td>\n    </tr>\n    <tr>\n      <th>19</th>\n      <td>bachelor of science - bs</td>\n      <td>bachelor's degree</td>\n    </tr>\n  </tbody>\n</table>\n</div>",
       "datasetInfos": [],
       "metadata": {},
       "removedWidgets": [],
       "textData": null,
       "type": "htmlSandbox"
      }
     },
     "output_type": "display_data"
    }
   ],
   "source": [
    "predicted_profiles_bert[['position', 'Predicted_Label']].head(20)"
   ]
  },
  {
   "cell_type": "code",
   "execution_count": 0,
   "metadata": {
    "application/vnd.databricks.v1+cell": {
     "cellMetadata": {
      "byteLimit": 2048000,
      "rowLimit": 10000
     },
     "inputWidgets": {},
     "nuid": "f2ee78ee-4992-498a-b913-601ea40773e2",
     "showTitle": false,
     "title": ""
    }
   },
   "outputs": [
    {
     "output_type": "display_data",
     "data": {
      "image/png": "[encoded data removed]"
     },
     "metadata": {
      "application/vnd.databricks.v1+output": {
       "addedWidgets": {},
       "arguments": {},
       "data": "data:image/png;base64,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\n",
       "datasetInfos": [],
       "metadata": {},
       "removedWidgets": [],
       "type": "image"
      }
     },
     "output_type": "display_data"
    }
   ],
   "source": [
    "import matplotlib.pyplot as plt\n",
    "\n",
    "# Plot histogram of predicted labels\n",
    "plt.hist(predicted_profiles_bert['Predicted_Label'])\n",
    "plt.xlabel('Predicted Label')\n",
    "plt.ylabel('Frequency')\n",
    "plt.title('Histogram of Predicted Labels')\n",
    "plt.show()"
   ]
  },
  {
   "cell_type": "markdown",
   "metadata": {
    "application/vnd.databricks.v1+cell": {
     "cellMetadata": {},
     "inputWidgets": {},
     "nuid": "d42832e6-4cb5-4df7-8dc2-c8ebd7e4d46d",
     "showTitle": false,
     "title": ""
    }
   },
   "source": [
    "#### As we can see Bert is less biased than Word2Vec, So we will choose Bert embedding"
   ]
  },
  {
   "cell_type": "code",
   "execution_count": 0,
   "metadata": {
    "application/vnd.databricks.v1+cell": {
     "cellMetadata": {
      "byteLimit": 2048000,
      "rowLimit": 10000
     },
     "inputWidgets": {},
     "nuid": "362cbaf0-9243-4ae5-9dc0-f0938b6a1162",
     "showTitle": false,
     "title": ""
    }
   },
   "outputs": [],
   "source": [
    "from pyspark.sql import SparkSession\n",
    "\n",
    "spark = SparkSession.builder.getOrCreate()\n",
    "\n",
    "# # Assuming 'predicted_profiles_bert' is a Pandas DataFrame\n",
    "# predicted_profiles_bert_spark = spark.createDataFrame(predicted_profiles_bert)\n",
    "\n",
    "# predicted_profiles_bert_spark.write.format(\"parquet\").save(\"/predicted_profiles_bert.parquet\")"
   ]
  },
  {
   "cell_type": "code",
   "execution_count": 0,
   "metadata": {
    "application/vnd.databricks.v1+cell": {
     "cellMetadata": {
      "byteLimit": 2048000,
      "rowLimit": 10000
     },
     "inputWidgets": {},
     "nuid": "08de13ca-3681-43f5-875d-a8f6fc11ec67",
     "showTitle": false,
     "title": ""
    }
   },
   "outputs": [],
   "source": [
    "predicted_profiles_bert = spark.read.parquet(\"/predicted_profiles_bert.parquet\")"
   ]
  },
  {
   "cell_type": "code",
   "execution_count": 0,
   "metadata": {
    "application/vnd.databricks.v1+cell": {
     "cellMetadata": {
      "byteLimit": 2048000,
      "rowLimit": 10000
     },
     "inputWidgets": {},
     "nuid": "1a866a7b-a765-42fd-a9c4-c87e5cb82b8b",
     "showTitle": false,
     "title": ""
    }
   },
   "outputs": [],
   "source": [
    "df1 = profiles_emb.drop('position_w2v', 'position_bert')\n",
    "df2 = predicted_profiles_bert.drop('position_w2v', 'position_bert', 'position').withColumnRenamed(\"id\", \"id1\")\n"
   ]
  },
  {
   "cell_type": "code",
   "execution_count": 0,
   "metadata": {
    "application/vnd.databricks.v1+cell": {
     "cellMetadata": {
      "byteLimit": 2048000,
      "rowLimit": 10000
     },
     "inputWidgets": {},
     "nuid": "ac8699e0-2c2c-4d4a-87ac-2e5c3854a53e",
     "showTitle": false,
     "title": ""
    }
   },
   "outputs": [],
   "source": [
    "profiles_features = df1.join(df2, df1.id == df2.id1, \"inner\").drop(\"id1\")"
   ]
  },
  {
   "cell_type": "code",
   "execution_count": 0,
   "metadata": {
    "application/vnd.databricks.v1+cell": {
     "cellMetadata": {
      "byteLimit": 2048000,
      "rowLimit": 10000
     },
     "inputWidgets": {},
     "nuid": "5a7968e0-75d1-4c82-9c76-9418ff3b7f2b",
     "showTitle": false,
     "title": ""
    }
   },
   "outputs": [],
   "source": [
    "from pyspark.sql.functions import count\n",
    "import matplotlib.pyplot as plt\n",
    "import pandas as pd\n",
    "grouped_df = profiles_features.groupBy(\"Predicted_Label\").agg(count(\"*\").alias(\"count\"))\n",
    "# grouped_df = grouped_df.filter(grouped_df[\"count\"] < 100)\n",
    "# print(grouped_df.count())\n",
    "# pandas_df = grouped_df.toPandas()\n"
   ]
  },
  {
   "cell_type": "code",
   "execution_count": 0,
   "metadata": {
    "application/vnd.databricks.v1+cell": {
     "cellMetadata": {
      "byteLimit": 2048000,
      "rowLimit": 10000
     },
     "inputWidgets": {},
     "nuid": "22818e96-18fd-402e-a50c-b9c6df7b0fd6",
     "showTitle": false,
     "title": ""
    }
   },
   "outputs": [],
   "source": [
    "values_to_exclude = ['student', 'senior', 'junior', 'specialist', '--', 'at', 'principal', 'partner', '.', 'none', 'engineer', 'associate', 'null', 'intern', 'assistant', '-', 'boss', 'tech', 'self', 'na', 'member', 'employee', 'it', 'worker', 'realtor¬Æ', 'education', 'faculty', 'advisor', 'professional', 'professional', 'manager', 'senior manager', 'graduate student', 'director', 'assistant director', 'senior engineer', 'paraprofessional', 'retired', 'owner/manager', 'owner', 'president', 'consultant', 'founder', 'business owner', 'student-athlete', 'president & ceo', 'ceo', 'president and ceo', 'vice president', 'co-owner', 'small business owner', 'director', 'founder & ceo', 'coach']  # List of values to exclude\n",
    "\n",
    "# Drop rows where the value in 'column_name' is in the list 'values_to_exclude'\n",
    "popular_positions_emb = popular_positions_emb.filter(~col('position').isin(values_to_exclude))\n",
    "profiles_features = profiles_features.filter(~col('Predicted_Label').isin(values_to_exclude)).drop('position')"
   ]
  },
  {
   "cell_type": "code",
   "execution_count": 0,
   "metadata": {
    "application/vnd.databricks.v1+cell": {
     "cellMetadata": {
      "byteLimit": 2048000,
      "rowLimit": 10000
     },
     "inputWidgets": {},
     "nuid": "77c639a9-209d-4d99-aab2-055984b6964d",
     "showTitle": false,
     "title": ""
    }
   },
   "outputs": [
    {
     "output_type": "display_data",
     "data": {
      "image/png": "[encoded data removed]"
     },
     "metadata": {
      "application/vnd.databricks.v1+output": {
       "addedWidgets": {},
       "arguments": {},
       "data": "data:image/png;base64,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\n",
       "datasetInfos": [],
       "metadata": {},
       "removedWidgets": [],
       "type": "image"
      }
     },
     "output_type": "display_data"
    }
   ],
   "source": [
    "# Convert the PySpark DataFrame to a Pandas DataFrame for plotting\n",
    "pandas_df = grouped_df.orderBy(col(\"count\").desc()).toPandas()\n",
    "\n",
    "# Plotting the bar chart\n",
    "plt.figure(figsize=(20, 6))\n",
    "plt.barh(pandas_df[\"Predicted_Label\"], pandas_df[\"count\"], color='skyblue')\n",
    "plt.ylabel('Predicted Label')\n",
    "plt.xlabel('Count')\n",
    "plt.title('Histogram of Predicted Positions')\n",
    "plt.gca().invert_yaxis()  # Display the top label at the top\n",
    "plt.yticks([])\n",
    "plt.xticks(ticks=range(0, 4501, 150))\n",
    "plt.show()"
   ]
  },
  {
   "cell_type": "code",
   "execution_count": 0,
   "metadata": {
    "application/vnd.databricks.v1+cell": {
     "cellMetadata": {
      "byteLimit": 2048000,
      "rowLimit": 10000
     },
     "inputWidgets": {},
     "nuid": "5cc7682f-3bb6-4e5a-b1f4-c43b99730402",
     "showTitle": false,
     "title": ""
    }
   },
   "outputs": [
    {
     "output_type": "stream",
     "name": "stdout",
     "output_type": "stream",
     "text": [
      "Out[28]: (142480,\n 612,\n position         629\n count_in_data    629\n position_bert    629\n position_w2v     629\n dtype: int64)"
     ]
    }
   ],
   "source": [
    "predicted_profiles_bert.count(), popular_positions_emb.count(), popular_positions_emb_pd.count()"
   ]
  },
  {
   "cell_type": "code",
   "execution_count": 0,
   "metadata": {
    "application/vnd.databricks.v1+cell": {
     "cellMetadata": {
      "byteLimit": 2048000,
      "rowLimit": 10000
     },
     "inputWidgets": {},
     "nuid": "ce36bcc5-8eeb-4462-8615-f620c95380b7",
     "showTitle": false,
     "title": ""
    }
   },
   "outputs": [],
   "source": [
    "# profiles_features.write.format(\"parquet\").save(f\"/profiles_features.parquet\")"
   ]
  },
  {
   "cell_type": "code",
   "execution_count": 0,
   "metadata": {
    "application/vnd.databricks.v1+cell": {
     "cellMetadata": {
      "byteLimit": 2048000,
      "rowLimit": 10000
     },
     "inputWidgets": {},
     "nuid": "d7cbcfe7-0c09-44b7-92d1-b2637f326dd3",
     "showTitle": false,
     "title": ""
    }
   },
   "outputs": [],
   "source": [
    "# popular_positions_emb.drop('position_w2v').write.format(\"parquet\").save(f\"/popular_positions.parquet\")"
   ]
  },
  {
   "cell_type": "markdown",
   "metadata": {
    "application/vnd.databricks.v1+cell": {
     "cellMetadata": {},
     "inputWidgets": {},
     "nuid": "c4caead5-6c3c-48d9-908c-7fd244ea5172",
     "showTitle": false,
     "title": ""
    }
   },
   "source": [
    "## Generate salary by scrapped position salary dataset"
   ]
  },
  {
   "cell_type": "code",
   "execution_count": 0,
   "metadata": {
    "application/vnd.databricks.v1+cell": {
     "cellMetadata": {
      "byteLimit": 2048000,
      "rowLimit": 10000
     },
     "inputWidgets": {},
     "nuid": "b5c84f0d-d23a-442f-b571-f4d8dee9803e",
     "showTitle": false,
     "title": ""
    }
   },
   "outputs": [],
   "source": [
    "popular_positions_emb = spark.read.parquet(\"/popular_positions.parquet\")"
   ]
  },
  {
   "cell_type": "code",
   "execution_count": 0,
   "metadata": {
    "application/vnd.databricks.v1+cell": {
     "cellMetadata": {
      "byteLimit": 2048000,
      "rowLimit": 10000
     },
     "inputWidgets": {},
     "nuid": "1e84d1c3-9f0c-4ebf-b1ee-8799e41d0883",
     "showTitle": false,
     "title": ""
    }
   },
   "outputs": [],
   "source": [
    "profiles_features = spark.read.parquet(\"/profiles_features.parquet\")"
   ]
  },
  {
   "cell_type": "code",
   "execution_count": 0,
   "metadata": {
    "application/vnd.databricks.v1+cell": {
     "cellMetadata": {
      "byteLimit": 2048000,
      "rowLimit": 10000
     },
     "inputWidgets": {},
     "nuid": "77063d53-85b6-485d-a679-daea3ee0a358",
     "showTitle": false,
     "title": ""
    }
   },
   "outputs": [],
   "source": [
    "salary_positions = spark.read.table(\"salary_positions\")"
   ]
  },
  {
   "cell_type": "code",
   "execution_count": 0,
   "metadata": {
    "application/vnd.databricks.v1+cell": {
     "cellMetadata": {
      "byteLimit": 2048000,
      "rowLimit": 10000
     },
     "inputWidgets": {},
     "nuid": "43be423d-35e4-4b17-a810-6f36114cf85c",
     "showTitle": false,
     "title": ""
    }
   },
   "outputs": [
    {
     "output_type": "stream",
     "name": "stdout",
     "output_type": "stream",
     "text": [
      "+--------------------+-------+--------+--------+\n|            position|    Low| Average|    High|\n+--------------------+-------+--------+--------+\n|               owner|24286.0| 59644.0|146481.0|\n|             teacher|   9.14|   19.18|   40.25|\n|           president|74544.0|136888.0|251374.0|\n|             manager|41103.0| 76641.0|142906.0|\n|    registered nurse|  28.99|    43.7|   65.87|\n|      office manager|  15.33|   22.08|   31.79|\n|     project manager|56904.0| 88410.0|137359.0|\n|administrative as...|  13.79|   19.14|   26.56|\n|                 ceo|74259.0|145470.0|284969.0|\n|             realtor|49476.0| 96720.0|189074.0|\n|                  rn|  28.99|    43.7|   65.87|\n|               sales|37788.0| 87544.0|202814.0|\n|     general manager|35651.0| 61407.0|105770.0|\n|            attorney|59467.0|104290.0|182900.0|\n|      business owner|   8.67|   18.18|   38.14|\n|            director|58400.0|106786.0|195262.0|\n|   software engineer|75514.0|120112.0|191050.0|\n|      vice president|97845.0|158867.0|257947.0|\n|          supervisor|  11.49|   19.29|   32.38|\n|  operations manager|44211.0| 73472.0|122101.0|\n+--------------------+-------+--------+--------+\nonly showing top 20 rows\n\n"
     ]
    }
   ],
   "source": [
    "from pyspark.sql.functions import regexp_replace, col\n",
    "\n",
    "# Replace commas with empty strings and cast the columns to float\n",
    "cols = salary_positions.columns[1:]  # Assuming the numeric columns start from the third column\n",
    "for col_name in cols:\n",
    "    salary_positions = salary_positions.withColumn(col_name, regexp_replace(col(col_name), ',', '').cast('float'))\n",
    "\n",
    "salary_positions.show()"
   ]
  },
  {
   "cell_type": "code",
   "execution_count": 0,
   "metadata": {
    "application/vnd.databricks.v1+cell": {
     "cellMetadata": {
      "byteLimit": 2048000,
      "rowLimit": 10000
     },
     "inputWidgets": {},
     "nuid": "e13ab528-a3e9-45a1-86d5-c37bf4273b5e",
     "showTitle": false,
     "title": ""
    }
   },
   "outputs": [],
   "source": [
    "from pyspark.sql.functions import udf\n",
    "from pyspark.sql.types import FloatType\n",
    "\n",
    "# Define the UDF to accept individual column values\n",
    "def generate_salary_udf(low, average):\n",
    "    return average / (average - low)\n",
    "\n",
    "# Register the UDF\n",
    "generate_salary = udf(generate_salary_udf, FloatType())\n",
    "\n",
    "# Apply the UDF to the 'salary_positions' DataFrame\n",
    "salary_positions = salary_positions.withColumn('alpha param', generate_salary('Low', 'Average'))"
   ]
  },
  {
   "cell_type": "code",
   "execution_count": 0,
   "metadata": {
    "application/vnd.databricks.v1+cell": {
     "cellMetadata": {
      "byteLimit": 2048000,
      "rowLimit": 10000
     },
     "inputWidgets": {},
     "nuid": "fc27d3a3-2166-4421-9044-3aa5a7ef7606",
     "showTitle": false,
     "title": ""
    }
   },
   "outputs": [
    {
     "output_type": "stream",
     "name": "stdout",
     "output_type": "stream",
     "text": [
      "+--------------------+-------+--------+--------+-----------+--------------------+\n|            position|    Low| Average|    High|alpha param|       pareto_sample|\n+--------------------+-------+--------+--------+-----------+--------------------+\n|               owner|24286.0| 59644.0|146481.0|  1.6868601| 0.22524173626343402|\n|             teacher|   9.14|   19.18|   40.25|  1.9103585|0.005281236425053848|\n|           president|74544.0|136888.0|251374.0|  2.1956885|   0.211931737198487|\n|             manager|41103.0| 76641.0|142906.0|  2.1565928|  0.7165429315346066|\n|    registered nurse|  28.99|    43.7|   65.87|   2.970768| 0.46762529867248737|\n|      office manager|  15.33|   22.08|   31.79|   3.271111| 0.22847315767658727|\n|     project manager|56904.0| 88410.0|137359.0|   2.806132| 0.01639676321399719|\n|administrative as...|  13.79|   19.14|   26.56|  3.5775704| 0.22171992834057552|\n|                 ceo|74259.0|145470.0|284969.0|  2.0428023| 0.24383282469915035|\n|             realtor|49476.0| 96720.0|189074.0|   2.047244|   3.534943535053907|\n|                  rn|  28.99|    43.7|   65.87|   2.970768| 0.07169423749138848|\n|               sales|37788.0| 87544.0|202814.0|  1.7594662|  0.4126918387626828|\n|     general manager|35651.0| 61407.0|105770.0|  2.3841822|0.040094527533835356|\n|            attorney|59467.0|104290.0|182900.0|  2.3267074| 0.04532263121833768|\n|      business owner|   8.67|   18.18|   38.14|  1.9116719|   5.294165422499956|\n|            director|58400.0|106786.0|195262.0|  2.2069607|  0.2995497190237779|\n|   software engineer|75514.0|120112.0|191050.0|   2.693215|0.050289348644250165|\n|      vice president|97845.0|158867.0|257947.0|  2.6034381| 0.31536155519138287|\n|          supervisor|  11.49|   19.29|   32.38|  2.4730766|0.004401971595697773|\n|  operations manager|44211.0| 73472.0|122101.0|  2.5109189|  0.4448724058382354|\n+--------------------+-------+--------+--------+-----------+--------------------+\nonly showing top 20 rows\n\n"
     ]
    }
   ],
   "source": [
    "from pyspark.sql.functions import col, lit\n",
    "import numpy as np\n",
    "\n",
    "# Define a UDF to generate sample values from Pareto distribution\n",
    "def generate_pareto_sample(alpha, high):\n",
    "    sampled_value = np.random.pareto(alpha)  # Generate a sample value from Pareto distribution\n",
    "    return min(sampled_value, high)  # Limit the sampled value to be smaller than 'High'\n",
    "\n",
    "# Register the UDF\n",
    "generate_pareto_sample_udf = udf(generate_pareto_sample)\n",
    "\n",
    "# Apply the UDF to create a new column 'pareto_sample'\n",
    "salary_positions = salary_positions.withColumn('pareto_sample', generate_pareto_sample_udf(col('alpha param'), col('High')))\n",
    "salary_positions.show()\n"
   ]
  },
  {
   "cell_type": "code",
   "execution_count": 0,
   "metadata": {
    "application/vnd.databricks.v1+cell": {
     "cellMetadata": {
      "byteLimit": 2048000,
      "rowLimit": 10000
     },
     "inputWidgets": {},
     "nuid": "1543375c-9fb6-4ca2-b9ee-83552395338f",
     "showTitle": false,
     "title": ""
    }
   },
   "outputs": [
    {
     "output_type": "stream",
     "name": "stdout",
     "output_type": "stream",
     "text": [
      "Max Value: 9.097578003371964E-4\nMin Value: 0.0011571227848343746\nAvg Value: 0.6632599910884118\n"
     ]
    }
   ],
   "source": [
    "# Find the maximum value of the 'pareto_sample' column\n",
    "max_value = salary_positions.selectExpr(\"max(pareto_sample) as max_value\").collect()[0].max_value\n",
    "\n",
    "# Find the minimum value of the 'pareto_sample' column\n",
    "min_value = salary_positions.selectExpr(\"min(pareto_sample) as min_value\").collect()[0].min_value\n",
    "\n",
    "# Find the average value of the 'pareto_sample' column\n",
    "avg_value = salary_positions.selectExpr(\"avg(pareto_sample) as avg_value\").collect()[0].avg_value\n",
    "\n",
    "# Print the max, min, and avg values of the 'pareto_sample' column\n",
    "print(\"Max Value:\", max_value)\n",
    "print(\"Min Value:\", min_value)\n",
    "print(\"Avg Value:\", avg_value)"
   ]
  },
  {
   "cell_type": "markdown",
   "metadata": {
    "application/vnd.databricks.v1+cell": {
     "cellMetadata": {},
     "inputWidgets": {},
     "nuid": "c7e5fcf1-b06e-4099-9fa5-5223d43410a7",
     "showTitle": false,
     "title": ""
    }
   },
   "source": [
    "As we can see the pareto distibution alpha estimator is not good enough and sample value out of the range values.\n",
    "So we tried a triangular distribution that is recommended for salary distribution and can be estimated with our data."
   ]
  },
  {
   "cell_type": "code",
   "execution_count": 0,
   "metadata": {
    "application/vnd.databricks.v1+cell": {
     "cellMetadata": {
      "byteLimit": 2048000,
      "rowLimit": 10000
     },
     "inputWidgets": {},
     "nuid": "2fe38339-3139-479d-b63b-e9364cfc385b",
     "showTitle": false,
     "title": ""
    }
   },
   "outputs": [
    {
     "output_type": "stream",
     "name": "stdout",
     "output_type": "stream",
     "text": [
      "+--------------------+-------+--------+--------+----------+\n|            position|    Low| Average|    High|tri sample|\n+--------------------+-------+--------+--------+----------+\n|               owner|24286.0| 59644.0|146481.0| 59690.895|\n|             teacher|   9.14|   19.18|   40.25| 10.908392|\n|           president|74544.0|136888.0|251374.0| 136152.58|\n|             manager|41103.0| 76641.0|142906.0| 97039.555|\n|    registered nurse|  28.99|    43.7|   65.87| 49.696995|\n|      office manager|  15.33|   22.08|   31.79| 22.760536|\n|     project manager|56904.0| 88410.0|137359.0| 67538.125|\n|administrative as...|  13.79|   19.14|   26.56| 19.756634|\n|                 ceo|74259.0|145470.0|284969.0| 147774.06|\n|             realtor|49476.0| 96720.0|189074.0| 164914.61|\n|                  rn|  28.99|    43.7|   65.87|  39.03307|\n|               sales|37788.0| 87544.0|202814.0|101040.984|\n|     general manager|35651.0| 61407.0|105770.0| 48362.312|\n|            attorney|59467.0|104290.0|182900.0|  82751.29|\n|      business owner|   8.67|   18.18|   38.14| 33.960575|\n|            director|58400.0|106786.0|195262.0| 112850.85|\n|   software engineer|75514.0|120112.0|191050.0|100769.234|\n|      vice president|97845.0|158867.0|257947.0| 169795.84|\n|          supervisor|  11.49|   19.29|   32.38| 12.816794|\n|  operations manager|44211.0| 73472.0|122101.0|  83328.03|\n+--------------------+-------+--------+--------+----------+\nonly showing top 20 rows\n\n"
     ]
    }
   ],
   "source": [
    "from pyspark.sql.functions import udf\n",
    "from pyspark.sql.types import FloatType\n",
    "import numpy as np\n",
    "\n",
    "# Define the UDF to accept individual column values\n",
    "def generate_tri_udf(low, average, high):\n",
    "    return np.random.triangular(low, average, high, size=None)\n",
    "\n",
    "# Register the UDF\n",
    "generate_salary = udf(generate_tri_udf, FloatType())\n",
    "\n",
    "# Apply the UDF to the 'salary_positions' DataFrame\n",
    "salary_positions = salary_positions.withColumn('tri sample', generate_salary('Low', 'Average', 'High')).select('position', 'Low', 'Average', 'High', 'tri sample')\n",
    "salary_positions.show()"
   ]
  },
  {
   "cell_type": "code",
   "execution_count": 0,
   "metadata": {
    "application/vnd.databricks.v1+cell": {
     "cellMetadata": {
      "byteLimit": 2048000,
      "rowLimit": 10000
     },
     "inputWidgets": {},
     "nuid": "76e99d34-f47e-4c22-9ad6-b4e2b6699f41",
     "showTitle": false,
     "title": ""
    }
   },
   "outputs": [],
   "source": [
    "# Join the 'salary_positions' and 'profiles_features' DataFrames\n",
    "joined_df = profiles_features.join(salary_positions, salary_positions['position'] == profiles_features['Predicted_Label'])\n"
   ]
  },
  {
   "cell_type": "code",
   "execution_count": 0,
   "metadata": {
    "application/vnd.databricks.v1+cell": {
     "cellMetadata": {
      "byteLimit": 2048000,
      "rowLimit": 10000
     },
     "inputWidgets": {},
     "nuid": "df78ed5f-c6b8-4771-8d73-0fec6ec3a3e7",
     "showTitle": false,
     "title": ""
    }
   },
   "outputs": [],
   "source": [
    "from pyspark.sql.functions import udf\n",
    "from pyspark.sql.types import FloatType\n",
    "import numpy as np\n",
    "\n",
    "# Define the UDF to accept individual column values\n",
    "def generate_tri_sample_udf(low, average, high):\n",
    "    return np.random.triangular(low, average, high, size=None)\n",
    "\n",
    "# Register the UDF\n",
    "generate_tri_salary = udf(generate_tri_sample_udf, FloatType())\n",
    "\n",
    "joined_df = joined_df.withColumn('tri sample', generate_tri_salary('Low', 'Average', 'High'))\n"
   ]
  },
  {
   "cell_type": "markdown",
   "metadata": {
    "application/vnd.databricks.v1+cell": {
     "cellMetadata": {},
     "inputWidgets": {},
     "nuid": "550286cb-9d8d-4439-b31e-120f5178bf36",
     "showTitle": false,
     "title": ""
    }
   },
   "source": [
    "increase the tri sample by total_experience_years and education_length"
   ]
  },
  {
   "cell_type": "code",
   "execution_count": 0,
   "metadata": {
    "application/vnd.databricks.v1+cell": {
     "cellMetadata": {
      "byteLimit": 2048000,
      "rowLimit": 10000
     },
     "inputWidgets": {},
     "nuid": "ce4b6b28-64ad-46ee-bc43-38df92f49d1f",
     "showTitle": false,
     "title": ""
    }
   },
   "outputs": [
    {
     "output_type": "display_data",
     "data": {
      "image/png": "[encoded data removed]"
     },
     "metadata": {
      "application/vnd.databricks.v1+output": {
       "addedWidgets": {},
       "arguments": {},
       "data": "data:image/png;base64,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\n",
       "datasetInfos": [],
       "metadata": {},
       "removedWidgets": [],
       "type": "image"
      }
     },
     "output_type": "display_data"
    }
   ],
   "source": [
    "import matplotlib.pyplot as plt\n",
    "histogram_data = joined_df.select('total_experience_years').rdd.flatMap(lambda x: x).histogram(10)\n",
    "\n",
    "# Prepare data for plotting\n",
    "bins = histogram_data[0]\n",
    "frequency = histogram_data[1]\n",
    "\n",
    "# Plot the histogram\n",
    "plt.figure(figsize=(10, 6))\n",
    "plt.bar(bins[:-1], frequency, width=(bins[1]-bins[0]), align='edge', color='skyblue')\n",
    "plt.xlabel('Bins')\n",
    "plt.ylabel('Frequency')\n",
    "plt.title('Histogram of Column: total_experience_years')\n",
    "plt.grid(axis='y', alpha=0.75)\n",
    "plt.show()"
   ]
  },
  {
   "cell_type": "code",
   "execution_count": 0,
   "metadata": {
    "application/vnd.databricks.v1+cell": {
     "cellMetadata": {
      "byteLimit": 2048000,
      "rowLimit": 10000
     },
     "inputWidgets": {},
     "nuid": "e1e05382-f2ed-4a27-9a63-4b7bc0e4d8e5",
     "showTitle": false,
     "title": ""
    }
   },
   "outputs": [
    {
     "output_type": "display_data",
     "data": {
      "image/png": "[encoded data removed]"
     },
     "metadata": {
      "application/vnd.databricks.v1+output": {
       "addedWidgets": {},
       "arguments": {},
       "data": "data:image/png;base64,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\n",
       "datasetInfos": [],
       "metadata": {},
       "removedWidgets": [],
       "type": "image"
      }
     },
     "output_type": "display_data"
    }
   ],
   "source": [
    "import matplotlib.pyplot as plt\n",
    "histogram_data = joined_df.select('education_length').rdd.flatMap(lambda x: x).histogram(10)\n",
    "\n",
    "# Prepare data for plotting\n",
    "bins = histogram_data[0]\n",
    "frequency = histogram_data[1]\n",
    "\n",
    "# Plot the histogram\n",
    "plt.figure(figsize=(10, 6))\n",
    "plt.bar(bins[:-1], frequency, width=(bins[1]-bins[0]), align='edge', color='skyblue')\n",
    "plt.xlabel('Bins')\n",
    "plt.ylabel('Frequency')\n",
    "plt.title('Histogram of Column: education_length')\n",
    "plt.grid(axis='y', alpha=0.75)\n",
    "plt.show()"
   ]
  },
  {
   "cell_type": "markdown",
   "metadata": {
    "application/vnd.databricks.v1+cell": {
     "cellMetadata": {},
     "inputWidgets": {},
     "nuid": "51bdd2b4-c6e6-45ad-855e-7065b56fba4b",
     "showTitle": false,
     "title": ""
    }
   },
   "source": [
    "The salary increase according to years of experience and educational degrees, the salary gap from the highest salary. and the gap will be divided into 50 percent for experience and 30 percent for education,\n",
    "  And the portion of each category will be awarded according to the percentage of years of experience divided by 100, and educational degrees divided by 10."
   ]
  },
  {
   "cell_type": "code",
   "execution_count": 0,
   "metadata": {
    "application/vnd.databricks.v1+cell": {
     "cellMetadata": {
      "byteLimit": 2048000,
      "rowLimit": 10000
     },
     "inputWidgets": {},
     "nuid": "6dc55df7-286b-430b-a9cc-96142b52f7d1",
     "showTitle": false,
     "title": ""
    }
   },
   "outputs": [],
   "source": [
    "from pyspark.sql.functions import udf\n",
    "from pyspark.sql.types import FloatType\n",
    "import numpy as np\n",
    "\n",
    "# Define the UDF to accept individual column values\n",
    "def increase_salary_udf(salary, high, education, experience):\n",
    "    gap = high - salary\n",
    "    education_inc = gap*0.3*education/10\n",
    "    experience_inc = gap*0.5*experience/100\n",
    "    return salary + education_inc + experience_inc\n",
    "\n",
    "# Register the UDF\n",
    "increase_salary = udf(increase_salary_udf, FloatType())\n",
    "\n",
    "joined_df = joined_df.withColumn('salary', increase_salary('tri sample', 'High', 'education_length', 'total_experience_years'))\n"
   ]
  },
  {
   "cell_type": "code",
   "execution_count": 0,
   "metadata": {
    "application/vnd.databricks.v1+cell": {
     "cellMetadata": {
      "byteLimit": 2048000,
      "rowLimit": 10000
     },
     "inputWidgets": {},
     "nuid": "7d96fc50-5134-4c01-8921-20daca40f4d4",
     "showTitle": false,
     "title": ""
    }
   },
   "outputs": [],
   "source": [
    "joined_df.write.format(\"parquet\").save(f\"/joined_df.parquet\")"
   ]
  },
  {
   "cell_type": "markdown",
   "metadata": {
    "application/vnd.databricks.v1+cell": {
     "cellMetadata": {},
     "inputWidgets": {},
     "nuid": "11497b19-5d3f-49be-95af-c93934c201e4",
     "showTitle": false,
     "title": ""
    }
   },
   "source": [
    "##Train a model that predict salary"
   ]
  },
  {
   "cell_type": "code",
   "execution_count": 0,
   "metadata": {
    "application/vnd.databricks.v1+cell": {
     "cellMetadata": {
      "byteLimit": 2048000,
      "rowLimit": 10000
     },
     "inputWidgets": {},
     "nuid": "ce737233-da0d-4146-9360-b9995369f20a",
     "showTitle": false,
     "title": ""
    }
   },
   "outputs": [],
   "source": [
    "joined_df = spark.read.parquet(\"/joined_df.parquet\")"
   ]
  },
  {
   "cell_type": "code",
   "execution_count": 0,
   "metadata": {
    "application/vnd.databricks.v1+cell": {
     "cellMetadata": {
      "byteLimit": 2048000,
      "rowLimit": 10000
     },
     "inputWidgets": {},
     "nuid": "f882d48c-4ca2-4d50-b49d-a100e1c2f5a9",
     "showTitle": false,
     "title": ""
    }
   },
   "outputs": [],
   "source": [
    "dataset = joined_df.select('id', 'position', 'salary', 'total_experience_years', 'education_length', 'experience_description', 'education_field', 'education_degree', 'education_title')"
   ]
  },
  {
   "cell_type": "markdown",
   "metadata": {
    "application/vnd.databricks.v1+cell": {
     "cellMetadata": {},
     "inputWidgets": {},
     "nuid": "9f7de167-d3ff-4dd3-abd3-4d96f142a172",
     "showTitle": false,
     "title": ""
    }
   },
   "source": [
    "###Feature Selection and Engineering"
   ]
  },
  {
   "cell_type": "code",
   "execution_count": 0,
   "metadata": {
    "application/vnd.databricks.v1+cell": {
     "cellMetadata": {
      "byteLimit": 2048000,
      "rowLimit": 10000
     },
     "inputWidgets": {},
     "nuid": "5aa6c2be-2a2e-4a5b-9c7f-06a916bb2bd2",
     "showTitle": false,
     "title": ""
    }
   },
   "outputs": [],
   "source": [
    "profiles_first = spark.read.parquet('/linkedin/people')"
   ]
  },
  {
   "cell_type": "code",
   "execution_count": 0,
   "metadata": {
    "application/vnd.databricks.v1+cell": {
     "cellMetadata": {
      "byteLimit": 2048000,
      "rowLimit": 10000
     },
     "inputWidgets": {},
     "nuid": "f3d0756c-0cfe-4d07-94a5-b559999d7f22",
     "showTitle": false,
     "title": ""
    }
   },
   "outputs": [
    {
     "output_type": "display_data",
     "data": {
      "text/html": [
       "<div>\n",
       "<style scoped>\n",
       "    .dataframe tbody tr th:only-of-type {\n",
       "        vertical-align: middle;\n",
       "    }\n",
       "\n",
       "    .dataframe tbody tr th {\n",
       "        vertical-align: top;\n",
       "    }\n",
       "\n",
       "    .dataframe thead th {\n",
       "        text-align: right;\n",
       "    }\n",
       "</style>\n",
       "<table border=\"1\" class=\"dataframe\">\n",
       "  <thead>\n",
       "    <tr style=\"text-align: right;\">\n",
       "      <th></th>\n",
       "      <th>city</th>\n",
       "      <th>count</th>\n",
       "    </tr>\n",
       "  </thead>\n",
       "  <tbody>\n",
       "    <tr>\n",
       "      <th>0</th>\n",
       "      <td>United States</td>\n",
       "      <td>816231</td>\n",
       "    </tr>\n",
       "    <tr>\n",
       "      <th>1</th>\n",
       "      <td>New York, New York, United States</td>\n",
       "      <td>63009</td>\n",
       "    </tr>\n",
       "    <tr>\n",
       "      <th>2</th>\n",
       "      <td>Los Angeles, California, United States</td>\n",
       "      <td>39305</td>\n",
       "    </tr>\n",
       "    <tr>\n",
       "      <th>3</th>\n",
       "      <td>Houston, Texas, United States</td>\n",
       "      <td>35832</td>\n",
       "    </tr>\n",
       "    <tr>\n",
       "      <th>4</th>\n",
       "      <td>San Diego, California, United States</td>\n",
       "      <td>21434</td>\n",
       "    </tr>\n",
       "    <tr>\n",
       "      <th>...</th>\n",
       "      <td>...</td>\n",
       "      <td>...</td>\n",
       "    </tr>\n",
       "    <tr>\n",
       "      <th>875</th>\n",
       "      <td>Wallingford, Connecticut, United States</td>\n",
       "      <td>503</td>\n",
       "    </tr>\n",
       "    <tr>\n",
       "      <th>876</th>\n",
       "      <td>Marina del Rey, California, United States</td>\n",
       "      <td>502</td>\n",
       "    </tr>\n",
       "    <tr>\n",
       "      <th>877</th>\n",
       "      <td>Friendswood, Texas, United States</td>\n",
       "      <td>502</td>\n",
       "    </tr>\n",
       "    <tr>\n",
       "      <th>878</th>\n",
       "      <td>Fort Walton Beach, Florida, United States</td>\n",
       "      <td>502</td>\n",
       "    </tr>\n",
       "    <tr>\n",
       "      <th>879</th>\n",
       "      <td>Greensburg, Pennsylvania, United States</td>\n",
       "      <td>501</td>\n",
       "    </tr>\n",
       "  </tbody>\n",
       "</table>\n",
       "<p>880 rows × 2 columns</p>\n",
       "</div>"
      ]
     },
     "metadata": {
      "application/vnd.databricks.v1+output": {
       "addedWidgets": {},
       "arguments": {},
       "data": "<div>\n<style scoped>\n    .dataframe tbody tr th:only-of-type {\n        vertical-align: middle;\n    }\n\n    .dataframe tbody tr th {\n        vertical-align: top;\n    }\n\n    .dataframe thead th {\n        text-align: right;\n    }\n</style>\n<table border=\"1\" class=\"dataframe\">\n  <thead>\n    <tr style=\"text-align: right;\">\n      <th></th>\n      <th>city</th>\n      <th>count</th>\n    </tr>\n  </thead>\n  <tbody>\n    <tr>\n      <th>0</th>\n      <td>United States</td>\n      <td>816231</td>\n    </tr>\n    <tr>\n      <th>1</th>\n      <td>New York, New York, United States</td>\n      <td>63009</td>\n    </tr>\n    <tr>\n      <th>2</th>\n      <td>Los Angeles, California, United States</td>\n      <td>39305</td>\n    </tr>\n    <tr>\n      <th>3</th>\n      <td>Houston, Texas, United States</td>\n      <td>35832</td>\n    </tr>\n    <tr>\n      <th>4</th>\n      <td>San Diego, California, United States</td>\n      <td>21434</td>\n    </tr>\n    <tr>\n      <th>...</th>\n      <td>...</td>\n      <td>...</td>\n    </tr>\n    <tr>\n      <th>875</th>\n      <td>Wallingford, Connecticut, United States</td>\n      <td>503</td>\n    </tr>\n    <tr>\n      <th>876</th>\n      <td>Marina del Rey, California, United States</td>\n      <td>502</td>\n    </tr>\n    <tr>\n      <th>877</th>\n      <td>Friendswood, Texas, United States</td>\n      <td>502</td>\n    </tr>\n    <tr>\n      <th>878</th>\n      <td>Fort Walton Beach, Florida, United States</td>\n      <td>502</td>\n    </tr>\n    <tr>\n      <th>879</th>\n      <td>Greensburg, Pennsylvania, United States</td>\n      <td>501</td>\n    </tr>\n  </tbody>\n</table>\n<p>880 rows × 2 columns</p>\n</div>",
       "datasetInfos": [],
       "metadata": {},
       "removedWidgets": [],
       "textData": null,
       "type": "htmlSandbox"
      }
     },
     "output_type": "display_data"
    }
   ],
   "source": [
    "city_histogram = profiles_first.groupBy(\"city\").count().orderBy(\"count\", ascending=False).filter(col('count') > 500)\n",
    "city_histogram.toPandas()"
   ]
  },
  {
   "cell_type": "code",
   "execution_count": 0,
   "metadata": {
    "application/vnd.databricks.v1+cell": {
     "cellMetadata": {
      "byteLimit": 2048000,
      "rowLimit": 10000
     },
     "inputWidgets": {},
     "nuid": "1be8485f-7d79-4808-9163-f22ff58a33d4",
     "showTitle": false,
     "title": ""
    }
   },
   "outputs": [
    {
     "output_type": "display_data",
     "data": {
      "text/html": [
       "<div>\n",
       "<style scoped>\n",
       "    .dataframe tbody tr th:only-of-type {\n",
       "        vertical-align: middle;\n",
       "    }\n",
       "\n",
       "    .dataframe tbody tr th {\n",
       "        vertical-align: top;\n",
       "    }\n",
       "\n",
       "    .dataframe thead th {\n",
       "        text-align: right;\n",
       "    }\n",
       "</style>\n",
       "<table border=\"1\" class=\"dataframe\">\n",
       "  <thead>\n",
       "    <tr style=\"text-align: right;\">\n",
       "      <th></th>\n",
       "      <th>recommendations_count</th>\n",
       "      <th>count</th>\n",
       "    </tr>\n",
       "  </thead>\n",
       "  <tbody>\n",
       "    <tr>\n",
       "      <th>0</th>\n",
       "      <td>NaN</td>\n",
       "      <td>3261293</td>\n",
       "    </tr>\n",
       "    <tr>\n",
       "      <th>1</th>\n",
       "      <td>1.0</td>\n",
       "      <td>100406</td>\n",
       "    </tr>\n",
       "    <tr>\n",
       "      <th>2</th>\n",
       "      <td>2.0</td>\n",
       "      <td>33011</td>\n",
       "    </tr>\n",
       "    <tr>\n",
       "      <th>3</th>\n",
       "      <td>3.0</td>\n",
       "      <td>18378</td>\n",
       "    </tr>\n",
       "    <tr>\n",
       "      <th>4</th>\n",
       "      <td>4.0</td>\n",
       "      <td>12116</td>\n",
       "    </tr>\n",
       "    <tr>\n",
       "      <th>...</th>\n",
       "      <td>...</td>\n",
       "      <td>...</td>\n",
       "    </tr>\n",
       "    <tr>\n",
       "      <th>102</th>\n",
       "      <td>84.0</td>\n",
       "      <td>1</td>\n",
       "    </tr>\n",
       "    <tr>\n",
       "      <th>103</th>\n",
       "      <td>124.0</td>\n",
       "      <td>1</td>\n",
       "    </tr>\n",
       "    <tr>\n",
       "      <th>104</th>\n",
       "      <td>160.0</td>\n",
       "      <td>1</td>\n",
       "    </tr>\n",
       "    <tr>\n",
       "      <th>105</th>\n",
       "      <td>76.0</td>\n",
       "      <td>1</td>\n",
       "    </tr>\n",
       "    <tr>\n",
       "      <th>106</th>\n",
       "      <td>99.0</td>\n",
       "      <td>1</td>\n",
       "    </tr>\n",
       "  </tbody>\n",
       "</table>\n",
       "<p>107 rows × 2 columns</p>\n",
       "</div>"
      ]
     },
     "metadata": {
      "application/vnd.databricks.v1+output": {
       "addedWidgets": {},
       "arguments": {},
       "data": "<div>\n<style scoped>\n    .dataframe tbody tr th:only-of-type {\n        vertical-align: middle;\n    }\n\n    .dataframe tbody tr th {\n        vertical-align: top;\n    }\n\n    .dataframe thead th {\n        text-align: right;\n    }\n</style>\n<table border=\"1\" class=\"dataframe\">\n  <thead>\n    <tr style=\"text-align: right;\">\n      <th></th>\n      <th>recommendations_count</th>\n      <th>count</th>\n    </tr>\n  </thead>\n  <tbody>\n    <tr>\n      <th>0</th>\n      <td>NaN</td>\n      <td>3261293</td>\n    </tr>\n    <tr>\n      <th>1</th>\n      <td>1.0</td>\n      <td>100406</td>\n    </tr>\n    <tr>\n      <th>2</th>\n      <td>2.0</td>\n      <td>33011</td>\n    </tr>\n    <tr>\n      <th>3</th>\n      <td>3.0</td>\n      <td>18378</td>\n    </tr>\n    <tr>\n      <th>4</th>\n      <td>4.0</td>\n      <td>12116</td>\n    </tr>\n    <tr>\n      <th>...</th>\n      <td>...</td>\n      <td>...</td>\n    </tr>\n    <tr>\n      <th>102</th>\n      <td>84.0</td>\n      <td>1</td>\n    </tr>\n    <tr>\n      <th>103</th>\n      <td>124.0</td>\n      <td>1</td>\n    </tr>\n    <tr>\n      <th>104</th>\n      <td>160.0</td>\n      <td>1</td>\n    </tr>\n    <tr>\n      <th>105</th>\n      <td>76.0</td>\n      <td>1</td>\n    </tr>\n    <tr>\n      <th>106</th>\n      <td>99.0</td>\n      <td>1</td>\n    </tr>\n  </tbody>\n</table>\n<p>107 rows × 2 columns</p>\n</div>",
       "datasetInfos": [],
       "metadata": {},
       "removedWidgets": [],
       "textData": null,
       "type": "htmlSandbox"
      }
     },
     "output_type": "display_data"
    }
   ],
   "source": [
    "profiles_first.groupBy(\"recommendations_count\").count().orderBy(\"count\", ascending=False).toPandas()"
   ]
  },
  {
   "cell_type": "code",
   "execution_count": 0,
   "metadata": {
    "application/vnd.databricks.v1+cell": {
     "cellMetadata": {
      "byteLimit": 2048000,
      "rowLimit": 10000
     },
     "inputWidgets": {},
     "nuid": "0755a8ed-5266-4f2a-8b62-9fe4d688291e",
     "showTitle": false,
     "title": ""
    }
   },
   "outputs": [
    {
     "output_type": "stream",
     "name": "stdout",
     "output_type": "stream",
     "text": [
      "+--------------------+\n|current_company:name|\n+--------------------+\n|Sunnyside Unified...|\n|                 N/A|\n|                null|\n|                DFAS|\n|Tokio Marine Insu...|\n|                null|\n|                null|\n|                null|\n|local 242 Laborer...|\n|                null|\n|   Republic Services|\n|                null|\n|                null|\n|                null|\n|      Round Rock ISD|\n|     Caregiver Homes|\n|                null|\n|  Pamela Rak LCSW PC|\n|  St. Martin's Press|\n|Flexsteel Industr...|\n+--------------------+\nonly showing top 20 rows\n\n"
     ]
    }
   ],
   "source": [
    "profiles_first.select('current_company:name').show()"
   ]
  },
  {
   "cell_type": "code",
   "execution_count": 0,
   "metadata": {
    "application/vnd.databricks.v1+cell": {
     "cellMetadata": {
      "byteLimit": 2048000,
      "rowLimit": 10000
     },
     "inputWidgets": {},
     "nuid": "fb86fe9d-7bf4-4e3f-8d4f-0dfce07b5bd5",
     "showTitle": false,
     "title": ""
    }
   },
   "outputs": [
    {
     "output_type": "stream",
     "name": "stdout",
     "output_type": "stream",
     "text": [
      "+--------------------+\n|               title|\n+--------------------+\n|           [Spanish]|\n|   [Inglés, Spanish]|\n|           [English]|\n|           [Spanish]|\n|  [Spanish, Chinese]|\n|   [English, French]|\n|           [Spanish]|\n|[English, Hindi, ...|\n|           [Spanish]|\n|  [English, Spanish]|\n|     [English, Urdu]|\n|[Spanish (DLI eme...|\n|           [Tagalog]|\n|[Spanish, English...|\n|  [English, Spanish]|\n|           [English]|\n|   [English, French]|\n|[American Sign La...|\n|   [Hindi, Gujarati]|\n|           [English]|\n+--------------------+\nonly showing top 20 rows\n\n"
     ]
    }
   ],
   "source": [
    "from pyspark.sql.functions import size\n",
    "profiles_first.select('languages.title').filter(size(col('languages.title'))>0).show()"
   ]
  },
  {
   "cell_type": "code",
   "execution_count": 0,
   "metadata": {
    "application/vnd.databricks.v1+cell": {
     "cellMetadata": {
      "byteLimit": 2048000,
      "rowLimit": 10000
     },
     "inputWidgets": {},
     "nuid": "4b1b51c3-8916-40f9-b419-aa72a46eac14",
     "showTitle": false,
     "title": ""
    }
   },
   "outputs": [],
   "source": [
    "profiles_to_join = profiles_first.select('id', 'languages.title', 'current_company:name', 'recommendations_count', 'city', 'followers').withColumnRenamed('title', 'languages').withColumnRenamed('id', 'id1')"
   ]
  },
  {
   "cell_type": "code",
   "execution_count": 0,
   "metadata": {
    "application/vnd.databricks.v1+cell": {
     "cellMetadata": {
      "byteLimit": 2048000,
      "rowLimit": 10000
     },
     "inputWidgets": {},
     "nuid": "e56ceba1-2aed-4532-ac3f-17287805859b",
     "showTitle": false,
     "title": ""
    }
   },
   "outputs": [],
   "source": [
    "# Joining datasets by the id column\n",
    "joined_dataset = dataset.join(profiles_to_join, dataset.id == profiles_to_join.id1, 'inner').drop('id1')"
   ]
  },
  {
   "cell_type": "code",
   "execution_count": 0,
   "metadata": {
    "application/vnd.databricks.v1+cell": {
     "cellMetadata": {
      "byteLimit": 2048000,
      "rowLimit": 10000
     },
     "inputWidgets": {},
     "nuid": "2da9ba10-1158-4e1b-8b26-e3deae1e0d3b",
     "showTitle": false,
     "title": ""
    }
   },
   "outputs": [
    {
     "output_type": "display_data",
     "data": {
      "text/html": [
       "<style scoped>\n",
       "  .ansiout {\n",
       "    display: block;\n",
       "    unicode-bidi: embed;\n",
       "    white-space: pre-wrap;\n",
       "    word-wrap: break-word;\n",
       "    word-break: break-all;\n",
       "    font-family: \"Menlo\", \"Monaco\", \"Consolas\", \"Ubuntu Mono\", \"Source Code Pro\", monospace;\n",
       "    font-size: 13px;\n",
       "    color: #555;\n",
       "    margin-left: 4px;\n",
       "    line-height: 19px;\n",
       "  }\n",
       "</style>"
      ]
     },
     "metadata": {
      "application/vnd.databricks.v1+output": {
       "arguments": {},
       "data": "",
       "errorSummary": "Cancelled",
       "errorTraceType": "html",
       "metadata": {},
       "type": "ipynbError"
      }
     },
     "output_type": "display_data"
    }
   ],
   "source": [
    "joined_dataset.count(), dataset.count()"
   ]
  },
  {
   "cell_type": "code",
   "execution_count": 0,
   "metadata": {
    "application/vnd.databricks.v1+cell": {
     "cellMetadata": {
      "byteLimit": 2048000,
      "rowLimit": 10000
     },
     "inputWidgets": {},
     "nuid": "36572556-f8ec-4aab-9265-42b60b4e73bc",
     "showTitle": false,
     "title": ""
    }
   },
   "outputs": [],
   "source": [
    "# joined_dataset.write.format(\"parquet\").save(f\"/joined_dataset.parquet\")"
   ]
  },
  {
   "cell_type": "code",
   "execution_count": 0,
   "metadata": {
    "application/vnd.databricks.v1+cell": {
     "cellMetadata": {
      "byteLimit": 2048000,
      "rowLimit": 10000
     },
     "inputWidgets": {},
     "nuid": "6e73c769-aa77-45a4-9496-12e798852a29",
     "showTitle": false,
     "title": ""
    }
   },
   "outputs": [],
   "source": [
    "from pyspark.sql.functions import size\n",
    "joined_dataset = spark.read.parquet(\"/joined_dataset.parquet\").withColumn('number_of_languages', size(\"languages\")).drop('languages')"
   ]
  },
  {
   "cell_type": "markdown",
   "metadata": {
    "application/vnd.databricks.v1+cell": {
     "cellMetadata": {},
     "inputWidgets": {},
     "nuid": "432b528b-281d-4d2f-9374-fd126a52c5db",
     "showTitle": false,
     "title": ""
    }
   },
   "source": [
    "merge the education column because the slow embedding"
   ]
  },
  {
   "cell_type": "code",
   "execution_count": 0,
   "metadata": {
    "application/vnd.databricks.v1+cell": {
     "cellMetadata": {
      "byteLimit": 2048000,
      "rowLimit": 10000
     },
     "inputWidgets": {},
     "nuid": "177bcd73-82f9-44dc-a41d-b1003fefb2c5",
     "showTitle": false,
     "title": ""
    }
   },
   "outputs": [
    {
     "output_type": "stream",
     "name": "stdout",
     "output_type": "stream",
     "text": [
      "+---------------------------------------------------------------------------------------------------------------------------------------------------------------------------------------------------------------------------------------------------------------------------------------------------------------------+\n|education                                                                                                                                                                                                                                                                                                            |\n+---------------------------------------------------------------------------------------------------------------------------------------------------------------------------------------------------------------------------------------------------------------------------------------------------------------------+\n|[]                                                                                                                                                                                                                                                                                                                   |\n|[]                                                                                                                                                                                                                                                                                                                   |\n|[]                                                                                                                                                                                                                                                                                                                   |\n|[硕士 in Applied Data Science from USC Viterbi School of Engineering, 学士 in 信息管理 from 四川大学]                                                                                                                                                                                                                |\n|[]                                                                                                                                                                                                                                                                                                                   |\n|[学士 in 生物化学 from 安徽科技学院, 大专 in 化学生物 from 宿州学院]                                                                                                                                                                                                                                                 |\n|[]                                                                                                                                                                                                                                                                                                                   |\n|[Bachelor of Arts in Early Childhood Education from Harding University, Master of Education in Reading Specialist from Harding University]                                                                                                                                                                           |\n|[Broker of Real Estate in Real Estate from Arizona School of Business]                                                                                                                                                                                                                                               |\n|[PHD in CPU Architeture from 中科院计算技术研究所]                                                                                                                                                                                                                                                                   |\n|[汉语国际教育硕士 in 汉语国际教育 from 沈阳师范大学]                                                                                                                                                                                                                                                                 |\n|[Bachelor of Arts - BA in communication from 美国加州大学圣迭戈分校]                                                                                                                                                                                                                                                 |\n|[Master's degree in Civil Engineering from The Johns Hopkins University, 学士 in 土木工程 from 重庆大学]                                                                                                                                                                                                             |\n|[Bachelor of Engineering - BE in 电子工程 Electronic&Engineering from 天津大学]                                                                                                                                                                                                                                      |\n|[Certificate in Biotechnology-BioBusiness from 美國喬治城大學, Master of Science - MS in Department of Biological Science and Technology (Organic Chemistry group) from National Chiao Tung University, Bachelor of Science - BS in Department of Biochemical Science and Technology from National Chiayi University]|\n|[M.S.E in Telecommunications from UNIVERSITY OF PENNSYLVANIA, SCHOOL OF ENGINEERING AND APPLIED SCIENCE Philadelphia, B.S in Optical Information Science and Technology from SUN YAT-SEN UNIVERSITY]                                                                                                                 |\n|[Bachelor of Science - BS in Electrical Engineering from George Mason University]                                                                                                                                                                                                                                    |\n|[GED in Music Theory and Composition from Yavapai College]                                                                                                                                                                                                                                                           |\n|[Bachelor's degree in International Business/Marketing from University of Cincinnati Carl H. Lindner College of Business]                                                                                                                                                                                            |\n|[VIDEO EDITING / HTML DESIGNS in PASS from Santa Rosa Junior College]                                                                                                                                                                                                                                                |\n+---------------------------------------------------------------------------------------------------------------------------------------------------------------------------------------------------------------------------------------------------------------------------------------------------------------------+\nonly showing top 20 rows\n\n"
     ]
    }
   ],
   "source": [
    "from pyspark.sql.functions import expr\n",
    "joined_dataset = joined_dataset.withColumn(\"education\", expr(\"transform(arrays_zip(education_degree, education_field, education_title), x -> concat(x.education_degree, ' in ', x.education_field, ' from ', x.education_title))\"))\n",
    "joined_dataset.select('education').show(truncate=False)"
   ]
  },
  {
   "cell_type": "code",
   "execution_count": 0,
   "metadata": {
    "application/vnd.databricks.v1+cell": {
     "cellMetadata": {
      "byteLimit": 2048000,
      "rowLimit": 10000
     },
     "inputWidgets": {},
     "nuid": "7db7e7ca-ec4e-4a3a-a952-416d16cacd46",
     "showTitle": false,
     "title": ""
    }
   },
   "outputs": [],
   "source": [
    "from pyspark.sql.functions import concat_ws, col\n",
    "df = joined_dataset.withColumn(\"experience_description\", concat_ws(\" \", col(\"experience_description\")))\n",
    "df = df.withColumn(\"education_field\", concat_ws(\" \", col(\"education_field\"))) \n",
    "df = df.withColumn(\"education_degree\", concat_ws(\" \", col(\"education_degree\"))) \n",
    "df = df.withColumn(\"education_title\", concat_ws(\" \", col(\"education_title\")))  \n",
    "df = df.withColumn(\"education\", concat_ws(\" \", col(\"education\")))  \n",
    "pd_df = df.toPandas()"
   ]
  },
  {
   "cell_type": "code",
   "execution_count": 0,
   "metadata": {
    "application/vnd.databricks.v1+cell": {
     "cellMetadata": {
      "byteLimit": 2048000,
      "rowLimit": 10000
     },
     "inputWidgets": {},
     "nuid": "4bdf4470-36d6-48e4-bdad-db51f7da7482",
     "showTitle": false,
     "title": ""
    }
   },
   "outputs": [
    {
     "output_type": "stream",
     "name": "stdout",
     "output_type": "stream",
     "text": [
      "id                            0\nposition                      0\nsalary                        0\ntotal_experience_years        0\neducation_length              0\nexperience_description        0\neducation_field               0\neducation_degree              0\neducation_title               0\ncurrent_company:name      21560\nrecommendations_count     96400\ncity                          0\nfollowers                     0\nnumber_of_languages           0\neducation                     0\ndtype: int64\n"
     ]
    }
   ],
   "source": [
    "print(pd_df.isnull().sum())"
   ]
  },
  {
   "cell_type": "code",
   "execution_count": 0,
   "metadata": {
    "application/vnd.databricks.v1+cell": {
     "cellMetadata": {
      "byteLimit": 2048000,
      "rowLimit": 10000
     },
     "inputWidgets": {},
     "nuid": "bcb1585f-2040-4c06-b453-67cada02a9f6",
     "showTitle": false,
     "title": ""
    }
   },
   "outputs": [],
   "source": [
    "df_filled = df.fillna(0, subset=['recommendations_count']).fillna(' ', subset=['current_company:name'])"
   ]
  },
  {
   "cell_type": "code",
   "execution_count": 0,
   "metadata": {
    "application/vnd.databricks.v1+cell": {
     "cellMetadata": {
      "byteLimit": 2048000,
      "rowLimit": 10000
     },
     "inputWidgets": {},
     "nuid": "72f34841-2ccc-4c36-a8b2-d3d2d2f9d9bf",
     "showTitle": false,
     "title": ""
    }
   },
   "outputs": [],
   "source": [
    "from pyspark.sql.functions import col, when, lit\n",
    "columns = df_filled.columns\n",
    "\n",
    "# Iterate over each column and replace spaces with period\n",
    "for column in columns:\n",
    "    df_filled = df_filled.withColumn(column, when(col(column) == ' ', lit('.')).otherwise(col(column)))\n",
    "    df_filled = df_filled.withColumn(column, when(col(column) == '', lit('.')).otherwise(col(column)))\n",
    "\n"
   ]
  },
  {
   "cell_type": "markdown",
   "metadata": {
    "application/vnd.databricks.v1+cell": {
     "cellMetadata": {},
     "inputWidgets": {},
     "nuid": "ac1ba433-45ec-43b8-a961-f9d5ac56ab33",
     "showTitle": false,
     "title": ""
    }
   },
   "source": [
    "I decided to drop the city and company name because of the amount of features and run time of embedding, and language to convert to the number of languages"
   ]
  },
  {
   "cell_type": "code",
   "execution_count": 0,
   "metadata": {
    "application/vnd.databricks.v1+cell": {
     "cellMetadata": {
      "byteLimit": 2048000,
      "rowLimit": 10000
     },
     "inputWidgets": {},
     "nuid": "95288aef-e667-4cdb-bdae-a0e9a4f28be7",
     "showTitle": false,
     "title": ""
    }
   },
   "outputs": [],
   "source": [
    "from pyspark.sql.functions import size\n",
    "df_filled = df_filled.drop('city', 'current_company:name', \"education_field\", \"education_degree\", \"education_title\")"
   ]
  },
  {
   "cell_type": "code",
   "execution_count": 0,
   "metadata": {
    "application/vnd.databricks.v1+cell": {
     "cellMetadata": {
      "byteLimit": 2048000,
      "rowLimit": 10000
     },
     "inputWidgets": {},
     "nuid": "d5a36c5c-23b3-4526-bb1a-161c38f8d9a8",
     "showTitle": false,
     "title": ""
    }
   },
   "outputs": [
    {
     "output_type": "stream",
     "name": "stdout",
     "output_type": "stream",
     "text": [
      "Out[9]: (109186, 84415)"
     ]
    }
   ],
   "source": [
    "from pyspark.sql.functions import col, udf\n",
    "from pyspark.sql.types import BooleanType\n",
    "import re\n",
    "\n",
    "# Define a function to check if a string contains English text\n",
    "def contains_english(text):\n",
    "    return bool(re.search(r'[a-zA-Z]', text))\n",
    "\n",
    "# Define a UDF from the function\n",
    "contains_english_udf = udf(contains_english, BooleanType())\n",
    "\n",
    "# Apply the UDF to create a new column indicating whether the text contains English\n",
    "english_df = df_filled.withColumn(\"contains_english\", contains_english_udf(col(\"education\")))\n",
    "\n",
    "# Filter out rows containing non-English text\n",
    "english_df = english_df.filter(col(\"contains_english\") == True).drop(\"contains_english\")\n",
    "\n",
    "df_filled.count(), english_df.count()"
   ]
  },
  {
   "cell_type": "code",
   "execution_count": 0,
   "metadata": {
    "application/vnd.databricks.v1+cell": {
     "cellMetadata": {
      "byteLimit": 2048000,
      "rowLimit": 10000
     },
     "inputWidgets": {},
     "nuid": "a703b821-5e2a-4e4a-a689-0556770db66a",
     "showTitle": false,
     "title": ""
    }
   },
   "outputs": [
    {
     "output_type": "stream",
     "name": "stdout",
     "output_type": "stream",
     "text": [
      "Out[10]: (84395, 84415)"
     ]
    }
   ],
   "source": [
    "# Apply the UDF to create a new column indicating whether the text contains English\n",
    "english_df1 = english_df.withColumn(\"contains_english\", contains_english_udf(col(\"experience_description\")))\n",
    "\n",
    "# Filter out rows containing non-English text\n",
    "english_df1 = english_df1.filter(col(\"contains_english\") == True).drop(\"contains_english\")\n",
    "\n",
    "english_df1.count(), english_df.count()"
   ]
  },
  {
   "cell_type": "code",
   "execution_count": 0,
   "metadata": {
    "application/vnd.databricks.v1+cell": {
     "cellMetadata": {
      "byteLimit": 2048000,
      "rowLimit": 10000
     },
     "inputWidgets": {},
     "nuid": "5e906225-56a0-4755-8361-68191112e779",
     "showTitle": false,
     "title": ""
    }
   },
   "outputs": [
    {
     "output_type": "stream",
     "name": "stdout",
     "output_type": "stream",
     "text": [
      "Out[11]: 84415"
     ]
    }
   ],
   "source": [
    "english_df.count()"
   ]
  },
  {
   "cell_type": "code",
   "execution_count": 0,
   "metadata": {
    "application/vnd.databricks.v1+cell": {
     "cellMetadata": {
      "byteLimit": 2048000,
      "rowLimit": 10000
     },
     "inputWidgets": {},
     "nuid": "6613dc91-2a4b-414e-85a6-c46ee6c07ca8",
     "showTitle": false,
     "title": ""
    }
   },
   "outputs": [
    {
     "output_type": "display_data",
     "data": {
      "image/png": "[encoded data removed]"
     },
     "metadata": {
      "application/vnd.databricks.v1+output": {
       "addedWidgets": {},
       "arguments": {},
       "data": "data:image/png;base64,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\n",
       "datasetInfos": [],
       "metadata": {},
       "removedWidgets": [],
       "type": "image"
      }
     },
     "output_type": "display_data"
    }
   ],
   "source": [
    "import matplotlib.pyplot as plt\n",
    "histogram_data = df.select('salary').rdd.flatMap(lambda x: x).histogram(10)\n",
    "\n",
    "# Prepare data for plotting\n",
    "bins = histogram_data[0]\n",
    "frequency = histogram_data[1]\n",
    "\n",
    "# Plot the histogram\n",
    "plt.figure(figsize=(10, 6))\n",
    "plt.bar(bins[:-1], frequency, width=(bins[1]-bins[0]), align='edge', color='skyblue')\n",
    "plt.xlabel('Bins')\n",
    "plt.ylabel('Frequency')\n",
    "plt.title('Histogram of Column: salary')\n",
    "plt.grid(axis='y', alpha=0.75)\n",
    "plt.show()"
   ]
  },
  {
   "cell_type": "code",
   "execution_count": 0,
   "metadata": {
    "application/vnd.databricks.v1+cell": {
     "cellMetadata": {
      "byteLimit": 2048000,
      "rowLimit": 10000
     },
     "inputWidgets": {},
     "nuid": "657e1688-157c-4d43-a4f0-42682368c554",
     "showTitle": false,
     "title": ""
    }
   },
   "outputs": [],
   "source": [
    "head = english_df1.limit(5)"
   ]
  },
  {
   "cell_type": "code",
   "execution_count": 0,
   "metadata": {
    "application/vnd.databricks.v1+cell": {
     "cellMetadata": {
      "byteLimit": 2048000,
      "rowLimit": 10000
     },
     "inputWidgets": {},
     "nuid": "8dcaf7a1-2d95-4f99-a001-351ef4df89a5",
     "showTitle": false,
     "title": ""
    }
   },
   "outputs": [
    {
     "output_type": "stream",
     "name": "stdout",
     "output_type": "stream",
     "text": [
      "small_bert_L4_256 download started this may take some time.\nApproximate size to download 40.5 MB\n\r[ | ]\r[ / ]\r[ — ]\r[ \\ ]\r[ | ]\r[OK!]\nsmall_bert_L4_256 download started this may take some time.\nApproximate size to download 40.5 MB\n\r[ | ]\r[OK!]\nsmall_bert_L4_256 download started this may take some time.\nApproximate size to download 40.5 MB\n\r[ | ]\r[OK!]\n"
     ]
    }
   ],
   "source": [
    "from sparknlp.annotator import Tokenizer, BertEmbeddings, SentenceEmbeddings\n",
    "import sparknlp\n",
    "from sparknlp.base import *\n",
    "from sparknlp.annotator import *\n",
    "from pyspark.ml import Pipeline\n",
    "from pyspark.sql import functions as F\n",
    "\n",
    "text_columns = [\"position\", \"experience_description\", \"education\"]\n",
    "result = english_df1\n",
    "for col in text_columns:\n",
    "    document_assembler = DocumentAssembler() \\\n",
    "                    .setInputCol(col) \\\n",
    "                    .setOutputCol(\"document\")\n",
    "    sentence = SentenceDetector() \\\n",
    "                    .setInputCols([\"document\"]) \\\n",
    "                    .setOutputCol(\"sentence\")\n",
    "    tokenizer = Tokenizer() \\\n",
    "                    .setInputCols([\"sentence\"]) \\\n",
    "                    .setOutputCol(\"token\")\n",
    "        \n",
    "    bert_embeddings = BertEmbeddings().pretrained(name='small_bert_L4_256', lang='en') \\\n",
    "                    .setInputCols([\"sentence\",'token'])\\\n",
    "                    .setOutputCol(f\"{col}_embeddings\")\n",
    "    embeddingsSentence = SentenceEmbeddings() \\\n",
    "                    .setInputCols([\"sentence\", f\"{col}_embeddings\"]) \\\n",
    "                    .setOutputCol(f\"{col}_embeddings\") \\\n",
    "                    .setPoolingStrategy(\"AVERAGE\")\n",
    "    bert_pipeline = Pipeline(stages=[document_assembler,\n",
    "                                        sentence,\n",
    "                                        tokenizer,\n",
    "                                        bert_embeddings,\n",
    "                                        embeddingsSentence\n",
    "                                        ])\n",
    "\n",
    "\n",
    "    model = bert_pipeline.fit(result)\n",
    "    result = model.transform(result)\n",
    "    result = result.drop(\"document\", \"sentence\", \"token\")\n"
   ]
  },
  {
   "cell_type": "code",
   "execution_count": 0,
   "metadata": {
    "application/vnd.databricks.v1+cell": {
     "cellMetadata": {
      "byteLimit": 2048000,
      "rowLimit": 10000
     },
     "inputWidgets": {},
     "nuid": "add1032a-dfc7-4d60-b549-76e4f04739dd",
     "showTitle": false,
     "title": ""
    }
   },
   "outputs": [
    {
     "output_type": "stream",
     "name": "stdout",
     "output_type": "stream",
     "text": [
      "Out[13]: (84395, 84395)"
     ]
    }
   ],
   "source": [
    "english_df1.count(), result.count()"
   ]
  },
  {
   "cell_type": "code",
   "execution_count": 0,
   "metadata": {
    "application/vnd.databricks.v1+cell": {
     "cellMetadata": {
      "byteLimit": 2048000,
      "rowLimit": 10000
     },
     "inputWidgets": {},
     "nuid": "a585de6e-f284-48c0-8f47-aafd232d2922",
     "showTitle": false,
     "title": ""
    }
   },
   "outputs": [],
   "source": [
    "result.write.format(\"parquet\").save(f\"/result2.parquet\")\n",
    "# result1.write.format(\"parquet\").save(f\"/result1.parquet\")"
   ]
  },
  {
   "cell_type": "code",
   "execution_count": 0,
   "metadata": {
    "application/vnd.databricks.v1+cell": {
     "cellMetadata": {
      "byteLimit": 2048000,
      "rowLimit": 10000
     },
     "inputWidgets": {},
     "nuid": "05335499-5949-4326-a840-4e8770c7feaa",
     "showTitle": false,
     "title": ""
    }
   },
   "outputs": [],
   "source": [
    "result2 = spark.read.parquet(\"/result2.parquet\")"
   ]
  },
  {
   "cell_type": "code",
   "execution_count": 0,
   "metadata": {
    "application/vnd.databricks.v1+cell": {
     "cellMetadata": {
      "byteLimit": 2048000,
      "rowLimit": 10000
     },
     "inputWidgets": {},
     "nuid": "fb990731-9481-4a52-857f-faf01e3f0888",
     "showTitle": false,
     "title": ""
    }
   },
   "outputs": [],
   "source": [
    "\n",
    "text_columns = [\"position\", \"experience_description\", \"education\"]"
   ]
  },
  {
   "cell_type": "code",
   "execution_count": 0,
   "metadata": {
    "application/vnd.databricks.v1+cell": {
     "cellMetadata": {
      "byteLimit": 2048000,
      "rowLimit": 10000
     },
     "inputWidgets": {},
     "nuid": "7dd044c6-8b2b-48ad-8f02-f80a11a4acf9",
     "showTitle": false,
     "title": ""
    }
   },
   "outputs": [
    {
     "output_type": "stream",
     "name": "stdout",
     "output_type": "stream",
     "text": [
      "Out[17]: 84395"
     ]
    }
   ],
   "source": [
    "result1 = result\n",
    "result1.count()"
   ]
  },
  {
   "cell_type": "code",
   "execution_count": 0,
   "metadata": {
    "application/vnd.databricks.v1+cell": {
     "cellMetadata": {
      "byteLimit": 2048000,
      "rowLimit": 10000
     },
     "inputWidgets": {},
     "nuid": "6f4438a2-ffd5-4c38-b93f-d07c57028689",
     "showTitle": false,
     "title": ""
    }
   },
   "outputs": [],
   "source": [
    "from pyspark.sql import functions as F\n",
    "for col in text_columns:\n",
    "    result2 = result2.withColumn(col, F.col(f\"{col}_embeddings.embeddings\").getItem(0))\n"
   ]
  },
  {
   "cell_type": "code",
   "execution_count": 0,
   "metadata": {
    "application/vnd.databricks.v1+cell": {
     "cellMetadata": {
      "byteLimit": 2048000,
      "rowLimit": 10000
     },
     "inputWidgets": {},
     "nuid": "22bf7f7f-e6f3-4818-8853-363f0ad9475b",
     "showTitle": false,
     "title": ""
    }
   },
   "outputs": [],
   "source": [
    "for col in text_columns:\n",
    "    result2 = result2.drop(f\"{col}_embeddings\")"
   ]
  },
  {
   "cell_type": "code",
   "execution_count": 0,
   "metadata": {
    "application/vnd.databricks.v1+cell": {
     "cellMetadata": {
      "byteLimit": 2048000,
      "rowLimit": 10000
     },
     "inputWidgets": {},
     "nuid": "0a070edf-4a85-40e0-beb1-d19081a34245",
     "showTitle": false,
     "title": ""
    }
   },
   "outputs": [],
   "source": [
    "result_df = result2.withColumn(\"salary\", result2[\"salary\"].cast(\"float\"))\n",
    "result_df = result_df.withColumn(\"total_experience_years\", result_df[\"total_experience_years\"].cast(\"float\"))\n",
    "result_df = result_df.withColumn(\"education_length\", result_df[\"education_length\"].cast(\"float\"))\n",
    "result_df = result_df.withColumn(\"recommendations_count\", result_df[\"recommendations_count\"].cast(\"float\"))\n",
    "result_df = result_df.withColumn(\"followers\", result_df[\"followers\"].cast(\"float\"))\n",
    "result_df = result_df.withColumn(\"number_of_languages\", result_df[\"number_of_languages\"].cast(\"float\"))"
   ]
  },
  {
   "cell_type": "code",
   "execution_count": 0,
   "metadata": {
    "application/vnd.databricks.v1+cell": {
     "cellMetadata": {
      "byteLimit": 2048000,
      "rowLimit": 10000
     },
     "inputWidgets": {},
     "nuid": "52461233-b82e-4d0d-ab02-caf999de3d2f",
     "showTitle": false,
     "title": ""
    }
   },
   "outputs": [],
   "source": [
    "from pyspark.sql.functions import col, array, concat\n",
    "\n",
    "# Get the list of column names excluding 'id' and 'salary'\n",
    "columns_to_merge = [col_name for col_name in result_df.columns if col_name not in ['id', 'salary']]\n",
    "\n",
    "# Cast non-array columns to arrays of floats\n",
    "df = result_df.withColumn(\"total_experience_years\", array(col(\"total_experience_years\")))\n",
    "df = df.withColumn(\"education_length\", array(col(\"education_length\")))\n",
    "df = df.withColumn(\"recommendations_count\", array(col(\"recommendations_count\")))\n",
    "df = df.withColumn(\"followers\", array(col(\"followers\")))\n",
    "df = df.withColumn(\"number_of_languages\", array(col(\"number_of_languages\")))\n",
    "\n",
    "# Merge the selected columns into one array column\n",
    "df = df.withColumn(\"merged_array\", array(*[col(col_name) for col_name in columns_to_merge]))\n"
   ]
  },
  {
   "cell_type": "code",
   "execution_count": 0,
   "metadata": {
    "application/vnd.databricks.v1+cell": {
     "cellMetadata": {
      "byteLimit": 2048000,
      "rowLimit": 10000
     },
     "inputWidgets": {},
     "nuid": "9c064000-58d0-4643-ad86-a691b245acae",
     "showTitle": false,
     "title": ""
    }
   },
   "outputs": [],
   "source": [
    "from pyspark.sql.functions import col, array, concat, flatten\n",
    "df = df.withColumn(\"merged_array\", flatten(col(\"merged_array\")))"
   ]
  },
  {
   "cell_type": "code",
   "execution_count": 0,
   "metadata": {
    "application/vnd.databricks.v1+cell": {
     "cellMetadata": {
      "byteLimit": 2048000,
      "rowLimit": 10000
     },
     "inputWidgets": {},
     "nuid": "644d713b-a9fb-4f85-8133-9b1362369a54",
     "showTitle": false,
     "title": ""
    }
   },
   "outputs": [
    {
     "output_type": "display_data",
     "data": {
      "image/png": "[encoded data removed]"
     },
     "metadata": {
      "application/vnd.databricks.v1+output": {
       "addedWidgets": {},
       "arguments": {},
       "data": "data:image/png;base64,iVBORw0KGgoAAAANSUhEUgAAAZEAAAEWCAYAAACnlKo3AAAAOXRFWHRTb2Z0d2FyZQBNYXRwbG90bGliIHZlcnNpb24zLjQuMywgaHR0cHM6Ly9tYXRwbG90bGliLm9yZy/MnkTPAAAACXBIWXMAAAsTAAALEwEAmpwYAAAlMklEQVR4nO3dfZwdZX338c+XhGfkGVfMUhIlSCNWGlaIN1rXxECID0kVKalKpJS0glh617bElzVUSmvbXVG8FU0lEsAaIipEDYQAHr3lbiABIhAezPIQk0AACSEsj4n87j/mWjOc7G5OZnfOyeZ836/XvHbmN9fMXNeZ5PzOXPOkiMDMzKyIXRpdATMzG7qcRMzMrDAnETMzK8xJxMzMCnMSMTOzwpxEzMysMCcRqwtJKyS1N7oejSTpTyWtltQt6Y8bXZ+hQlJF0l82uh7WOycRGzBJj0p6X1Xsk5J+2TMdEW+NiMo21jNSUkgaXlJVG60D+HRE7BMRd/VWQJmHJd1X57r1VpcLJF21s2/TBsZJxJrGDpCcDgdWbKPMnwCvB94k6R19FUrJZpeqWKPbZ03IScTqIn+0Iuk4ScskbZT0hKQvp2K/SH83pC6fd0raRdLnJa2S9KSkKyTtl1vv6Wne05L+qWo7F0i6RtJVkjYCn0zb/h9JGyQ9Lun/SNott76QdLaklZKek3ShpDdL+n+pvvPz5ava2GtdJe0uqRsYBvxK0kP9fFTTgeuAhWk8v/6KpIsk3Qq8QJZoQtI5klYCK1O5r6Zus42S7pD07hR/g6QXJB2UW+dYSU9J2nVb+7CqLuPSZ7JB0q/yXZWpnhdKujV9hjdKOjg3v9d9JmkS8Dngz9L+/1Vuk4f3tj5Je6T9+3Sqy1JJLdvTFhugiPDgYUAD8CjwvqrYJ4Ff9lYG+B/gE2l8H2BcGh8JBDA8t9xfAF3Am1LZHwJXpnljgG7gXcBuZN1Fm3LbuSBNTyX7wbQncCwwDhietnc/cF5ue0H2Jb4v8FbgZeDmtP39gPuA6X18Dn3WNbfuI/r5HPcCNgKTgY8AvwV2y82vAL9J9RoO7JrWuRg4ENgzlfs4cFAq83fAOmCPNG8h8KncOi8GvtZHfS4AruolPgJ4OtVzF2Bimj4kV8+HgCPTZ14BvrQd++yqqu31t76/An6cPrthaf/u2+j/E800+EjEBsu16ZfgBkkbgG/0U3YTcISkgyOiOyKW9FP2Y8CXI+LhiOgGZgKnpa6bU4AfR8QvI+IV4AtkX6p5/xMR10bEqxHxYkTcERFLImJzRDwKfAt4T9Uy/xERGyNiBXAvcGPa/rPA9UBfJ8X7q2stPkyWtG4EfkqWJN5fVebyiFiR6r8pxf4tItZHxIsAEXFVRDydynQCuwNvSWXnkiUZJA0DpgFX1li/Hh8HFkbEwvS5LgaWkSWVHt+JiF+nOs0HjknxWvZZb/pa3yayhHlERPwu7d+N29keGwAnERssUyNi/54BOLufsmeS/ap8IHU/fKCfsm8EVuWmV5H9wm5J81b3zIiIF8h+Eeetzk9IOlLSTyStS11c/wocXLXME7nxF3uZ3qdAXWsxHZifvvxfAn5AVZcWVe3pLSbps5Lul/RsSuj7saWN1wFjJI0iO4J4NiJur7F+PQ4HPlr1o+FdwKG5Muty4y+w5TOrZZ/1pq/1XQksAuZJekzSf2xv15wNjE/EWd1FxEpgmrITwx8Grkn99L39In2M7Eurxx8Am8m+2B9nyy9sJO1J9qv0NZurmr4UuAuYFhHPSTqP7NfxYOivrv2S1AqMB46T9JEU3gvYIx2x/TbFevuMfh9L5z/+AZgArIiIVyU9AwggIl6SNJ/saOIotv8oBLIkcGVEnFVg2W3ts+16rHg6Gvtn4J8ljSTrrnsQuKxA3awAH4lY3Un6uKRDIuJVYEMKvwo8lf6+KVf8e8DfSholaR+yI4erI2IzcA3wQUn/K53svoD0ZdmP15Gdd+iWdBTwqUFq1rbqui2fAH5N9gV7TBqOBNaQdTnV6nVkiespYLikL5Cd38m7guyc1YfYdhLZJZ287hl2B64i+9xPkjQsxdtTItyWbe2zJ4CRqrryrC+S3ivpbalrbiNZ99artSxrg8NJxBphErAiXbH0VeC0dL7iBeAi4NbUTTIOmEP2RfcL4BHgJeBcgHTO4lxgHtkv3G7gSbLzCn35LPDnwHPAfwFXD2K7+qxrDaYD34iIdfkB+CZbd2n1ZxFwA1lCWpXq8Jruroi4leyL9s6IWLXVGl5rGlkXXs/wUESsBqaQXUn1VFr/31PD90kN++z76e/Tku7c1vqAN5Alpo1kF0n8nGJHV1aQIvxSKts5pF//G4DREfFIg6uzQ5N0C/DfEfHtBtfD+2yI85GIDWmSPihpL0l7k10ueg/Z5cTWB2U3MY5lcI/Ctmf73mc7EScRG+qmkJ3QfgwYTdY15sPrPkiaC9xEdm/Mcw2qhvfZTsTdWWZmVpiPRMzMrLCmu0/k4IMPjpEjRza6Gtvl+eefZ++99250NerKbW4ObvPQcMcdd/w2Ig7pbV7TJZGRI0eybNmyRldju1QqFdrb2xtdjbpym5uD2zw0SOrzUnB3Z5mZWWFOImZmVpiTiJmZFeYkYmZmhTmJmJlZYU4iZmZWmJOImZkV5iRiZmaFOYmYmVlhTiJmO4i777kHSXUfWg8f2eim2xDWdI89MdtRbXrlFf7tzqfqvt2ZY3t9JJJZTXwkYmZmhTmJmJlZYU4iZmZWmJOImZkV5iRiZmaFlZpEJP2tpBWS7pX0PUl7SBol6TZJXZKulrRbKrt7mu5K80fm1jMzxR+UdFIuPinFuiSdX2ZbzMxsa6UlEUkjgM8AbRFxNDAMOA34d+DiiDgCeAY4My1yJvBMil+cyiFpTFrurcAk4BuShkkaBnwdOBkYA0xLZc3MrE7K7s4aDuwpaTiwF/A4MB64Js2fC0xN41PSNGn+BElK8XkR8XJEPAJ0AceloSsiHo6IV4B5qayZmdVJaTcbRsRaSR3Ab4AXgRuBO4ANEbE5FVsDjEjjI4DVadnNkp4FDkrxJblV55dZXRU/vre6SJoBzABoaWmhUqkMqG311t3dPeTqPFDN2ObW1lZi3fK6b7ejo6Nhn3Uz7uedrc2lJRFJB5AdGYwCNgDfJ+uOqruImA3MBmhra4v29vZGVKOwSqXCUKvzQDVjmzs7O9k0fkLdtztz8kQiou7bhebczztbm8vsznof8EhEPBURm4AfAicA+6fuLYBWYG0aXwscBpDm7wc8nY9XLdNX3MzM6qTMJPIbYJykvdK5jQnAfcDPgFNSmenAdWl8QZomzb8lsp9HC4DT0tVbo4DRwO3AUmB0utprN7KT7wtKbI+ZmVUp85zIbZKuAe4ENgN3kXUp/RSYJ+lfUuyytMhlwJWSuoD1ZEmBiFghaT5ZAtoMnBMRvwOQ9GlgEdmVX3MiYkVZ7TEzs62V+hTfiJgFzKoKP0x2ZVV12ZeAj/axnouAi3qJLwQWDrymZmZWhO9YNzOzwpxEzMysMCcRMzMrzEnEzMwKcxIxM7PCnETMzKwwJxEzMyvMScTMzApzEjEzs8KcRMzMrDAnETMzK8xJxMzMCnMSMTOzwpxEzMysMCcRMzMrzEnEzMwKKy2JSHqLpOW5YaOk8yQdKGmxpJXp7wGpvCRdIqlL0t2SxubWNT2VXylpei5+rKR70jKXpNfwmplZnZSWRCLiwYg4JiKOAY4FXgB+BJwP3BwRo4Gb0zTAyWTvTx8NzAAuBZB0INnbEY8neyPirJ7Ek8qclVtuUlntMTOzrdWrO2sC8FBErAKmAHNTfC4wNY1PAa6IzBJgf0mHAicBiyNifUQ8AywGJqV5+0bEkogI4IrcuszMrA5Kfcd6zmnA99J4S0Q8nsbXAS1pfASwOrfMmhTrL76ml/hWJM0gO7qhpaWFSqVStB0N0d3dPeTqPFDN2ObW1lZi3fK6b7ejo6Nhn3Uz7uedrc2lJxFJuwEfAmZWz4uIkBRl1yEiZgOzAdra2qK9vb3sTQ6qSqXCUKvzQDVjmzs7O9k0fkLdtztz8kSyg/n6a8b9vLO1uR7dWScDd0bEE2n6idQVRfr7ZIqvBQ7LLdeaYv3FW3uJm5lZndQjiUxjS1cWwAKg5wqr6cB1ufjp6SqtccCzqdtrEXCipAPSCfUTgUVp3kZJ49JVWafn1mVmZnVQaneWpL2BicBf5cJfAuZLOhNYBZya4guByUAX2ZVcZwBExHpJFwJLU7kvRsT6NH42cDmwJ3B9GszMrE5KTSIR8TxwUFXsabKrtarLBnBOH+uZA8zpJb4MOHpQKmtmZtvNd6ybmVlhTiJmZlaYk4iZmRXmJGJmZoU5iZiZWWFOImZmVpiTiJmZFeYkYmZmhTmJmJlZYU4iZmZWmJOImZkV5iRiZmaFOYmYmVlhTiJmZlaYk4iZmRVWahKRtL+kayQ9IOl+Se+UdKCkxZJWpr8HpLKSdImkLkl3SxqbW8/0VH6lpOm5+LGS7knLXJLecGhmZnVS9pHIV4EbIuIo4O3A/cD5wM0RMRq4OU1D9i720WmYAVwKIOlAYBZwPHAcMKsn8aQyZ+WWm1Rye8zMLKe0JCJpP+BPgMsAIuKViNgATAHmpmJzgalpfApwRWSWAPtLOhQ4CVgcEesj4hlgMTApzds3IpaktyJekVuXmZnVQZlHIqOAp4DvSLpL0rfTO9dbIuLxVGYd0JLGRwCrc8uvSbH+4mt6iZuZWZ2U+Y714cBY4NyIuE3SV9nSdQVk71WXFCXWAQBJM8i6yGhpaaFSqZS9yUHV3d095Oo8UM3Y5tbWVmLd8rpvt6Ojo2GfdTPu552tzWUmkTXAmoi4LU1fQ5ZEnpB0aEQ8nrqknkzz1wKH5ZZvTbG1QHtVvJLirb2U30pEzAZmA7S1tUV7e3tvxXZYlUqFoVbngWrGNnd2drJp/IS6b3fm5IlkPcL114z7eWdrc2ndWRGxDlgt6S0pNAG4D1gA9FxhNR24Lo0vAE5PV2mNA55N3V6LgBMlHZBOqJ8ILErzNkoal67KOj23LjMzq4Myj0QAzgW+K2k34GHgDLLENV/SmcAq4NRUdiEwGegCXkhliYj1ki4ElqZyX4yI9Wn8bOByYE/g+jSYmVmdlJpEImI50NbLrK2O2dMVVuf0sZ45wJxe4suAowdWSzMzK8p3rJuZWWFOImZmVpiTiJmZFeYkYmZmhTmJmJlZYU4iZmZWmJOImZkV5iRiZmaFOYmYmVlhTiJmZlZYTUlE0tvKroiZmQ09tR6JfEPS7ZLOTm8sNDMzqy2JRMS7gY+Rve/jDkn/LWliqTUzM7MdXs3nRCJiJfB54B+B9wCXSHpA0ofLqpyZme3Yaj0n8keSLgbuB8YDH4yIP0zjF5dYPzMz24HV+j6RrwHfBj4XES/2BCPiMUmfL6VmZma2w6u1O+v9wH/3JBBJu0jaCyAiruxrIUmPSrpH0nJJy1LsQEmLJa1Mfw9IcUm6RFKXpLsljc2tZ3oqv1LS9Fz82LT+rrSstv8jMDOzompNIjeRvYK2x14pVov3RsQxEdHzhsPzgZsjYjRwc5oGOBkYnYYZwKWQJR1gFnA8cBwwqyfxpDJn5ZabVGOdzMxsENSaRPaIiO6eiTS+V8FtTgHmpvG5wNRc/IrILAH2l3QocBKwOCLWR8QzwGJgUpq3b0QsSa/WvSK3LjMzq4Naz4k8L2lsRNwJWTcS8OI2lgEI4EZJAXwrImYDLRHxeJq/DmhJ4yOA1bll16RYf/E1vcS3ImkG2dENLS0tVCqVGqq+4+ju7h5ydR6oZmxza2srsW553bfb0dHRsM+6GffzztbmWpPIecD3JT0GCHgD8Gc1LPeuiFgr6fXAYkkP5GdGRKQEU6qUvGYDtLW1RXt7e9mbHFSVSoWhVueBasY2d3Z2smn8hLpvd+bkiWQH8/XXjPt5Z2tzTUkkIpZKOgp4Swo9GBGbalhubfr7pKQfkZ3TeELSoRHxeOqSejIVX0t2M2OP1hRbC7RXxSsp3tpLeTMzq5PteQDjO4A/AsYC0ySd3l9hSXtLel3POHAicC+wAOi5wmo6cF0aXwCcnq7SGgc8m7q9FgEnSjognVA/EViU5m2UNC5dlXV6bl1mZlYHNR2JSLoSeDOwHPhdCveczO5LC/CjdNXtcLJLhG+QtBSYL+lMYBVwaiq/EJgMdAEvAGcARMR6SRcCS1O5L0bE+jR+NnA52ZVj16fBzMzqpNZzIm3AmNiOjtOIeBh4ey/xp4GtOn7Tus/pY11zgDm9xJcBR9daJzMzG1y1dmfdS3Yy3czM7PdqPRI5GLhP0u3Ayz3BiPhQKbUyM7MhodYkckGZlTAzs6Gp1kt8fy7pcGB0RNyUnps1rNyqmZnZjq7WR8GfBVwDfCuFRgDXllQnMzMbImo9sX4OcAKwEX7/gqrXl1UpMzMbGmpNIi9HxCs9E5KGk90nYmZmTazWJPJzSZ8D9kzvVv8+8OPyqmVmZkNBrUnkfOAp4B7gr8juLvcbDc3MmlytV2e9CvxXGszMzIDan531CL2cA4mINw16jczMbMjYnmdn9dgD+Chw4OBXx8zMhpKazolExNO5YW1EfAV4f7lVMzOzHV2t3Vljc5O7kB2Z1HoUY2ZmO6laE0Fnbnwz8Chb3gNiZmZNqtburPfmhokRcVZEPFjLspKGSbpL0k/S9ChJt0nqknS1pN1SfPc03ZXmj8ytY2aKPyjppFx8Uop1STp/u1puZmYDVmt31v/ub35EfLmf2X8D3A/sm6b/Hbg4IuZJ+iZwJnBp+vtMRBwh6bRU7s8kjQFOA94KvBG4SdKRaV1fByYCa4ClkhZExH21tMnMzAau1psN24BPkT14cQTw12TvWn9dGnolqZXsBPy307SA8WQPcwSYC0xN41PSNGn+hFR+CjAvIl6OiEfIXp97XBq6IuLh9EiWeamsmZnVSa3nRFqBsRHxHICkC4CfRsTHt7HcV4B/YEuiOQjYEBGb0/QasqRE+rsaICI2S3o2lR8BLMmtM7/M6qr48TW2x8zMBkGtSaQFeCU3/UqK9UnSB4AnI+IOSe2FajdIJM0AZgC0tLRQqVQaWZ3t1t3dPeTqPFDN2ObW1lZi3fK6b7ejo6Nhn3Uz7uedrc21JpErgNsl/ShNT2VL11NfTgA+JGky2Q2K+wJfBfaXNDwdjbQCa1P5tcBhwJr0lOD9gKdz8R75ZfqKv0ZEzAZmA7S1tUV7e/s2qr5jqVQqDLU6D1Qztrmzs5NN4yfUfbszJ08kojEP5W7G/byztbnWq7MuAs4AnknDGRHxr9tYZmZEtEbESLIT47dExMeAnwGnpGLTgevS+II0TZp/S2T/shcAp6Wrt0YBo4HbgaXA6HS1125pGwtqaY+ZmQ2O7blhcC9gY0R8R9IhkkalE93b6x+BeZL+BbgLuCzFLwOulNQFrCdLCkTECknzgfvI7lE5JyJ+ByDp08Aislf1zomIFQXqY2ZmBdV6ie8ssiu03gJ8B9gVuIqsy2qbIqICVNL4w2RXVlWXeYnsmVy9LX8RcFEv8YVkj6U3M7MGqPUS3z8FPgQ8DxARj9HPpb1mZtYcak0ir6TzEwEgae/yqmRmZkNFrUlkvqRvkV1ZdRZwE35BlZlZ09vmOZF01/jVwFHARrLzIl+IiMUl183MzHZw20wiERGSFkbE2wAnDjMz+71au7PulPSOUmtiZmZDTq33iRwPfFzSo2RXaInsIOWPyqqYmZnt+PpNIpL+ICJ+A5zUXzkzM2tO2zoSuZbs6b2rJP0gIj5ShzqZmdkQsa1zIsqNv6nMipiZ2dCzrSQSfYybmZltszvr7ZI2kh2R7JnGYcuJ9X37XtTMzHZ2/SaRiBhWr4qYmdnQU+t9ImZmZltxEjEzs8KcRMzMrLDSkoikPSTdLulXklZI+ucUHyXpNkldkq5Or7Ylvf726hS/TdLI3LpmpviDkk7KxSelWJek88tqi5mZ9a7MI5GXgfER8XbgGGCSpHHAvwMXR8QRZO9rPzOVPxN4JsUvTuWQNIbsVblvBSYB35A0TNIw4OvAycAYYFoqa2ZmdVJaEolMd5rcNQ0BjAeuSfG5wNQ0PiVNk+ZPSI+hnwLMi4iX0zvdu8her3sc0BURD0fEK8C8VNbMzOqk1gcwFpKOFu4AjiA7angI2BARm1ORNcCIND4CWA0QEZslPQsclOJLcqvNL7O6Kn58H/WYAcwAaGlpoVKpDKhd9dbd3T3k6jxQzdjm1tZWYt3yum+3o6OjYZ91M+7nna3NpSaRiPgdcIyk/YEfkb3Yqu4iYjYwG6CtrS3a29sbUY3CKpUKQ63OA9WMbe7s7GTT+Al13+7MyRPJ3n5df824n3e2Ntfl6qyI2AD8DHgn2St2e5JXK7A2ja8FDgNI8/cDns7Hq5bpK25mZnVS5tVZh6QjECTtCUwE7idLJqekYtOB69L4gjRNmn9LZD+PFgCnpau3RgGjgduBpcDodLXXbmQn3xeU1R4zM9tamd1ZhwJz03mRXYD5EfETSfcB8yT9C3AXcFkqfxlwpaQuYD1ZUiAiVkiaD9wHbAbOSd1kSPo0sAgYBsyJiBUltsfMzKqUlkQi4m7gj3uJP0x2ZVV1/CXgo32s6yLgol7iC4GFA66smZkV4jvWzcysMCcRMzMrzEnEzMwKcxIxM7PCnETMzKwwJxEzMyvMScTMzApzEjEzs8KcRMzMrDAnETMzK8xJxMzMCnMSMTOzwpxEzMysMCcRMzMrzEnEzMwKcxIxM7PCynw97mGSfibpPkkrJP1Nih8oabGklenvASkuSZdI6pJ0t6SxuXVNT+VXSpqeix8r6Z60zCWSVFZ7zMxsa2UeiWwG/i4ixgDjgHMkjQHOB26OiNHAzWka4GSy96ePBmYAl0KWdIBZwPFkb0Sc1ZN4UpmzcstNKrE9ZmZWpbQkEhGPR8Sdafw54H5gBDAFmJuKzQWmpvEpwBWRWQLsL+lQ4CRgcUSsj4hngMXApDRv34hYEhEBXJFbl5mZ1UFp71jPkzSS7H3rtwEtEfF4mrUOaEnjI4DVucXWpFh/8TW9xHvb/gyyoxtaWlqoVCrFG9MA3d3dQ67OA9WMbW5tbSXWLa/7djs6Ohr2WTfjft7Z2lx6EpG0D/AD4LyI2Jg/bRERISnKrkNEzAZmA7S1tUV7e3vZmxxUlUqFoVbngWrGNnd2drJp/IS6b3fm5IlkB/P114z7eWdrc6lXZ0nalSyBfDcifpjCT6SuKNLfJ1N8LXBYbvHWFOsv3tpL3MzM6qTMq7MEXAbcHxFfzs1aAPRcYTUduC4XPz1dpTUOeDZ1ey0CTpR0QDqhfiKwKM3bKGlc2tbpuXWZmVkdlNmddQLwCeAeSctT7HPAl4D5ks4EVgGnpnkLgclAF/ACcAZARKyXdCGwNJX7YkSsT+NnA5cDewLXp8HMzOqktCQSEb8E+rpvY6uO33SF1Tl9rGsOMKeX+DLg6AFU08zMBsB3rJuZWWFOImZmVpiTiJmZFeYkYmZmhTmJmJlZYU4iZmZWmJOImZkV5iRiZmaFOYmYmVlhTiJmZlaYk4iZmRXmJGJmZoU5iZiZWWFOImZmVpiTiJmZFVbmmw3nSHpS0r252IGSFktamf4ekOKSdImkLkl3SxqbW2Z6Kr9S0vRc/FhJ96RlLlH+5e1mZlYXZR6JXA5MqoqdD9wcEaOBm9M0wMnA6DTMAC6FLOkAs4DjgeOAWT2JJ5U5K7dc9bbMzKxkpSWRiPgFsL4qPAWYm8bnAlNz8SsiswTYX9KhwEnA4ohYHxHPAIuBSWnevhGxJL0R8YrcuszMrE7KfMd6b1oi4vE0vg5oSeMjgNW5cmtSrL/4ml7ivZI0g+wIh5aWFiqVSvEWNEB3d/eQq/NANWObW1tbiXXL677djo6Ohn3Wzbifd7Y21zuJ/F5EhKSo07ZmA7MB2traor29vR6bHTSVSoWhVueBasY2d3Z2smn8hLpvd+bkiWQH9PXXjPt5Z2tzva/OeiJ1RZH+Ppnia4HDcuVaU6y/eGsvcTMzq6N6J5EFQM8VVtOB63Lx09NVWuOAZ1O31yLgREkHpBPqJwKL0ryNksalq7JOz63LzMzqpLTuLEnfA9qBgyWtIbvK6kvAfElnAquAU1PxhcBkoAt4ATgDICLWS7oQWJrKfTEiek7Wn012BdiewPVpMDOzOiotiUTEtD5mbdXpm66wOqeP9cwB5vQSXwYcPZA6mpnZwPiOdTMzK8xJxMzMCnMSMTOzwpxEzMysMCcRMzMrzEnEzMwKcxIxM7PCnETMzKwwJxEzMyvMScTMzApzEjEzs8KcRMzMrDAnETMzK8xJxMzMCnMSMTOzwpxEzMyssCGfRCRNkvSgpC5J5ze6PmZmzWRIJxFJw4CvAycDY4BpksY0tlZmZs1jSCcR4DigKyIejohXgHnAlAbXycysaZT2jvU6GQGszk2vAY6vLiRpBjAjTXZLerAOdRtMBwO/bXQl6qxJ2/zZhrRZUiM2C027n4dcmw/va8ZQTyI1iYjZwOxG16MoScsioq3R9agnt7k5uM1D31DvzloLHJabbk0xMzOrg6GeRJYCoyWNkrQbcBqwoMF1MjNrGkO6OysiNkv6NLAIGAbMiYgVDa5WGYZsV9wAuM3NwW0e4hQRja6DmZkNUUO9O8vMzBrIScTMzApzEqkzSW+RtDw3bJR0nqSrc7FHJS1P5SdKukPSPenv+H7Wfa6kByStkPQfdWvUNpTVZknHSFqSll8m6bi6NqwfBdp8XC7+K0l/2sd6R0m6LT3m5+p0QUnDldje76bHGt0raY6kXevasH6U1ebc+i+R1F2XxgxERHho0EB2McA64PCqeCfwhTT+x8Ab0/jRwNo+1vVe4CZg9zT9+ka3rw5tvhE4OY1PBiqNbt8A2rwXMDyNHwo82TNdtcx84LQ0/k3gU41uX8ntnQwoDd/bEds72G1O89uAK4HuRrdtW4OPRBprAvBQRKzqCSi7dfhUsv8wRMRdEfFYmr0C2FPS7r2s61PAlyLi5bTck6XWvLjBbHMA+6bx/YDHeimzI6ilzS9ExOY0ew+ytr1GWmY8cE0KzQWmllftwgalvancwkiA28nuBdsRDVqblT0T8D+Bfyi1xoPESaSxTiP9A8t5N/BERKzspfxHgDt7EkWVI4F3p66On0t6xyDXdbAMZpvPA/5T0mqgA5g5mBUdRDW1WdLxklYA9wB/nfvC6XEQsCEXX0P26J8dzWC1l1zZXYFPADeUUN/BMJht/jSwICIeL622g6nRh0LNOgC7kT0/p6Uqfinwd72UfyvwEPDmPtZ3L/A1ssP+44BHSJdw7yhDCW2+BPhIGj8VuKnRbRxom9O8PyT71b1HVfxgsgeO9kwfBtzb6DaW1d6qMv8FfKXR7avDPn4j8Eu2dHvt8N1ZDa9Asw5kTxu+sSo2HHgCaK2KtwK/Bk7oZ303AO/NTT8EHNLodpbc5mfZcq+TgI2NbuNA2lxV5hagrSqm9GXV8wXzTmBRo9tYVntz82YB1wK7NLp9ddjH7yc7t/JoGl7N/3DYEQd3ZzXONLY+/H0f8EBErOkJSNof+ClwfkTc2s/6riU7uY6kI9ny62hHMthtfgx4TxofD/TWHdZotbZ5lKThafxw4CiyL5Hfi+xb5mfAKSk0HbiunGoXNmjtTfP+EjgJmBYRr5ZV6QEazH3804h4Q0SMjIiRwAsRcUSZlR+wRmexZhyAvYGngf2q4peT9ZPmY58HngeW54bXp3nfJv2SIUsaV5F1a90JjG90O+vQ5ncBdwC/Am4Djm10OwfQ5k+QXUSwPO2/qbl5C9lytdqbyLpBuoDvk67G2xGGktq7meyouuffwRca3c6y21y1zA7fneXHnpiZWWHuzjIzs8KcRMzMrDAnETMzK8xJxMzMCnMSMTOzwpxEzKpImiopJB1Vx20+KungEtf/SUlvrNf2rHk4iZhtbRrZoyem9Taz54axvqZ3UJ8ke6SG2aByEjHLkbQP2U2MZ5I9VK8n3i7p/0paANxXPZ3KXKvs/ScrJM1Isb+Q9JXces6SdHGNdTlE0g8kLU3DCSl+QXq3RkXSw5I+k1vmn9L7N34p6XuSPivpFLJHi383vctiz1T8XEl3KntvS92Oumzn4iRi9lpTgBsi4tfA05KOzc0bC/xNRBzZx/RfRMSxZF/Yn5F0ENn7Pz6Ye5nSGcCcGuvyVeDiiHgH2dOMv52bdxTZ40COA2ZJ2jU9ufkjwNuBk1M9iIhrgGXAxyLimIh4Ma3jtxExluxBgZ+tsU5mrzEUDsPN6mka2Zc3wLw0fUeavj0iHsmVrZ7+TO5tdYcBoyNiiaRbgA9Iuh/YNSLuqbEu7wPGZK+lAGDfdKQE8NPIHo//sqQngRbgBOC6iHgJeEnSj7ex/h+mv3cAH66xTmav4SRilkg6kOxBjm+TFGRvqwtJf5+KPF+1yPO5ZdvJvvTfGREvSKqQvXgIsiOIzwEPAN/ZjirtAoxLSSFfT4D8+1V+R7H/yz3rKLq8mbuzzHJOAa6MiMMje4rqYWTvZXl3DcvuBzyTEshRwLieGRFxG9mRyZ+z9dNe+3MjcG7PhKRjtlH+VrKusz3SEcsHcvOeA163Hds2q4mTiNkW04AfVcV+QB9XaVW5ARieuqy+BCypmj8fuDUinulnHXdLWpOGLwOfAdok3S3pPuCv+6tARCwFFgB3A9eTvT3v2TT7cuCbVSfWzQbMT/E1qwNJPyE7SX5zydvZJyK6Je0F/AKYERF3lrlNa24+EjErkaT9Jf0aeLHsBJLMlrSc7H0VP3ACsbL5SMTMzArzkYiZmRXmJGJmZoU5iZiZWWFOImZmVpiTiJmZFfb/ARxbTOXfaocTAAAAAElFTkSuQmCC\n",
       "datasetInfos": [],
       "metadata": {},
       "removedWidgets": [],
       "type": "image"
      }
     },
     "output_type": "display_data"
    }
   ],
   "source": [
    "from pyspark.sql.functions import udf\n",
    "from pyspark.sql.types import IntegerType\n",
    "import matplotlib.pyplot as plt\n",
    "\n",
    "def array_length(arr):\n",
    "    return len(arr)\n",
    "\n",
    "# Register UDF\n",
    "array_length_udf = udf(array_length, IntegerType())\n",
    "\n",
    "# Add a new column with array lengths\n",
    "df_with_length = df.withColumn(\"array_length\", array_length_udf(df[\"merged_array\"]))\n",
    "\n",
    "# Convert to Pandas DataFrame for plotting\n",
    "pandas_df = df_with_length.select(\"array_length\").toPandas()\n",
    "\n",
    "# Plot histogram\n",
    "plt.hist(pandas_df[\"array_length\"], bins=10, color='skyblue', edgecolor='black')\n",
    "plt.xlabel('Array Length')\n",
    "plt.ylabel('Frequency')\n",
    "plt.title('Histogram of Array Lengths')\n",
    "plt.grid(True)\n",
    "plt.show()"
   ]
  },
  {
   "cell_type": "code",
   "execution_count": 0,
   "metadata": {
    "application/vnd.databricks.v1+cell": {
     "cellMetadata": {
      "byteLimit": 2048000,
      "rowLimit": 10000
     },
     "inputWidgets": {},
     "nuid": "c61c3fd2-5f43-46df-8ebb-d5381326ad4d",
     "showTitle": false,
     "title": ""
    }
   },
   "outputs": [],
   "source": [
    "# df.select('id', 'merged_array', 'salary').write.format(\"parquet\").save(f\"/df_processed10.parquet\")"
   ]
  },
  {
   "cell_type": "markdown",
   "metadata": {
    "application/vnd.databricks.v1+cell": {
     "cellMetadata": {},
     "inputWidgets": {},
     "nuid": "4c66af7b-d040-447b-bf11-5225c84d72fd",
     "showTitle": false,
     "title": ""
    }
   },
   "source": [
    "Train and Eval model"
   ]
  },
  {
   "cell_type": "code",
   "execution_count": 0,
   "metadata": {
    "application/vnd.databricks.v1+cell": {
     "cellMetadata": {
      "byteLimit": 2048000,
      "rowLimit": 10000
     },
     "inputWidgets": {},
     "nuid": "ae974691-46f4-4da8-a8f7-a189b79f7b45",
     "showTitle": false,
     "title": ""
    }
   },
   "outputs": [],
   "source": [
    "df = spark.read.parquet(\"/df_processed10.parquet\")"
   ]
  },
  {
   "cell_type": "code",
   "execution_count": 0,
   "metadata": {
    "application/vnd.databricks.v1+cell": {
     "cellMetadata": {
      "byteLimit": 2048000,
      "rowLimit": 10000
     },
     "inputWidgets": {},
     "nuid": "c92225f4-3410-4ef7-872d-f45ae9216959",
     "showTitle": false,
     "title": ""
    }
   },
   "outputs": [],
   "source": [
    "from pyspark.ml.linalg import Vectors, VectorUDT\n",
    "from pyspark.sql.functions import udf\n",
    "from pyspark.sql.types import ArrayType\n",
    "from pyspark.ml.feature import VectorIndexer\n",
    "from pyspark.ml.evaluation import RegressionEvaluator\n",
    "\n",
    "# Define a UDF to convert array<float> to vector\n",
    "array_to_vector_udf = udf(lambda arr: Vectors.dense(arr), VectorUDT())\n",
    "\n",
    "# Apply the UDF to create a vector column\n",
    "df = df.withColumn(\"features\", array_to_vector_udf(\"merged_array\"))\n",
    "\n",
    "# Split the data into training and test sets\n",
    "train_data, test_data = df.randomSplit([0.8, 0.2], seed=42)"
   ]
  },
  {
   "cell_type": "code",
   "execution_count": 0,
   "metadata": {
    "application/vnd.databricks.v1+cell": {
     "cellMetadata": {
      "byteLimit": 2048000,
      "rowLimit": 10000
     },
     "inputWidgets": {},
     "nuid": "2fbb0a10-03f7-4c83-95ab-5453ea4652d9",
     "showTitle": false,
     "title": ""
    }
   },
   "outputs": [
    {
     "output_type": "stream",
     "name": "stdout",
     "output_type": "stream",
     "text": [
      "Root Mean Squared Error (RMSE) on test data = 29710.71\n"
     ]
    }
   ],
   "source": [
    "from pyspark.ml.regression import RandomForestRegressor\n",
    "from pyspark.ml.feature import VectorIndexer\n",
    "from pyspark.ml.evaluation import RegressionEvaluator\n",
    "\n",
    "# Define a UDF to convert array<float> to vector\n",
    "array_to_vector_udf = udf(lambda arr: Vectors.dense(arr), VectorUDT())\n",
    "\n",
    "# Apply the UDF to create a vector column\n",
    "df = df.withColumn(\"features\", array_to_vector_udf(\"merged_array\"))\n",
    "\n",
    "# Split the data into training and test sets\n",
    "train_data, test_data = df.randomSplit([0.8, 0.2], seed=42)\n",
    "\n",
    "# Define the RandomForestRegressor\n",
    "rf = RandomForestRegressor(featuresCol=\"features\", labelCol=\"salary\")\n",
    "\n",
    "# Train the model\n",
    "model = rf.fit(train_data)\n",
    "\n",
    "# Make predictions\n",
    "predictions = model.transform(test_data)\n",
    "\n",
    "# Evaluate the model\n",
    "evaluator = RegressionEvaluator(labelCol=\"salary\", predictionCol=\"prediction\", metricName=\"rmse\")\n",
    "rmse = evaluator.evaluate(predictions)\n",
    "print(\"Root Mean Squared Error (RMSE) on test data = {:.2f}\".format(rmse))\n"
   ]
  },
  {
   "cell_type": "code",
   "execution_count": 0,
   "metadata": {
    "application/vnd.databricks.v1+cell": {
     "cellMetadata": {
      "byteLimit": 2048000,
      "rowLimit": 10000
     },
     "inputWidgets": {},
     "nuid": "ce3c4874-66ea-4e03-8e77-42c414036a00",
     "showTitle": false,
     "title": ""
    }
   },
   "outputs": [
    {
     "output_type": "stream",
     "name": "stdout",
     "output_type": "stream",
     "text": [
      "2024-04-15 16:54:10,956 INFO XGBoost-PySpark: _fit Running xgboost-2.0.3 on 2 workers with\n\tbooster params: {'objective': 'reg:squarederror', 'device': 'cpu', 'nthread': 1}\n\ttrain_call_kwargs_params: {'verbose_eval': True, 'num_boost_round': 100}\n\tdmatrix_kwargs: {'nthread': 1, 'missing': nan}\n2024-04-15 16:55:19,577 INFO XGBoost-PySpark: _fit Finished xgboost training!\nRoot Mean Squared Error (RMSE) on test data = 14633.58\n"
     ]
    }
   ],
   "source": [
    "from pyspark.ml.feature import VectorAssembler\n",
    "from pyspark.ml.evaluation import RegressionEvaluator\n",
    "from xgboost.spark import SparkXGBRegressor\n",
    "\n",
    "xgb = SparkXGBRegressor(\n",
    "  features_col=\"features\",\n",
    "  label_col=\"salary\",\n",
    "  num_workers=2,\n",
    ")\n",
    "\n",
    "# Train the model\n",
    "model = xgb.fit(train_data)\n",
    "\n",
    "# Make predictions\n",
    "predictions = model.transform(test_data)\n",
    "\n",
    "# Evaluate the model\n",
    "evaluator = RegressionEvaluator(labelCol=\"salary\", predictionCol=\"prediction\", metricName=\"rmse\")\n",
    "rmse = evaluator.evaluate(predictions)\n",
    "print(\"Root Mean Squared Error (RMSE) on test data = {:.2f}\".format(rmse))\n",
    "\n"
   ]
  },
  {
   "cell_type": "code",
   "execution_count": 0,
   "metadata": {
    "application/vnd.databricks.v1+cell": {
     "cellMetadata": {
      "byteLimit": 2048000,
      "rowLimit": 10000
     },
     "inputWidgets": {},
     "nuid": "49fea80d-7f85-449f-b701-019d58bd9893",
     "showTitle": false,
     "title": ""
    }
   },
   "outputs": [
    {
     "output_type": "stream",
     "name": "stdout",
     "output_type": "stream",
     "text": [
      "Root Mean Squared Error (RMSE) on test data = 25506.20\n"
     ]
    }
   ],
   "source": [
    "from pyspark.ml.regression import LinearRegression\n",
    "\n",
    "lr = LinearRegression(featuresCol=\"features\", labelCol=\"salary\")\n",
    "\n",
    "# Train the model\n",
    "model = lr.fit(train_data)\n",
    "\n",
    "# Make predictions\n",
    "predictions = model.transform(test_data)\n",
    "\n",
    "# Evaluate the model\n",
    "evaluator = RegressionEvaluator(labelCol=\"salary\", predictionCol=\"prediction\", metricName=\"rmse\")\n",
    "rmse = evaluator.evaluate(predictions)\n",
    "print(\"Root Mean Squared Error (RMSE) on test data = {:.2f}\".format(rmse))"
   ]
  },
  {
   "cell_type": "markdown",
   "metadata": {
    "application/vnd.databricks.v1+cell": {
     "cellMetadata": {},
     "inputWidgets": {},
     "nuid": "44fdc740-0b42-494e-9a26-e91156afb1ae",
     "showTitle": false,
     "title": ""
    }
   },
   "source": [
    "As we can see xgboost model got the lower rmse on test data, Therefore we will choose it for inference"
   ]
  },
  {
   "cell_type": "code",
   "execution_count": 0,
   "metadata": {
    "application/vnd.databricks.v1+cell": {
     "cellMetadata": {
      "byteLimit": 2048000,
      "rowLimit": 10000
     },
     "inputWidgets": {},
     "nuid": "48db6cf0-a8df-434a-85d5-aac3416b7cc6",
     "showTitle": false,
     "title": ""
    }
   },
   "outputs": [
    {
     "output_type": "stream",
     "name": "stdout",
     "output_type": "stream",
     "text": [
      "2024-04-15 16:56:11,197 INFO XGBoost-PySpark: _fit Running xgboost-2.0.3 on 2 workers with\n\tbooster params: {'objective': 'reg:squarederror', 'device': 'cpu', 'nthread': 1}\n\ttrain_call_kwargs_params: {'verbose_eval': True, 'num_boost_round': 100}\n\tdmatrix_kwargs: {'nthread': 1, 'missing': nan}\n2024-04-15 16:57:25,738 INFO XGBoost-PySpark: _fit Finished xgboost training!\n"
     ]
    }
   ],
   "source": [
    "from pyspark.ml.linalg import Vectors, VectorUDT\n",
    "from pyspark.sql.functions import udf\n",
    "from pyspark.sql.types import ArrayType\n",
    "from pyspark.ml.feature import VectorIndexer\n",
    "from pyspark.ml.evaluation import RegressionEvaluator\n",
    "from xgboost.spark import SparkXGBRegressor\n",
    "\n",
    "# Define a UDF to convert array<float> to vector\n",
    "array_to_vector_udf = udf(lambda arr: Vectors.dense(arr), VectorUDT())\n",
    "\n",
    "# Apply the UDF to create a vector column\n",
    "df = df.withColumn(\"features\", array_to_vector_udf(\"merged_array\"))\n",
    "\n",
    "train_data = df\n",
    "\n",
    "xgb_model = SparkXGBRegressor(\n",
    "  features_col=\"features\",\n",
    "  label_col=\"salary\",\n",
    "  num_workers=2,\n",
    ")\n",
    "\n",
    "# Train the model\n",
    "model = xgb_model.fit(train_data)\n",
    "\n"
   ]
  },
  {
   "cell_type": "code",
   "execution_count": 0,
   "metadata": {
    "application/vnd.databricks.v1+cell": {
     "cellMetadata": {
      "byteLimit": 2048000,
      "rowLimit": 10000
     },
     "inputWidgets": {},
     "nuid": "dae8bdc3-b17f-4169-906b-3723ea1c5533",
     "showTitle": false,
     "title": ""
    }
   },
   "outputs": [],
   "source": [
    "final_xgb_model = model"
   ]
  },
  {
   "cell_type": "markdown",
   "metadata": {
    "application/vnd.databricks.v1+cell": {
     "cellMetadata": {},
     "inputWidgets": {},
     "nuid": "2f574bf4-2a5e-4f47-ac47-e98127c79743",
     "showTitle": false,
     "title": ""
    }
   },
   "source": [
    "#Inference"
   ]
  },
  {
   "cell_type": "markdown",
   "metadata": {
    "application/vnd.databricks.v1+cell": {
     "cellMetadata": {},
     "inputWidgets": {},
     "nuid": "c8969851-30d4-4fd9-8765-1bad586c2f2b",
     "showTitle": false,
     "title": ""
    }
   },
   "source": [
    "The User will input his features as \n",
    "\n",
    "position: string,                   \n",
    "current salary: float,                     \n",
    "experience: array of struct, \n",
    "education: array of struct, \n",
    "languages: array of struct, \n",
    "recommendations_count': integer, followers: integer\n",
    "\n",
    "And he will get an answer about his predicted salary, and suggestions for increasing it.\n",
    "              \n",
    "    "
   ]
  },
  {
   "cell_type": "markdown",
   "metadata": {
    "application/vnd.databricks.v1+cell": {
     "cellMetadata": {},
     "inputWidgets": {},
     "nuid": "998c478e-8840-4fc8-a0da-ad995199288c",
     "showTitle": false,
     "title": ""
    }
   },
   "source": [
    "Assumptions - the input has non Nan values"
   ]
  },
  {
   "cell_type": "code",
   "execution_count": 0,
   "metadata": {
    "application/vnd.databricks.v1+cell": {
     "cellMetadata": {
      "byteLimit": 2048000,
      "rowLimit": 10000
     },
     "inputWidgets": {},
     "nuid": "935a05df-83ec-4a17-b88b-5834daca62aa",
     "showTitle": false,
     "title": ""
    }
   },
   "outputs": [
    {
     "output_type": "stream",
     "name": "stdout",
     "output_type": "stream",
     "text": [
      "/databricks/spark/python/pyspark/sql/pandas/conversion.py:119: UserWarning: toPandas attempted Arrow optimization because 'spark.sql.execution.arrow.pyspark.enabled' is set to true; however, failed by the reason below:\n  Unable to convert the field experience. If this column is not necessary, you may consider dropping it or converting to primitive type before the conversion.\nDirect cause: Unsupported type in conversion to Arrow: ArrayType(StructType([StructField('company', StringType(), True), StructField('company_id', StringType(), True), StructField('description', StringType(), True), StructField('duration', StringType(), True), StructField('duration_short', StringType(), True), StructField('end_date', StringType(), True), StructField('location', StringType(), True), StructField('positions', ArrayType(StructType([StructField('description', StringType(), True), StructField('duration', StringType(), True), StructField('duration_short', StringType(), True), StructField('end_date', StringType(), True), StructField('meta', StringType(), True), StructField('start_date', StringType(), True), StructField('subtitle', StringType(), True), StructField('title', StringType(), True)]), True), True), StructField('start_date', StringType(), True), StructField('subtitle', StringType(), True), StructField('subtitleURL', StringType(), True), StructField('title', StringType(), True), StructField('url', StringType(), True)]), True)\nAttempting non-optimization as 'spark.sql.execution.arrow.pyspark.fallback.enabled' is set to true.\n  warn(msg)\n"
     ]
    },
    {
     "output_type": "display_data",
     "data": {
      "text/html": [
       "<div>\n",
       "<style scoped>\n",
       "    .dataframe tbody tr th:only-of-type {\n",
       "        vertical-align: middle;\n",
       "    }\n",
       "\n",
       "    .dataframe tbody tr th {\n",
       "        vertical-align: top;\n",
       "    }\n",
       "\n",
       "    .dataframe thead th {\n",
       "        text-align: right;\n",
       "    }\n",
       "</style>\n",
       "<table border=\"1\" class=\"dataframe\">\n",
       "  <thead>\n",
       "    <tr style=\"text-align: right;\">\n",
       "      <th></th>\n",
       "      <th>position</th>\n",
       "      <th>experience</th>\n",
       "      <th>education</th>\n",
       "      <th>languages</th>\n",
       "      <th>recommendations_count</th>\n",
       "      <th>followers</th>\n",
       "      <th>salary</th>\n",
       "    </tr>\n",
       "  </thead>\n",
       "  <tbody>\n",
       "    <tr>\n",
       "      <th>0</th>\n",
       "      <td>Assurity Title</td>\n",
       "      <td>[(None, None, As leaders in the title services...</td>\n",
       "      <td>[(Bachelor of Education - BEd, None, Education...</td>\n",
       "      <td>[]</td>\n",
       "      <td>1</td>\n",
       "      <td>2000</td>\n",
       "      <td>17.52</td>\n",
       "    </tr>\n",
       "  </tbody>\n",
       "</table>\n",
       "</div>"
      ]
     },
     "metadata": {
      "application/vnd.databricks.v1+output": {
       "addedWidgets": {},
       "arguments": {},
       "data": "<div>\n<style scoped>\n    .dataframe tbody tr th:only-of-type {\n        vertical-align: middle;\n    }\n\n    .dataframe tbody tr th {\n        vertical-align: top;\n    }\n\n    .dataframe thead th {\n        text-align: right;\n    }\n</style>\n<table border=\"1\" class=\"dataframe\">\n  <thead>\n    <tr style=\"text-align: right;\">\n      <th></th>\n      <th>position</th>\n      <th>experience</th>\n      <th>education</th>\n      <th>languages</th>\n      <th>recommendations_count</th>\n      <th>followers</th>\n      <th>salary</th>\n    </tr>\n  </thead>\n  <tbody>\n    <tr>\n      <th>0</th>\n      <td>Assurity Title</td>\n      <td>[(None, None, As leaders in the title services...</td>\n      <td>[(Bachelor of Education - BEd, None, Education...</td>\n      <td>[]</td>\n      <td>1</td>\n      <td>2000</td>\n      <td>17.52</td>\n    </tr>\n  </tbody>\n</table>\n</div>",
       "datasetInfos": [],
       "metadata": {},
       "removedWidgets": [],
       "textData": null,
       "type": "htmlSandbox"
      }
     },
     "output_type": "display_data"
    }
   ],
   "source": [
    "from pyspark.sql.functions import lit\n",
    "profiles_first = spark.read.parquet('/linkedin/people').dropna().limit(1).select('position', 'experience', 'education', 'languages', 'recommendations_count', 'followers')\n",
    "salary = 17.52\n",
    "profiles_first = profiles_first.withColumn('salary', lit(salary))\n",
    "profiles_first.toPandas()"
   ]
  },
  {
   "cell_type": "code",
   "execution_count": 0,
   "metadata": {
    "application/vnd.databricks.v1+cell": {
     "cellMetadata": {
      "byteLimit": 2048000,
      "rowLimit": 10000
     },
     "inputWidgets": {},
     "nuid": "2efa30f7-1e7a-42a5-91fa-2fa4c224d8ab",
     "showTitle": false,
     "title": ""
    }
   },
   "outputs": [],
   "source": [
    "from pyspark.sql.functions import col, struct, array_contains, expr, size\n",
    "df_extracted = profiles_first.withColumn(\"experience_description\", expr(\"transform(experience, x -> x.description)\")) \\\n",
    "                .withColumn(\"experience_duration\", expr(\"transform(experience, x -> x.duration)\"))"
   ]
  },
  {
   "cell_type": "code",
   "execution_count": 0,
   "metadata": {
    "application/vnd.databricks.v1+cell": {
     "cellMetadata": {
      "byteLimit": 2048000,
      "rowLimit": 10000
     },
     "inputWidgets": {},
     "nuid": "5d337f74-8ee7-47cf-bf57-513853e71de6",
     "showTitle": false,
     "title": ""
    }
   },
   "outputs": [],
   "source": [
    "df_ed_split = df_extracted.withColumn(\"education_degree\", expr(\"transform(education, x -> x.degree)\")) \\\n",
    "                .withColumn(\"education_field\", expr(\"transform(education, x -> x.field)\"))\\\n",
    "                .withColumn(\"education_title\", expr(\"transform(education, x -> x.title)\")).drop(\"experience\", \"education\")"
   ]
  },
  {
   "cell_type": "code",
   "execution_count": 0,
   "metadata": {
    "application/vnd.databricks.v1+cell": {
     "cellMetadata": {
      "byteLimit": 2048000,
      "rowLimit": 10000
     },
     "inputWidgets": {},
     "nuid": "d732d629-bc90-46d0-9a2c-bb05f8951fb6",
     "showTitle": false,
     "title": ""
    }
   },
   "outputs": [],
   "source": [
    "df_with_length = df_ed_split.withColumn(\"education_length\", size(\"education_degree\"))"
   ]
  },
  {
   "cell_type": "code",
   "execution_count": 0,
   "metadata": {
    "application/vnd.databricks.v1+cell": {
     "cellMetadata": {
      "byteLimit": 2048000,
      "rowLimit": 10000
     },
     "inputWidgets": {},
     "nuid": "98a02041-eaa3-4483-bc18-527733889de1",
     "showTitle": false,
     "title": ""
    }
   },
   "outputs": [],
   "source": [
    "from pyspark.sql.functions import udf, explode, sum, col\n",
    "from pyspark.sql.types import FloatType  \n",
    "import re  \n",
    "  \n",
    "# Define the UDF  \n",
    "def convert_to_years(duration):  \n",
    "    years = 0  \n",
    "    months = 0  \n",
    "  \n",
    "    # Use regex to find any number of years in the string  \n",
    "    years_match = re.search(r'(\\d+) year', duration)  \n",
    "    if years_match:  \n",
    "        years = int(years_match.group(1))  \n",
    "  \n",
    "    # Use regex to find any number of months in the string  \n",
    "    months_match = re.search(r'(\\d+) month', duration)  \n",
    "    if months_match:  \n",
    "        months = int(months_match.group(1))  \n",
    "  \n",
    "    # Convert months to years and add to the year total  \n",
    "    total_years = years + months/12  \n",
    "    return total_years  \n",
    "  \n",
    "# Convert Python function to PySpark UDF and specify return type  \n",
    "convert_to_years_udf = udf(convert_to_years, FloatType())  \n",
    "  \n",
    "# Flatten the array column  \n",
    "df = df_with_length.withColumn('experience_duration', explode(df_with_length['experience_duration']))  \n",
    "  \n",
    "# Apply UDF to the column  \n",
    "df = df.withColumn('experience_duration_years', convert_to_years_udf(df['experience_duration'])) \n",
    "\n",
    "# Sum all the years for each id  \n",
    "df = df.groupBy(\"position\").agg(sum(\"experience_duration_years\").alias(\"total_experience_years\"))  \n",
    "\n",
    "# Join the original dataframe with the aggregated dataframe  \n",
    "df_processed_final = df_with_length.join(df, on='position', how='left').drop('experience_duration', 'experience_length')  \n",
    "\n",
    "# Convert 'total_experience_years' to integer  \n",
    "df_processed_final = df_processed_final.withColumn('total_experience_years', col('total_experience_years').cast('integer')) "
   ]
  },
  {
   "cell_type": "code",
   "execution_count": 0,
   "metadata": {
    "application/vnd.databricks.v1+cell": {
     "cellMetadata": {
      "byteLimit": 2048000,
      "rowLimit": 10000
     },
     "inputWidgets": {},
     "nuid": "be7fd3cd-78c6-438e-bb48-8561e5995b74",
     "showTitle": false,
     "title": ""
    }
   },
   "outputs": [],
   "source": [
    "joined_dataset = df_processed_final.withColumn(\"education\", expr(\"transform(arrays_zip(education_degree, education_field, education_title), x -> concat(x.education_degree, ' in ', x.education_field, ' from ', x.education_title))\")).drop('education_degree', 'education_field', 'education_title')"
   ]
  },
  {
   "cell_type": "code",
   "execution_count": 0,
   "metadata": {
    "application/vnd.databricks.v1+cell": {
     "cellMetadata": {
      "byteLimit": 2048000,
      "rowLimit": 10000
     },
     "inputWidgets": {},
     "nuid": "2ba5bee7-1c57-44d6-a4b2-c9c758cf38c3",
     "showTitle": false,
     "title": ""
    }
   },
   "outputs": [],
   "source": [
    "from pyspark.sql.functions import concat_ws, col\n",
    "df = joined_dataset.withColumn(\"experience_description\", concat_ws(\" \", col(\"experience_description\")))\n",
    "df = df.withColumn(\"education\", concat_ws(\" \", col(\"education\"))) "
   ]
  },
  {
   "cell_type": "code",
   "execution_count": 0,
   "metadata": {
    "application/vnd.databricks.v1+cell": {
     "cellMetadata": {
      "byteLimit": 2048000,
      "rowLimit": 10000
     },
     "inputWidgets": {},
     "nuid": "3f791b0f-0a55-4e39-9d08-4a917787f2f6",
     "showTitle": false,
     "title": ""
    }
   },
   "outputs": [],
   "source": [
    "df = df.withColumn('number_of_languages', size(\"languages\")).drop('languages')"
   ]
  },
  {
   "cell_type": "code",
   "execution_count": 0,
   "metadata": {
    "application/vnd.databricks.v1+cell": {
     "cellMetadata": {
      "byteLimit": 2048000,
      "rowLimit": 10000
     },
     "inputWidgets": {},
     "nuid": "f0914667-a60f-47ff-8f39-2fa044945d1b",
     "showTitle": false,
     "title": ""
    }
   },
   "outputs": [],
   "source": [
    "result_df = df.withColumn(\"salary\", df[\"salary\"].cast(\"float\"))\n",
    "result_df = result_df.withColumn(\"total_experience_years\", result_df[\"total_experience_years\"].cast(\"float\"))\n",
    "result_df = result_df.withColumn(\"education_length\", result_df[\"education_length\"].cast(\"float\"))\n",
    "result_df = result_df.withColumn(\"recommendations_count\", result_df[\"recommendations_count\"].cast(\"float\"))\n",
    "result_df = result_df.withColumn(\"followers\", result_df[\"followers\"].cast(\"float\"))\n",
    "result_df = result_df.withColumn(\"number_of_languages\", result_df[\"number_of_languages\"].cast(\"float\"))"
   ]
  },
  {
   "cell_type": "code",
   "execution_count": 0,
   "metadata": {
    "application/vnd.databricks.v1+cell": {
     "cellMetadata": {
      "byteLimit": 2048000,
      "rowLimit": 10000
     },
     "inputWidgets": {},
     "nuid": "3a418bd0-97da-4d7c-a498-1726aad15fe3",
     "showTitle": false,
     "title": ""
    }
   },
   "outputs": [],
   "source": [
    "exp_years = result_df.select('total_experience_years').collect()[0].total_experience_years\n",
    "ed_length = result_df.select('education_length').collect()[0].education_length"
   ]
  },
  {
   "cell_type": "code",
   "execution_count": 0,
   "metadata": {
    "application/vnd.databricks.v1+cell": {
     "cellMetadata": {
      "byteLimit": 2048000,
      "rowLimit": 10000
     },
     "inputWidgets": {},
     "nuid": "0bec1cb9-62f4-41bc-9599-ef1de7d32b21",
     "showTitle": false,
     "title": ""
    }
   },
   "outputs": [
    {
     "output_type": "stream",
     "name": "stdout",
     "output_type": "stream",
     "text": [
      "+--------------+----------------------+\n|      position|total_experience_years|\n+--------------+----------------------+\n|Assurity Title|                  25.0|\n|Assurity Title|                  27.0|\n|Assurity Title|                  29.0|\n|Assurity Title|                  31.0|\n|Assurity Title|                  33.0|\n+--------------+----------------------+\n\n"
     ]
    }
   ],
   "source": [
    "# Original DataFrame\n",
    "original_df = result_df\n",
    "\n",
    "\n",
    "# Define the changes you want to make to the desired column\n",
    "changes = [exp_years+2, exp_years+4, exp_years+6, exp_years+8]  \n",
    "\n",
    "# List to store modified DataFrames\n",
    "modified_dfs = []\n",
    "\n",
    "# Create a new DataFrame for each change\n",
    "for change in changes:\n",
    "    # Create a new DataFrame with the desired column modified\n",
    "    modified_df = original_df.withColumn(\"total_experience_years\", lit(change))\n",
    "    modified_dfs.append(modified_df)\n",
    "\n",
    "# Concatenate all modified DataFrames\n",
    "duplicated_df = original_df\n",
    "for modified_df in modified_dfs:\n",
    "    duplicated_df = duplicated_df.union(modified_df)\n",
    "\n",
    "# Show the DataFrame with duplicated rows\n",
    "duplicated_df.select('position', 'total_experience_years').show()"
   ]
  },
  {
   "cell_type": "code",
   "execution_count": 0,
   "metadata": {
    "application/vnd.databricks.v1+cell": {
     "cellMetadata": {
      "byteLimit": 2048000,
      "rowLimit": 10000
     },
     "inputWidgets": {},
     "nuid": "142b7eee-834a-40c7-857b-8f54f55cccd2",
     "showTitle": false,
     "title": ""
    }
   },
   "outputs": [
    {
     "output_type": "stream",
     "name": "stdout",
     "output_type": "stream",
     "text": [
      "+--------------+----------------+----------------------+\n|      position|education_length|total_experience_years|\n+--------------+----------------+----------------------+\n|Assurity Title|             2.0|                  25.0|\n|Assurity Title|             2.0|                  27.0|\n|Assurity Title|             2.0|                  29.0|\n|Assurity Title|             2.0|                  31.0|\n|Assurity Title|             2.0|                  33.0|\n|Assurity Title|             3.0|                  25.0|\n|Assurity Title|             3.0|                  27.0|\n|Assurity Title|             3.0|                  29.0|\n|Assurity Title|             3.0|                  31.0|\n|Assurity Title|             3.0|                  33.0|\n|Assurity Title|             4.0|                  25.0|\n|Assurity Title|             4.0|                  27.0|\n|Assurity Title|             4.0|                  29.0|\n|Assurity Title|             4.0|                  31.0|\n|Assurity Title|             4.0|                  33.0|\n|Assurity Title|             5.0|                  25.0|\n|Assurity Title|             5.0|                  27.0|\n|Assurity Title|             5.0|                  29.0|\n|Assurity Title|             5.0|                  31.0|\n|Assurity Title|             5.0|                  33.0|\n+--------------+----------------+----------------------+\n\n"
     ]
    }
   ],
   "source": [
    "# Original DataFrame\n",
    "original_df = duplicated_df\n",
    "\n",
    "\n",
    "# Define the changes you want to make to the desired column\n",
    "changes = [ed_length+1, ed_length+2, ed_length+3]  \n",
    "\n",
    "# List to store modified DataFrames\n",
    "modified_dfs = []\n",
    "\n",
    "# Create a new DataFrame for each change\n",
    "for change in changes:\n",
    "    # Create a new DataFrame with the desired column modified\n",
    "    modified_df = original_df.withColumn(\"education_length\", lit(change))\n",
    "    modified_dfs.append(modified_df)\n",
    "\n",
    "# Concatenate all modified DataFrames\n",
    "duplicated_df = original_df\n",
    "for modified_df in modified_dfs:\n",
    "    duplicated_df = duplicated_df.union(modified_df)\n",
    "\n",
    "# Show the DataFrame with duplicated rows\n",
    "duplicated_df.select('position', 'education_length', 'total_experience_years').show()"
   ]
  },
  {
   "cell_type": "code",
   "execution_count": 0,
   "metadata": {
    "application/vnd.databricks.v1+cell": {
     "cellMetadata": {
      "byteLimit": 2048000,
      "rowLimit": 10000
     },
     "inputWidgets": {},
     "nuid": "c84e01eb-c77c-4fff-a483-c8f95b62c810",
     "showTitle": false,
     "title": ""
    }
   },
   "outputs": [
    {
     "output_type": "stream",
     "name": "stdout",
     "output_type": "stream",
     "text": [
      "small_bert_L4_256 download started this may take some time.\nApproximate size to download 40.5 MB\n\r[ | ]\r[OK!]\nsmall_bert_L4_256 download started this may take some time.\nApproximate size to download 40.5 MB\n\r[ | ]\r[OK!]\nsmall_bert_L4_256 download started this may take some time.\nApproximate size to download 40.5 MB\n\r[ | ]\r[OK!]\n"
     ]
    }
   ],
   "source": [
    "from sparknlp.annotator import Tokenizer, BertEmbeddings, SentenceEmbeddings\n",
    "import sparknlp\n",
    "from sparknlp.base import *\n",
    "from sparknlp.annotator import *\n",
    "from pyspark.ml import Pipeline\n",
    "from pyspark.sql import functions as F\n",
    "\n",
    "text_columns = [\"position\", \"experience_description\", \"education\"]\n",
    "result = duplicated_df\n",
    "for col in text_columns:\n",
    "    document_assembler = DocumentAssembler() \\\n",
    "                    .setInputCol(col) \\\n",
    "                    .setOutputCol(\"document\")\n",
    "    sentence = SentenceDetector() \\\n",
    "                    .setInputCols([\"document\"]) \\\n",
    "                    .setOutputCol(\"sentence\")\n",
    "    tokenizer = Tokenizer() \\\n",
    "                    .setInputCols([\"sentence\"]) \\\n",
    "                    .setOutputCol(\"token\")\n",
    "        \n",
    "    bert_embeddings = BertEmbeddings().pretrained(name='small_bert_L4_256', lang='en') \\\n",
    "                    .setInputCols([\"sentence\",'token'])\\\n",
    "                    .setOutputCol(f\"{col}_embeddings\")\n",
    "    embeddingsSentence = SentenceEmbeddings() \\\n",
    "                    .setInputCols([\"sentence\", f\"{col}_embeddings\"]) \\\n",
    "                    .setOutputCol(f\"{col}_embeddings\") \\\n",
    "                    .setPoolingStrategy(\"AVERAGE\")\n",
    "    bert_pipeline = Pipeline(stages=[document_assembler,\n",
    "                                        sentence,\n",
    "                                        tokenizer,\n",
    "                                        bert_embeddings,\n",
    "                                        embeddingsSentence\n",
    "                                        ])\n",
    "\n",
    "\n",
    "    model = bert_pipeline.fit(result)\n",
    "    result = model.transform(result)\n",
    "    result = result.drop(\"document\", \"sentence\", \"token\")\n"
   ]
  },
  {
   "cell_type": "code",
   "execution_count": 0,
   "metadata": {
    "application/vnd.databricks.v1+cell": {
     "cellMetadata": {
      "byteLimit": 2048000,
      "rowLimit": 10000
     },
     "inputWidgets": {},
     "nuid": "7a2c3e3b-3868-4366-b8c6-256127a978b5",
     "showTitle": false,
     "title": ""
    }
   },
   "outputs": [],
   "source": [
    "from pyspark.sql import functions as F\n",
    "for col in text_columns:\n",
    "    result = result.withColumn(col, F.col(f\"{col}_embeddings.embeddings\").getItem(0))"
   ]
  },
  {
   "cell_type": "code",
   "execution_count": 0,
   "metadata": {
    "application/vnd.databricks.v1+cell": {
     "cellMetadata": {
      "byteLimit": 2048000,
      "rowLimit": 10000
     },
     "inputWidgets": {},
     "nuid": "6fd76f14-5337-464f-b92d-495252708efc",
     "showTitle": false,
     "title": ""
    }
   },
   "outputs": [],
   "source": [
    "for col in text_columns:\n",
    "    result = result.drop(f\"{col}_embeddings\")"
   ]
  },
  {
   "cell_type": "code",
   "execution_count": 0,
   "metadata": {
    "application/vnd.databricks.v1+cell": {
     "cellMetadata": {
      "byteLimit": 2048000,
      "rowLimit": 10000
     },
     "inputWidgets": {},
     "nuid": "886e6688-f449-4754-9715-c4e214676f9b",
     "showTitle": false,
     "title": ""
    }
   },
   "outputs": [],
   "source": [
    "from pyspark.sql.functions import col, array, concat\n",
    "\n",
    "# Get the list of column names excluding 'id' and 'salary'\n",
    "columns_to_merge = [col_name for col_name in result.columns if col_name not in ['id', 'salary']]\n",
    "\n",
    "# Cast non-array columns to arrays of floats\n",
    "df = result.withColumn(\"total_experience_years\", array(col(\"total_experience_years\")))\n",
    "df = df.withColumn(\"education_length\", array(col(\"education_length\")))\n",
    "df = df.withColumn(\"recommendations_count\", array(col(\"recommendations_count\")))\n",
    "df = df.withColumn(\"followers\", array(col(\"followers\")))\n",
    "df = df.withColumn(\"number_of_languages\", array(col(\"number_of_languages\")))\n",
    "\n",
    "# Merge the selected columns into one array column\n",
    "df = df.withColumn(\"merged_array\", array(*[col(col_name) for col_name in columns_to_merge]))"
   ]
  },
  {
   "cell_type": "code",
   "execution_count": 0,
   "metadata": {
    "application/vnd.databricks.v1+cell": {
     "cellMetadata": {
      "byteLimit": 2048000,
      "rowLimit": 10000
     },
     "inputWidgets": {},
     "nuid": "4082e2c7-daa4-4cf8-8734-fcf91eb82a01",
     "showTitle": false,
     "title": ""
    }
   },
   "outputs": [],
   "source": [
    "from pyspark.sql.functions import col, array, concat, flatten\n",
    "df = df.withColumn(\"merged_array\", flatten(col(\"merged_array\")))"
   ]
  },
  {
   "cell_type": "code",
   "execution_count": 0,
   "metadata": {
    "application/vnd.databricks.v1+cell": {
     "cellMetadata": {
      "byteLimit": 2048000,
      "rowLimit": 10000
     },
     "inputWidgets": {},
     "nuid": "436ec99f-444d-414c-b329-66aebd9a6f97",
     "showTitle": false,
     "title": ""
    }
   },
   "outputs": [],
   "source": [
    "from pyspark.ml.feature import VectorIndexer\n",
    "from pyspark.ml.evaluation import RegressionEvaluator\n",
    "\n",
    "# Define a UDF to convert array<float> to vector\n",
    "array_to_vector_udf = udf(lambda arr: Vectors.dense(arr), VectorUDT())\n",
    "\n",
    "# Apply the UDF to create a vector column\n",
    "df = df.withColumn(\"features\", array_to_vector_udf(\"merged_array\"))\n"
   ]
  },
  {
   "cell_type": "code",
   "execution_count": 0,
   "metadata": {
    "application/vnd.databricks.v1+cell": {
     "cellMetadata": {
      "byteLimit": 2048000,
      "rowLimit": 10000
     },
     "inputWidgets": {},
     "nuid": "f6a45b25-3457-4ad6-8e8b-6b656709cce6",
     "showTitle": false,
     "title": ""
    }
   },
   "outputs": [],
   "source": [
    "# Make predictions\n",
    "predictions = final_xgb_model.transform(df)"
   ]
  },
  {
   "cell_type": "code",
   "execution_count": 0,
   "metadata": {
    "application/vnd.databricks.v1+cell": {
     "cellMetadata": {
      "byteLimit": 2048000,
      "rowLimit": 10000
     },
     "inputWidgets": {},
     "nuid": "e08197c0-fe93-4cd0-89b1-179d934f1449",
     "showTitle": false,
     "title": ""
    }
   },
   "outputs": [
    {
     "output_type": "display_data",
     "data": {
      "text/html": [
       "<style scoped>\n",
       "  .table-result-container {\n",
       "    max-height: 300px;\n",
       "    overflow: auto;\n",
       "  }\n",
       "  table, th, td {\n",
       "    border: 1px solid black;\n",
       "    border-collapse: collapse;\n",
       "  }\n",
       "  th, td {\n",
       "    padding: 5px;\n",
       "  }\n",
       "  th {\n",
       "    text-align: left;\n",
       "  }\n",
       "</style><div class='table-result-container'><table class='table-result'><thead style='background-color: white'><tr><th>salary</th><th>total_experience_years</th><th>education_length</th></tr></thead><tbody><tr><td>17.52</td><td>List(25.0)</td><td>List(2.0)</td></tr><tr><td>17.52</td><td>List(27.0)</td><td>List(2.0)</td></tr><tr><td>17.52</td><td>List(29.0)</td><td>List(2.0)</td></tr><tr><td>17.52</td><td>List(31.0)</td><td>List(2.0)</td></tr><tr><td>17.52</td><td>List(33.0)</td><td>List(2.0)</td></tr><tr><td>17.52</td><td>List(25.0)</td><td>List(3.0)</td></tr><tr><td>17.52</td><td>List(27.0)</td><td>List(3.0)</td></tr><tr><td>17.52</td><td>List(29.0)</td><td>List(3.0)</td></tr><tr><td>17.52</td><td>List(31.0)</td><td>List(3.0)</td></tr><tr><td>17.52</td><td>List(33.0)</td><td>List(3.0)</td></tr><tr><td>17.52</td><td>List(25.0)</td><td>List(4.0)</td></tr><tr><td>17.52</td><td>List(27.0)</td><td>List(4.0)</td></tr><tr><td>17.52</td><td>List(29.0)</td><td>List(4.0)</td></tr><tr><td>17.52</td><td>List(31.0)</td><td>List(4.0)</td></tr><tr><td>17.52</td><td>List(33.0)</td><td>List(4.0)</td></tr><tr><td>17.52</td><td>List(25.0)</td><td>List(5.0)</td></tr><tr><td>17.52</td><td>List(27.0)</td><td>List(5.0)</td></tr><tr><td>17.52</td><td>List(29.0)</td><td>List(5.0)</td></tr><tr><td>17.52</td><td>List(31.0)</td><td>List(5.0)</td></tr><tr><td>17.52</td><td>List(33.0)</td><td>List(5.0)</td></tr></tbody></table></div>"
      ]
     },
     "metadata": {
      "application/vnd.databricks.v1+output": {
       "addedWidgets": {},
       "aggData": [],
       "aggError": "",
       "aggOverflow": false,
       "aggSchema": [],
       "aggSeriesLimitReached": false,
       "aggType": "",
       "arguments": {},
       "columnCustomDisplayInfos": {},
       "data": [
        [
         17.52,
         [
          25.0
         ],
         [
          2.0
         ]
        ],
        [
         17.52,
         [
          27.0
         ],
         [
          2.0
         ]
        ],
        [
         17.52,
         [
          29.0
         ],
         [
          2.0
         ]
        ],
        [
         17.52,
         [
          31.0
         ],
         [
          2.0
         ]
        ],
        [
         17.52,
         [
          33.0
         ],
         [
          2.0
         ]
        ],
        [
         17.52,
         [
          25.0
         ],
         [
          3.0
         ]
        ],
        [
         17.52,
         [
          27.0
         ],
         [
          3.0
         ]
        ],
        [
         17.52,
         [
          29.0
         ],
         [
          3.0
         ]
        ],
        [
         17.52,
         [
          31.0
         ],
         [
          3.0
         ]
        ],
        [
         17.52,
         [
          33.0
         ],
         [
          3.0
         ]
        ],
        [
         17.52,
         [
          25.0
         ],
         [
          4.0
         ]
        ],
        [
         17.52,
         [
          27.0
         ],
         [
          4.0
         ]
        ],
        [
         17.52,
         [
          29.0
         ],
         [
          4.0
         ]
        ],
        [
         17.52,
         [
          31.0
         ],
         [
          4.0
         ]
        ],
        [
         17.52,
         [
          33.0
         ],
         [
          4.0
         ]
        ],
        [
         17.52,
         [
          25.0
         ],
         [
          5.0
         ]
        ],
        [
         17.52,
         [
          27.0
         ],
         [
          5.0
         ]
        ],
        [
         17.52,
         [
          29.0
         ],
         [
          5.0
         ]
        ],
        [
         17.52,
         [
          31.0
         ],
         [
          5.0
         ]
        ],
        [
         17.52,
         [
          33.0
         ],
         [
          5.0
         ]
        ]
       ],
       "datasetInfos": [],
       "dbfsResultPath": null,
       "isJsonSchema": true,
       "metadata": {},
       "overflow": false,
       "plotOptions": {
        "customPlotOptions": {},
        "displayType": "table",
        "pivotAggregation": null,
        "pivotColumns": null,
        "xColumns": null,
        "yColumns": null
       },
       "removedWidgets": [],
       "schema": [
        {
         "metadata": "{}",
         "name": "salary",
         "type": "\"float\""
        },
        {
         "metadata": "{}",
         "name": "total_experience_years",
         "type": "{\"type\":\"array\",\"elementType\":\"double\",\"containsNull\":true}"
        },
        {
         "metadata": "{}",
         "name": "education_length",
         "type": "{\"type\":\"array\",\"elementType\":\"double\",\"containsNull\":false}"
        }
       ],
       "type": "table"
      }
     },
     "output_type": "display_data"
    }
   ],
   "source": [
    "display(predictions.select('salary', 'total_experience_years', 'education_length'))"
   ]
  },
  {
   "cell_type": "code",
   "execution_count": 0,
   "metadata": {
    "application/vnd.databricks.v1+cell": {
     "cellMetadata": {
      "byteLimit": 2048000,
      "rowLimit": 10000
     },
     "inputWidgets": {},
     "nuid": "73f50af9-a8cd-412f-8d38-b8507ca5a13d",
     "showTitle": false,
     "title": ""
    }
   },
   "outputs": [
    {
     "output_type": "display_data",
     "data": {
      "text/html": [
       "<style scoped>\n",
       "  .table-result-container {\n",
       "    max-height: 300px;\n",
       "    overflow: auto;\n",
       "  }\n",
       "  table, th, td {\n",
       "    border: 1px solid black;\n",
       "    border-collapse: collapse;\n",
       "  }\n",
       "  th, td {\n",
       "    padding: 5px;\n",
       "  }\n",
       "  th {\n",
       "    text-align: left;\n",
       "  }\n",
       "</style><div class='table-result-container'><table class='table-result'><thead style='background-color: white'><tr><th>position</th><th>recommendations_count</th><th>followers</th><th>salary</th><th>experience_description</th><th>education_length</th><th>total_experience_years</th><th>education</th><th>number_of_languages</th></tr></thead><tbody><tr><td>Assurity Title</td><td>1.0</td><td>2000.0</td><td>17.52</td><td>As leaders in the title services industry, we’ve built the experience and relationships that set us apart from other title companies. Our client list is as vibrant and diverse as the cities we service in Florida. Whether you are a realtor, lender, or consumer, we help you with our full-spectrum title service and negotiation processes. Our agency offers a broad spectrum of title services that span Tampa, as well as the state of Florida. When you work with Assurity Title, you will experience the difference we make in easing your mind before closing on a new investment. Whether you need title searches or insurance and legal document preparation, we can help you with your next real estate transaction. We provide the following title services: Residential and commercial closings Escrow services FSBO Title searches Title insurance Legal document preparation Whether you are ready to start the process of title services and closing or only have a question, our experts are always available to help. At Assurity Title LLC, you never have to worry about unpleasant surprises when you are looking into a real estate transaction. We strive to provide a superior closing experience for all applicable parties. Our transparent and thorough title services ensure that no underlying issues exist with the property. If any complications do come up, we take action to resolve problems quickly and efficiently. Our title company’s ultimate goal is to protect both buyers and sellers with urgency, integrity, and care. If you’re ready to schedule an appointment, get a quote, or request more information! Contact us now at (813) 556-7501. Show less</td><td>2.0</td><td>25.0</td><td>Bachelor of Education - BEd in Education from University of South Florida</td><td>0.0</td></tr></tbody></table></div>"
      ]
     },
     "metadata": {
      "application/vnd.databricks.v1+output": {
       "addedWidgets": {},
       "aggData": [],
       "aggError": "",
       "aggOverflow": false,
       "aggSchema": [],
       "aggSeriesLimitReached": false,
       "aggType": "",
       "arguments": {},
       "columnCustomDisplayInfos": {},
       "data": [
        [
         "Assurity Title",
         1.0,
         2000.0,
         17.52,
         "As leaders in the title services industry, we’ve built the experience and relationships that set us apart from other title companies. Our client list is as vibrant and diverse as the cities we service in Florida. Whether you are a realtor, lender, or consumer, we help you with our full-spectrum title service and negotiation processes. Our agency offers a broad spectrum of title services that span Tampa, as well as the state of Florida. When you work with Assurity Title, you will experience the difference we make in easing your mind before closing on a new investment. Whether you need title searches or insurance and legal document preparation, we can help you with your next real estate transaction. We provide the following title services: Residential and commercial closings Escrow services FSBO Title searches Title insurance Legal document preparation Whether you are ready to start the process of title services and closing or only have a question, our experts are always available to help. At Assurity Title LLC, you never have to worry about unpleasant surprises when you are looking into a real estate transaction. We strive to provide a superior closing experience for all applicable parties. Our transparent and thorough title services ensure that no underlying issues exist with the property. If any complications do come up, we take action to resolve problems quickly and efficiently. Our title company’s ultimate goal is to protect both buyers and sellers with urgency, integrity, and care. If you’re ready to schedule an appointment, get a quote, or request more information! Contact us now at (813) 556-7501. Show less",
         2.0,
         25.0,
         "Bachelor of Education - BEd in Education from University of South Florida",
         0.0
        ]
       ],
       "datasetInfos": [],
       "dbfsResultPath": null,
       "isJsonSchema": true,
       "metadata": {},
       "overflow": false,
       "plotOptions": {
        "customPlotOptions": {},
        "displayType": "table",
        "pivotAggregation": null,
        "pivotColumns": null,
        "xColumns": null,
        "yColumns": null
       },
       "removedWidgets": [],
       "schema": [
        {
         "metadata": "{}",
         "name": "position",
         "type": "\"string\""
        },
        {
         "metadata": "{}",
         "name": "recommendations_count",
         "type": "\"float\""
        },
        {
         "metadata": "{}",
         "name": "followers",
         "type": "\"float\""
        },
        {
         "metadata": "{}",
         "name": "salary",
         "type": "\"float\""
        },
        {
         "metadata": "{}",
         "name": "experience_description",
         "type": "\"string\""
        },
        {
         "metadata": "{}",
         "name": "education_length",
         "type": "\"float\""
        },
        {
         "metadata": "{}",
         "name": "total_experience_years",
         "type": "\"float\""
        },
        {
         "metadata": "{}",
         "name": "education",
         "type": "\"string\""
        },
        {
         "metadata": "{}",
         "name": "number_of_languages",
         "type": "\"float\""
        }
       ],
       "type": "table"
      }
     },
     "output_type": "display_data"
    }
   ],
   "source": [
    "display(result_df)"
   ]
  },
  {
   "cell_type": "code",
   "execution_count": 0,
   "metadata": {
    "application/vnd.databricks.v1+cell": {
     "cellMetadata": {},
     "inputWidgets": {},
     "nuid": "c43c3b2a-4861-4202-82d2-3af47a15f54f",
     "showTitle": false,
     "title": ""
    }
   },
   "outputs": [],
   "source": []
  }
 ],
 "metadata": {
  "application/vnd.databricks.v1+notebook": {
   "dashboards": [],
   "language": "python",
   "notebookMetadata": {
    "mostRecentlyExecutedCommandWithImplicitDF": {
     "commandId": 3791678015591622,
     "dataframes": [
      "_sqldf"
     ]
    },
    "pythonIndentUnit": 4
   },
   "notebookName": "preprocessing_analysis_synthesize_train_inference",
   "widgets": {}
  }
 },
 "nbformat": 4,
 "nbformat_minor": 0
}
